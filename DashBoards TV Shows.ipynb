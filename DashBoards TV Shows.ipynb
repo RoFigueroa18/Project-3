{
 "cells": [
  {
   "cell_type": "code",
   "execution_count": 1,
   "metadata": {},
   "outputs": [],
   "source": [
    "import pandas as pd\n",
    "import numpy as np\n",
    "import matplotlib.pyplot as plt\n",
    "%matplotlib inline\n",
    "import matplotlib.image as mpimg\n",
    "import math\n",
    "\n",
    "from matplotlib.offsetbox import (TextArea, DrawingArea, OffsetImage,\n",
    "                                  AnnotationBbox)\n",
    "\n",
    "from IPython.display import Image\n",
    "from colorama import Fore, Back, Style\n",
    "y_ = Fore.YELLOW\n",
    "r_ = Fore.RED\n",
    "g_ = Fore.GREEN\n",
    "b_ = Fore.BLUE\n",
    "m_ = Fore.MAGENTA\n",
    "sr_ = Style.RESET_ALL"
   ]
  },
  {
   "cell_type": "code",
   "execution_count": 2,
   "metadata": {},
   "outputs": [],
   "source": [
    "import seaborn as sns\n",
    "import plotly.express as px\n",
    "import plotly.graph_objects as go\n",
    "from plotly.colors import n_colors\n",
    "from plotly.subplots import make_subplots"
   ]
  },
  {
   "cell_type": "code",
   "execution_count": 3,
   "metadata": {},
   "outputs": [],
   "source": [
    "custom_colors = [\"#ff6b6b\",\"#95d5b2\",\"#a2d2ff\",\"#72efdd\"]\n",
    "customPalette = sns.set_palette(sns.color_palette(custom_colors))"
   ]
  },
  {
   "cell_type": "code",
   "execution_count": 4,
   "metadata": {},
   "outputs": [
    {
     "data": {
      "image/png": "[encoded data removed]",
      "text/plain": [
       "<Figure size 400x100 with 1 Axes>"
      ]
     },
     "metadata": {},
     "output_type": "display_data"
    }
   ],
   "source": [
    "sns.palplot(sns.color_palette(custom_colors),size=1)"
   ]
  },
  {
   "cell_type": "code",
   "execution_count": 5,
   "metadata": {},
   "outputs": [
    {
     "data": {
      "image/png": "[encoded data removed]",
      "text/plain": [
       "<Figure size 600x100 with 1 Axes>"
      ]
     },
     "metadata": {},
     "output_type": "display_data"
    }
   ],
   "source": [
    "netflix_p = sns.light_palette(custom_colors[0], reverse=True)\n",
    "sns.palplot(sns.color_palette(netflix_p),size=1)"
   ]
  },
  {
   "cell_type": "code",
   "execution_count": 6,
   "metadata": {},
   "outputs": [
    {
     "data": {
      "image/png": "[encoded data removed]",
      "text/plain": [
       "<Figure size 600x100 with 1 Axes>"
      ]
     },
     "metadata": {},
     "output_type": "display_data"
    }
   ],
   "source": [
    "hulu_p = sns.light_palette(custom_colors[1], reverse=True)\n",
    "sns.palplot(sns.color_palette(hulu_p),size=1)"
   ]
  },
  {
   "cell_type": "code",
   "execution_count": 7,
   "metadata": {},
   "outputs": [
    {
     "data": {
      "image/png": "[encoded data removed]",
      "text/plain": [
       "<Figure size 600x100 with 1 Axes>"
      ]
     },
     "metadata": {},
     "output_type": "display_data"
    }
   ],
   "source": [
    "\n",
    "prime_p = sns.light_palette(custom_colors[2], reverse=True)\n",
    "sns.palplot(sns.color_palette(prime_p),size=1)"
   ]
  },
  {
   "cell_type": "code",
   "execution_count": 8,
   "metadata": {},
   "outputs": [
    {
     "data": {
      "image/png": "[encoded data removed]",
      "text/plain": [
       "<Figure size 600x100 with 1 Axes>"
      ]
     },
     "metadata": {},
     "output_type": "display_data"
    }
   ],
   "source": [
    "disney_p = sns.dark_palette(custom_colors[3], reverse=True)\n",
    "sns.palplot(sns.color_palette(disney_p),size=1)"
   ]
  },
  {
   "cell_type": "code",
   "execution_count": 9,
   "metadata": {},
   "outputs": [],
   "source": [
    "df_tv = pd.read_csv('tv_shows.csv')"
   ]
  },
  {
   "cell_type": "code",
   "execution_count": 11,
   "metadata": {},
   "outputs": [
    {
     "data": {
      "text/html": [
       "<div>\n",
       "<style scoped>\n",
       "    .dataframe tbody tr th:only-of-type {\n",
       "        vertical-align: middle;\n",
       "    }\n",
       "\n",
       "    .dataframe tbody tr th {\n",
       "        vertical-align: top;\n",
       "    }\n",
       "\n",
       "    .dataframe thead th {\n",
       "        text-align: right;\n",
       "    }\n",
       "</style>\n",
       "<table border=\"1\" class=\"dataframe\">\n",
       "  <thead>\n",
       "    <tr style=\"text-align: right;\">\n",
       "      <th></th>\n",
       "      <th>count</th>\n",
       "      <th>ID</th>\n",
       "      <th>Title</th>\n",
       "      <th>Year</th>\n",
       "      <th>Age</th>\n",
       "      <th>IMDb</th>\n",
       "      <th>rottentomatoes</th>\n",
       "      <th>Netflix</th>\n",
       "      <th>Hulu</th>\n",
       "      <th>PrimeVideo</th>\n",
       "      <th>Disney</th>\n",
       "      <th>Type</th>\n",
       "    </tr>\n",
       "  </thead>\n",
       "  <tbody>\n",
       "    <tr>\n",
       "      <th>0</th>\n",
       "      <td>0</td>\n",
       "      <td>1</td>\n",
       "      <td>Breaking Bad</td>\n",
       "      <td>2008</td>\n",
       "      <td>18+</td>\n",
       "      <td>9.4/10</td>\n",
       "      <td>100/100</td>\n",
       "      <td>1</td>\n",
       "      <td>0</td>\n",
       "      <td>0</td>\n",
       "      <td>0</td>\n",
       "      <td>1</td>\n",
       "    </tr>\n",
       "    <tr>\n",
       "      <th>1</th>\n",
       "      <td>1</td>\n",
       "      <td>2</td>\n",
       "      <td>Stranger Things</td>\n",
       "      <td>2016</td>\n",
       "      <td>16+</td>\n",
       "      <td>8.7/10</td>\n",
       "      <td>96/100</td>\n",
       "      <td>1</td>\n",
       "      <td>0</td>\n",
       "      <td>0</td>\n",
       "      <td>0</td>\n",
       "      <td>1</td>\n",
       "    </tr>\n",
       "    <tr>\n",
       "      <th>2</th>\n",
       "      <td>2</td>\n",
       "      <td>3</td>\n",
       "      <td>Attack on Titan</td>\n",
       "      <td>2013</td>\n",
       "      <td>18+</td>\n",
       "      <td>9.0/10</td>\n",
       "      <td>95/100</td>\n",
       "      <td>1</td>\n",
       "      <td>1</td>\n",
       "      <td>0</td>\n",
       "      <td>0</td>\n",
       "      <td>1</td>\n",
       "    </tr>\n",
       "    <tr>\n",
       "      <th>3</th>\n",
       "      <td>3</td>\n",
       "      <td>4</td>\n",
       "      <td>Better Call Saul</td>\n",
       "      <td>2015</td>\n",
       "      <td>18+</td>\n",
       "      <td>8.8/10</td>\n",
       "      <td>94/100</td>\n",
       "      <td>1</td>\n",
       "      <td>0</td>\n",
       "      <td>0</td>\n",
       "      <td>0</td>\n",
       "      <td>1</td>\n",
       "    </tr>\n",
       "    <tr>\n",
       "      <th>4</th>\n",
       "      <td>4</td>\n",
       "      <td>5</td>\n",
       "      <td>Dark</td>\n",
       "      <td>2017</td>\n",
       "      <td>16+</td>\n",
       "      <td>8.8/10</td>\n",
       "      <td>93/100</td>\n",
       "      <td>1</td>\n",
       "      <td>0</td>\n",
       "      <td>0</td>\n",
       "      <td>0</td>\n",
       "      <td>1</td>\n",
       "    </tr>\n",
       "  </tbody>\n",
       "</table>\n",
       "</div>"
      ],
      "text/plain": [
       "   count  ID             Title  Year  Age    IMDb rottentomatoes  Netflix  \\\n",
       "0      0   1      Breaking Bad  2008  18+  9.4/10        100/100        1   \n",
       "1      1   2   Stranger Things  2016  16+  8.7/10         96/100        1   \n",
       "2      2   3   Attack on Titan  2013  18+  9.0/10         95/100        1   \n",
       "3      3   4  Better Call Saul  2015  18+  8.8/10         94/100        1   \n",
       "4      4   5              Dark  2017  16+  8.8/10         93/100        1   \n",
       "\n",
       "   Hulu  PrimeVideo  Disney  Type  \n",
       "0     0           0       0     1  \n",
       "1     0           0       0     1  \n",
       "2     1           0       0     1  \n",
       "3     0           0       0     1  \n",
       "4     0           0       0     1  "
      ]
     },
     "execution_count": 11,
     "metadata": {},
     "output_type": "execute_result"
    }
   ],
   "source": [
    "df_tv = df_tv.dropna() \n",
    "df_tv.head(5)"
   ]
  },
  {
   "cell_type": "code",
   "execution_count": 12,
   "metadata": {},
   "outputs": [],
   "source": [
    "def splitting(dataframe,col):\n",
    "    result = dataframe[col].str.get_dummies(',')\n",
    "    print('Done!')\n",
    "    return result"
   ]
  },
  {
   "cell_type": "code",
   "execution_count": 13,
   "metadata": {},
   "outputs": [],
   "source": [
    "def val_sum(df,c):\n",
    "    return df[c].sum(axis=0)"
   ]
  },
  {
   "cell_type": "code",
   "execution_count": 14,
   "metadata": {},
   "outputs": [],
   "source": [
    "val_counts = []\n",
    "dfs = [df_tv]\n",
    "cols = ['Netflix','Hulu','PrimeVideo','Disney']\n",
    "\n",
    "for x in dfs:\n",
    "    for y in cols:\n",
    "        val_counts.append(val_sum(x,y))"
   ]
  },
  {
   "cell_type": "code",
   "execution_count": 15,
   "metadata": {},
   "outputs": [
    {
     "data": {
      "text/plain": [
       "[1875, 1418, 1182, 315]"
      ]
     },
     "execution_count": 15,
     "metadata": {},
     "output_type": "execute_result"
    }
   ],
   "source": [
    "val_counts"
   ]
  },
  {
   "cell_type": "code",
   "execution_count": 16,
   "metadata": {},
   "outputs": [],
   "source": [
    "def donut(i,df,sizes,title):\n",
    "    plt.subplot(i)\n",
    "    plt.pie(sizes, explode=explode, labels=labels, colors=colors,\n",
    "                autopct='%1.1f%%', shadow=True)\n",
    "\n",
    "    centre_circle = plt.Circle((0,0),0.5,color='black', fc='white',linewidth=1.25)\n",
    "    fig = plt.gcf()\n",
    "    fig.gca().add_artist(centre_circle)\n",
    "    plt.title(title)\n",
    "    plt.axis('equal')"
   ]
  },
  {
   "cell_type": "code",
   "execution_count": 17,
   "metadata": {},
   "outputs": [
    {
     "name": "stdout",
     "output_type": "stream",
     "text": [
      "val_counts: [1875, 1418, 1182, 315]\n",
      "Length of val_counts: 4\n"
     ]
    },
    {
     "data": {
      "image/png": "[encoded data removed]",
      "text/plain": [
       "<Figure size 1600x800 with 1 Axes>"
      ]
     },
     "metadata": {},
     "output_type": "display_data"
    }
   ],
   "source": [
    "print(\"val_counts:\", val_counts)\n",
    "print(\"Length of val_counts:\", len(val_counts))\n",
    "\n",
    "fig, ax = plt.subplots(figsize=(16, 8))\n",
    "\n",
    "labels = ['Netflix', 'Hulu', 'Prime', 'Disney+']\n",
    "sizes = [val_counts[0], val_counts[1], val_counts[2], val_counts[3]]\n",
    "colors = custom_colors\n",
    "explode = (0, 0, 0, 0)\n",
    "\n",
    "wedges, texts, autotexts = ax.pie(sizes, labels=labels, autopct='%1.1f%%', startangle=140, colors=colors, explode=explode, wedgeprops=dict(width=0.3, edgecolor='w'))\n",
    "\n",
    "ax.axis('equal')\n",
    "\n",
    "plt.subplots_adjust(left=0.3, right=0.7, top=0.7, bottom=0.3)\n",
    "plt.title('TV shows', fontsize=20)\n",
    "plt.show()\n",
    "\n",
    "\n"
   ]
  },
  {
   "cell_type": "code",
   "execution_count": 18,
   "metadata": {},
   "outputs": [
    {
     "data": {
      "application/vnd.plotly.v1+json": {
       "config": {
        "plotlyServerURL": "https://plot.ly"
       },
       "data": [
        {
         "domain": {
          "x": [
           0.5,
           1
          ],
          "y": [
           0,
           0.4
          ]
         },
         "mode": "number",
         "number": {
          "font": {
           "color": "#a2d2ff",
           "size": 100
          }
         },
         "title": {
          "text": "TV Shows<br><span style='font-size:0.8em;color:gray'>On Netflix</span>"
         },
         "type": "indicator",
         "value": 1971
        },
        {
         "domain": {
          "x": [
           0,
           0.5
          ],
          "y": [
           0,
           0.4
          ]
         },
         "mode": "number",
         "number": {
          "font": {
           "color": "#a2d2ff",
           "size": 100
          }
         },
         "title": {
          "text": "TV Shows<br><span style='font-size:0.8em;color:gray'>On Hulu</span>"
         },
         "type": "indicator",
         "value": 1621
        },
        {
         "domain": {
          "x": [
           0,
           0.5
          ],
          "y": [
           0.5,
           1
          ]
         },
         "mode": "number",
         "number": {
          "font": {
           "color": "#a2d2ff",
           "size": 100
          }
         },
         "title": {
          "text": "TV Shows<br><span style='font-size:0.8em;color:gray'>On Prime</span>"
         },
         "type": "indicator",
         "value": 1831
        },
        {
         "domain": {
          "x": [
           0.5,
           1
          ],
          "y": [
           0.5,
           1
          ]
         },
         "mode": "number",
         "number": {
          "font": {
           "color": "#a2d2ff",
           "size": 100
          }
         },
         "title": {
          "text": "TV Shows<br><span style='font-size:0.8em;color:gray'>On Disney+</span>"
         },
         "type": "indicator",
         "value": 351
        }
       ],
       "layout": {
        "height": 800,
        "template": {
         "data": {
          "bar": [
           {
            "error_x": {
             "color": "#2a3f5f"
            },
            "error_y": {
             "color": "#2a3f5f"
            },
            "marker": {
             "line": {
              "color": "#E5ECF6",
              "width": 0.5
             },
             "pattern": {
              "fillmode": "overlay",
              "size": 10,
              "solidity": 0.2
             }
            },
            "type": "bar"
           }
          ],
          "barpolar": [
           {
            "marker": {
             "line": {
              "color": "#E5ECF6",
              "width": 0.5
             },
             "pattern": {
              "fillmode": "overlay",
              "size": 10,
              "solidity": 0.2
             }
            },
            "type": "barpolar"
           }
          ],
          "carpet": [
           {
            "aaxis": {
             "endlinecolor": "#2a3f5f",
             "gridcolor": "white",
             "linecolor": "white",
             "minorgridcolor": "white",
             "startlinecolor": "#2a3f5f"
            },
            "baxis": {
             "endlinecolor": "#2a3f5f",
             "gridcolor": "white",
             "linecolor": "white",
             "minorgridcolor": "white",
             "startlinecolor": "#2a3f5f"
            },
            "type": "carpet"
           }
          ],
          "choropleth": [
           {
            "colorbar": {
             "outlinewidth": 0,
             "ticks": ""
            },
            "type": "choropleth"
           }
          ],
          "contour": [
           {
            "colorbar": {
             "outlinewidth": 0,
             "ticks": ""
            },
            "colorscale": [
             [
              0,
              "#0d0887"
             ],
             [
              0.1111111111111111,
              "#46039f"
             ],
             [
              0.2222222222222222,
              "#7201a8"
             ],
             [
              0.3333333333333333,
              "#9c179e"
             ],
             [
              0.4444444444444444,
              "#bd3786"
             ],
             [
              0.5555555555555556,
              "#d8576b"
             ],
             [
              0.6666666666666666,
              "#ed7953"
             ],
             [
              0.7777777777777778,
              "#fb9f3a"
             ],
             [
              0.8888888888888888,
              "#fdca26"
             ],
             [
              1,
              "#f0f921"
             ]
            ],
            "type": "contour"
           }
          ],
          "contourcarpet": [
           {
            "colorbar": {
             "outlinewidth": 0,
             "ticks": ""
            },
            "type": "contourcarpet"
           }
          ],
          "heatmap": [
           {
            "colorbar": {
             "outlinewidth": 0,
             "ticks": ""
            },
            "colorscale": [
             [
              0,
              "#0d0887"
             ],
             [
              0.1111111111111111,
              "#46039f"
             ],
             [
              0.2222222222222222,
              "#7201a8"
             ],
             [
              0.3333333333333333,
              "#9c179e"
             ],
             [
              0.4444444444444444,
              "#bd3786"
             ],
             [
              0.5555555555555556,
              "#d8576b"
             ],
             [
              0.6666666666666666,
              "#ed7953"
             ],
             [
              0.7777777777777778,
              "#fb9f3a"
             ],
             [
              0.8888888888888888,
              "#fdca26"
             ],
             [
              1,
              "#f0f921"
             ]
            ],
            "type": "heatmap"
           }
          ],
          "heatmapgl": [
           {
            "colorbar": {
             "outlinewidth": 0,
             "ticks": ""
            },
            "colorscale": [
             [
              0,
              "#0d0887"
             ],
             [
              0.1111111111111111,
              "#46039f"
             ],
             [
              0.2222222222222222,
              "#7201a8"
             ],
             [
              0.3333333333333333,
              "#9c179e"
             ],
             [
              0.4444444444444444,
              "#bd3786"
             ],
             [
              0.5555555555555556,
              "#d8576b"
             ],
             [
              0.6666666666666666,
              "#ed7953"
             ],
             [
              0.7777777777777778,
              "#fb9f3a"
             ],
             [
              0.8888888888888888,
              "#fdca26"
             ],
             [
              1,
              "#f0f921"
             ]
            ],
            "type": "heatmapgl"
           }
          ],
          "histogram": [
           {
            "marker": {
             "pattern": {
              "fillmode": "overlay",
              "size": 10,
              "solidity": 0.2
             }
            },
            "type": "histogram"
           }
          ],
          "histogram2d": [
           {
            "colorbar": {
             "outlinewidth": 0,
             "ticks": ""
            },
            "colorscale": [
             [
              0,
              "#0d0887"
             ],
             [
              0.1111111111111111,
              "#46039f"
             ],
             [
              0.2222222222222222,
              "#7201a8"
             ],
             [
              0.3333333333333333,
              "#9c179e"
             ],
             [
              0.4444444444444444,
              "#bd3786"
             ],
             [
              0.5555555555555556,
              "#d8576b"
             ],
             [
              0.6666666666666666,
              "#ed7953"
             ],
             [
              0.7777777777777778,
              "#fb9f3a"
             ],
             [
              0.8888888888888888,
              "#fdca26"
             ],
             [
              1,
              "#f0f921"
             ]
            ],
            "type": "histogram2d"
           }
          ],
          "histogram2dcontour": [
           {
            "colorbar": {
             "outlinewidth": 0,
             "ticks": ""
            },
            "colorscale": [
             [
              0,
              "#0d0887"
             ],
             [
              0.1111111111111111,
              "#46039f"
             ],
             [
              0.2222222222222222,
              "#7201a8"
             ],
             [
              0.3333333333333333,
              "#9c179e"
             ],
             [
              0.4444444444444444,
              "#bd3786"
             ],
             [
              0.5555555555555556,
              "#d8576b"
             ],
             [
              0.6666666666666666,
              "#ed7953"
             ],
             [
              0.7777777777777778,
              "#fb9f3a"
             ],
             [
              0.8888888888888888,
              "#fdca26"
             ],
             [
              1,
              "#f0f921"
             ]
            ],
            "type": "histogram2dcontour"
           }
          ],
          "mesh3d": [
           {
            "colorbar": {
             "outlinewidth": 0,
             "ticks": ""
            },
            "type": "mesh3d"
           }
          ],
          "parcoords": [
           {
            "line": {
             "colorbar": {
              "outlinewidth": 0,
              "ticks": ""
             }
            },
            "type": "parcoords"
           }
          ],
          "pie": [
           {
            "automargin": true,
            "type": "pie"
           }
          ],
          "scatter": [
           {
            "fillpattern": {
             "fillmode": "overlay",
             "size": 10,
             "solidity": 0.2
            },
            "type": "scatter"
           }
          ],
          "scatter3d": [
           {
            "line": {
             "colorbar": {
              "outlinewidth": 0,
              "ticks": ""
             }
            },
            "marker": {
             "colorbar": {
              "outlinewidth": 0,
              "ticks": ""
             }
            },
            "type": "scatter3d"
           }
          ],
          "scattercarpet": [
           {
            "marker": {
             "colorbar": {
              "outlinewidth": 0,
              "ticks": ""
             }
            },
            "type": "scattercarpet"
           }
          ],
          "scattergeo": [
           {
            "marker": {
             "colorbar": {
              "outlinewidth": 0,
              "ticks": ""
             }
            },
            "type": "scattergeo"
           }
          ],
          "scattergl": [
           {
            "marker": {
             "colorbar": {
              "outlinewidth": 0,
              "ticks": ""
             }
            },
            "type": "scattergl"
           }
          ],
          "scattermapbox": [
           {
            "marker": {
             "colorbar": {
              "outlinewidth": 0,
              "ticks": ""
             }
            },
            "type": "scattermapbox"
           }
          ],
          "scatterpolar": [
           {
            "marker": {
             "colorbar": {
              "outlinewidth": 0,
              "ticks": ""
             }
            },
            "type": "scatterpolar"
           }
          ],
          "scatterpolargl": [
           {
            "marker": {
             "colorbar": {
              "outlinewidth": 0,
              "ticks": ""
             }
            },
            "type": "scatterpolargl"
           }
          ],
          "scatterternary": [
           {
            "marker": {
             "colorbar": {
              "outlinewidth": 0,
              "ticks": ""
             }
            },
            "type": "scatterternary"
           }
          ],
          "surface": [
           {
            "colorbar": {
             "outlinewidth": 0,
             "ticks": ""
            },
            "colorscale": [
             [
              0,
              "#0d0887"
             ],
             [
              0.1111111111111111,
              "#46039f"
             ],
             [
              0.2222222222222222,
              "#7201a8"
             ],
             [
              0.3333333333333333,
              "#9c179e"
             ],
             [
              0.4444444444444444,
              "#bd3786"
             ],
             [
              0.5555555555555556,
              "#d8576b"
             ],
             [
              0.6666666666666666,
              "#ed7953"
             ],
             [
              0.7777777777777778,
              "#fb9f3a"
             ],
             [
              0.8888888888888888,
              "#fdca26"
             ],
             [
              1,
              "#f0f921"
             ]
            ],
            "type": "surface"
           }
          ],
          "table": [
           {
            "cells": {
             "fill": {
              "color": "#EBF0F8"
             },
             "line": {
              "color": "white"
             }
            },
            "header": {
             "fill": {
              "color": "#C8D4E3"
             },
             "line": {
              "color": "white"
             }
            },
            "type": "table"
           }
          ]
         },
         "layout": {
          "annotationdefaults": {
           "arrowcolor": "#2a3f5f",
           "arrowhead": 0,
           "arrowwidth": 1
          },
          "autotypenumbers": "strict",
          "coloraxis": {
           "colorbar": {
            "outlinewidth": 0,
            "ticks": ""
           }
          },
          "colorscale": {
           "diverging": [
            [
             0,
             "#8e0152"
            ],
            [
             0.1,
             "#c51b7d"
            ],
            [
             0.2,
             "#de77ae"
            ],
            [
             0.3,
             "#f1b6da"
            ],
            [
             0.4,
             "#fde0ef"
            ],
            [
             0.5,
             "#f7f7f7"
            ],
            [
             0.6,
             "#e6f5d0"
            ],
            [
             0.7,
             "#b8e186"
            ],
            [
             0.8,
             "#7fbc41"
            ],
            [
             0.9,
             "#4d9221"
            ],
            [
             1,
             "#276419"
            ]
           ],
           "sequential": [
            [
             0,
             "#0d0887"
            ],
            [
             0.1111111111111111,
             "#46039f"
            ],
            [
             0.2222222222222222,
             "#7201a8"
            ],
            [
             0.3333333333333333,
             "#9c179e"
            ],
            [
             0.4444444444444444,
             "#bd3786"
            ],
            [
             0.5555555555555556,
             "#d8576b"
            ],
            [
             0.6666666666666666,
             "#ed7953"
            ],
            [
             0.7777777777777778,
             "#fb9f3a"
            ],
            [
             0.8888888888888888,
             "#fdca26"
            ],
            [
             1,
             "#f0f921"
            ]
           ],
           "sequentialminus": [
            [
             0,
             "#0d0887"
            ],
            [
             0.1111111111111111,
             "#46039f"
            ],
            [
             0.2222222222222222,
             "#7201a8"
            ],
            [
             0.3333333333333333,
             "#9c179e"
            ],
            [
             0.4444444444444444,
             "#bd3786"
            ],
            [
             0.5555555555555556,
             "#d8576b"
            ],
            [
             0.6666666666666666,
             "#ed7953"
            ],
            [
             0.7777777777777778,
             "#fb9f3a"
            ],
            [
             0.8888888888888888,
             "#fdca26"
            ],
            [
             1,
             "#f0f921"
            ]
           ]
          },
          "colorway": [
           "#636efa",
           "#EF553B",
           "#00cc96",
           "#ab63fa",
           "#FFA15A",
           "#19d3f3",
           "#FF6692",
           "#B6E880",
           "#FF97FF",
           "#FECB52"
          ],
          "font": {
           "color": "#2a3f5f"
          },
          "geo": {
           "bgcolor": "white",
           "lakecolor": "white",
           "landcolor": "#E5ECF6",
           "showlakes": true,
           "showland": true,
           "subunitcolor": "white"
          },
          "hoverlabel": {
           "align": "left"
          },
          "hovermode": "closest",
          "mapbox": {
           "style": "light"
          },
          "paper_bgcolor": "white",
          "plot_bgcolor": "#E5ECF6",
          "polar": {
           "angularaxis": {
            "gridcolor": "white",
            "linecolor": "white",
            "ticks": ""
           },
           "bgcolor": "#E5ECF6",
           "radialaxis": {
            "gridcolor": "white",
            "linecolor": "white",
            "ticks": ""
           }
          },
          "scene": {
           "xaxis": {
            "backgroundcolor": "#E5ECF6",
            "gridcolor": "white",
            "gridwidth": 2,
            "linecolor": "white",
            "showbackground": true,
            "ticks": "",
            "zerolinecolor": "white"
           },
           "yaxis": {
            "backgroundcolor": "#E5ECF6",
            "gridcolor": "white",
            "gridwidth": 2,
            "linecolor": "white",
            "showbackground": true,
            "ticks": "",
            "zerolinecolor": "white"
           },
           "zaxis": {
            "backgroundcolor": "#E5ECF6",
            "gridcolor": "white",
            "gridwidth": 2,
            "linecolor": "white",
            "showbackground": true,
            "ticks": "",
            "zerolinecolor": "white"
           }
          },
          "shapedefaults": {
           "line": {
            "color": "#2a3f5f"
           }
          },
          "ternary": {
           "aaxis": {
            "gridcolor": "white",
            "linecolor": "white",
            "ticks": ""
           },
           "baxis": {
            "gridcolor": "white",
            "linecolor": "white",
            "ticks": ""
           },
           "bgcolor": "#E5ECF6",
           "caxis": {
            "gridcolor": "white",
            "linecolor": "white",
            "ticks": ""
           }
          },
          "title": {
           "x": 0.05
          },
          "xaxis": {
           "automargin": true,
           "gridcolor": "white",
           "linecolor": "white",
           "ticks": "",
           "title": {
            "standoff": 15
           },
           "zerolinecolor": "white",
           "zerolinewidth": 2
          },
          "yaxis": {
           "automargin": true,
           "gridcolor": "white",
           "linecolor": "white",
           "ticks": "",
           "title": {
            "standoff": 15
           },
           "zerolinecolor": "white",
           "zerolinewidth": 2
          }
         }
        },
        "xaxis": {
         "anchor": "y",
         "domain": [
          0,
          0.45
         ]
        },
        "xaxis2": {
         "anchor": "y2",
         "domain": [
          0.55,
          1
         ]
        },
        "yaxis": {
         "anchor": "x",
         "domain": [
          0,
          1
         ]
        },
        "yaxis2": {
         "anchor": "x2",
         "domain": [
          0,
          1
         ]
        }
       }
      }
     },
     "metadata": {},
     "output_type": "display_data"
    }
   ],
   "source": [
    "from plotly.subplots import make_subplots\n",
    "import plotly.graph_objects as go\n",
    "\n",
    "\n",
    "val_counts = [1971, 1621, 1831, 351]\n",
    "\n",
    "fig = make_subplots(rows=1, cols=2)\n",
    "\n",
    "fig.add_trace(go.Indicator(\n",
    "    mode = \"number\",\n",
    "    value = val_counts[0],\n",
    "    number = {'font':{'color': custom_colors[2],'size':100}},\n",
    "    title = {\"text\": \"TV Shows<br><span style='font-size:0.8em;color:gray'>On Netflix</span>\"},\n",
    "    domain = {'x': [0.5, 1], 'y': [0, 0.4]}\n",
    "))\n",
    "\n",
    "fig.add_trace(go.Indicator(\n",
    "    mode = \"number\",\n",
    "    value = val_counts[1],\n",
    "    number = {'font':{'color': custom_colors[2],'size':100}},\n",
    "    title = {\"text\": \"TV Shows<br><span style='font-size:0.8em;color:gray'>On Hulu</span>\"},\n",
    "    domain = {'x': [0, 0.5], 'y': [0, 0.4]}\n",
    "))\n",
    "\n",
    "fig.add_trace(go.Indicator(\n",
    "    mode = \"number\",\n",
    "    value = val_counts[2],\n",
    "    number = {'font':{'color': custom_colors[2],'size':100}},\n",
    "    title = {\"text\": \"TV Shows<br><span style='font-size:0.8em;color:gray'>On Prime</span>\"},\n",
    "    domain = {'x': [0, 0.5], 'y': [0.5, 1]}\n",
    "))\n",
    "\n",
    "fig.add_trace(go.Indicator(\n",
    "    mode = \"number\",\n",
    "    value = val_counts[3],\n",
    "    number = {'font':{'color': custom_colors[2],'size':100}},\n",
    "    title = {\"text\": \"TV Shows<br><span style='font-size:0.8em;color:gray'>On Disney+</span>\"},\n",
    "    domain = {'x': [0.5, 1], 'y': [0.5, 1]}\n",
    "))\n",
    "\n",
    "fig.update_layout(height=800)\n",
    "fig.show()\n"
   ]
  },
  {
   "cell_type": "code",
   "execution_count": 19,
   "metadata": {},
   "outputs": [
    {
     "name": "stderr",
     "output_type": "stream",
     "text": [
      "C:\\Users\\danie\\AppData\\Local\\Temp\\ipykernel_22624\\709019464.py:1: SettingWithCopyWarning:\n",
      "\n",
      "\n",
      "A value is trying to be set on a copy of a slice from a DataFrame.\n",
      "Try using .loc[row_indexer,col_indexer] = value instead\n",
      "\n",
      "See the caveats in the documentation: https://pandas.pydata.org/pandas-docs/stable/user_guide/indexing.html#returning-a-view-versus-a-copy\n",
      "\n",
      "C:\\Users\\danie\\AppData\\Local\\Temp\\ipykernel_22624\\709019464.py:2: SettingWithCopyWarning:\n",
      "\n",
      "\n",
      "A value is trying to be set on a copy of a slice from a DataFrame.\n",
      "Try using .loc[row_indexer,col_indexer] = value instead\n",
      "\n",
      "See the caveats in the documentation: https://pandas.pydata.org/pandas-docs/stable/user_guide/indexing.html#returning-a-view-versus-a-copy\n",
      "\n"
     ]
    }
   ],
   "source": [
    "df_tv['IMDb'] = df_tv['IMDb'].str.split('/').str[0]\n",
    "df_tv['rottentomatoes'] = df_tv['rottentomatoes'].str.split('/').str[0]"
   ]
  },
  {
   "cell_type": "code",
   "execution_count": 20,
   "metadata": {},
   "outputs": [],
   "source": [
    "def sunburst(dataframe,platform,c):\n",
    "    dataframe=dataframe.loc[dataframe[platform] == 1]\n",
    "    dataframe=dataframe.sort_values(by='IMDb', ascending=False)\n",
    "    rating = dataframe[0:10]\n",
    "    fig =px.sunburst(\n",
    "    rating,\n",
    "    path=['Title','Genres'],\n",
    "    values='IMDb',\n",
    "    color='IMDb',\n",
    "    color_continuous_scale=c)\n",
    "    fig.show()"
   ]
  },
  {
   "cell_type": "code",
   "execution_count": 21,
   "metadata": {},
   "outputs": [],
   "source": [
    "def kde(i,dataframe,platform,c):\n",
    "    plt.subplot(i)\n",
    "    dataframe=dataframe.loc[dataframe[platform] == 1]\n",
    "    sns.kdeplot(data=dataframe['Runtime'], color=custom_colors[c],shade=True)\n",
    "    plt.xlabel('Runtime in minutes', fontsize = 15)\n",
    "    plt.legend(fontsize = 15);\n",
    "    plt.subplot(i+1)\n",
    "    sns.kdeplot(data=dataframe['Year'], color=custom_colors[c],shade=True)\n",
    "    plt.xlabel('Release Year', fontsize = 15)\n",
    "    plt.legend(fontsize = 15);"
   ]
  },
  {
   "cell_type": "code",
   "execution_count": 22,
   "metadata": {},
   "outputs": [],
   "source": [
    "df_t = df_tv.copy()\n",
    "df_t = df_t[df_t['Age'].notna()]"
   ]
  },
  {
   "cell_type": "code",
   "execution_count": 23,
   "metadata": {},
   "outputs": [],
   "source": [
    "df_t['Age']=df_t['Age'].str.replace('+','')\n",
    "df_t['Age']=df_t['Age'].str.replace('all','0')\n",
    "df_t['Age']=df_t['Age'].astype(str).astype(int)"
   ]
  },
  {
   "cell_type": "code",
   "execution_count": 24,
   "metadata": {},
   "outputs": [],
   "source": [
    "def barplot(i,dataframe,platform,p):\n",
    "    plt.subplot(i)\n",
    "    dataframe=dataframe.loc[dataframe[platform] == 1]\n",
    "    dataframe = dataframe['Age'].value_counts().reset_index()\n",
    "    dataframe.columns=['age','count']\n",
    "    sns.barplot(x=\"age\", y=\"count\", data=dataframe,palette=p)\n",
    "    plt.xlabel('Age', fontsize = 15)\n",
    "    plt.ylabel(platform, fontsize = 15)"
   ]
  },
  {
   "cell_type": "code",
   "execution_count": 25,
   "metadata": {},
   "outputs": [
    {
     "data": {
      "image/png": "[encoded data removed]",
      "text/plain": [
       "<Figure size 2000x2000 with 4 Axes>"
      ]
     },
     "metadata": {},
     "output_type": "display_data"
    }
   ],
   "source": [
    "plt.figure(figsize = (20, 20))\n",
    "\n",
    "barplot(421,df_t,'Netflix',netflix_p)\n",
    "barplot(423,df_t,'Hulu',hulu_p)\n",
    "barplot(425,df_t,'PrimeVideo',prime_p)\n",
    "barplot(427,df_t,'Disney',disney_p)"
   ]
  },
  {
   "cell_type": "code",
   "execution_count": 26,
   "metadata": {},
   "outputs": [
    {
     "data": {
      "image/png": "[encoded data removed]",
      "text/plain": [
       "<Figure size 1600x800 with 2 Axes>"
      ]
     },
     "metadata": {},
     "output_type": "display_data"
    }
   ],
   "source": [
    "plt.figure(figsize = (16, 8))\n",
    "tv_age = df_t.groupby('Age')[['Netflix','Hulu','PrimeVideo','Disney']].sum()\n",
    "sns.heatmap(tv_age,cmap=\"YlGnBu\")\n",
    "plt.show()"
   ]
  },
  {
   "cell_type": "code",
   "execution_count": 27,
   "metadata": {},
   "outputs": [],
   "source": [
    "r = df_tv.sort_values(by='IMDb', ascending=False)\n",
    "r = r[0:20]\n",
    "r = r[['Title','IMDb','Netflix','Hulu','PrimeVideo','Disney']]\n",
    "r['IMDb'] = r['IMDb'].astype(float)"
   ]
  },
  {
   "cell_type": "code",
   "execution_count": 28,
   "metadata": {},
   "outputs": [
    {
     "data": {
      "text/html": [
       "<style type=\"text/css\">\n",
       "#T_d35a9_row0_col1, #T_d35a9_row1_col1 {\n",
       "  width: 10em;\n",
       "  background: linear-gradient(90deg, # 100.0%, transparent 100.0%);\n",
       "  background-color: #3f007d;\n",
       "  color: #f1f1f1;\n",
       "}\n",
       "#T_d35a9_row0_col2, #T_d35a9_row0_col3, #T_d35a9_row0_col5, #T_d35a9_row1_col2, #T_d35a9_row1_col3, #T_d35a9_row1_col4, #T_d35a9_row2_col2, #T_d35a9_row2_col3, #T_d35a9_row2_col5, #T_d35a9_row3_col3, #T_d35a9_row3_col4, #T_d35a9_row3_col5, #T_d35a9_row4_col2, #T_d35a9_row4_col3, #T_d35a9_row4_col4, #T_d35a9_row5_col3, #T_d35a9_row5_col4, #T_d35a9_row5_col5, #T_d35a9_row6_col2, #T_d35a9_row6_col4, #T_d35a9_row6_col5, #T_d35a9_row7_col2, #T_d35a9_row7_col3, #T_d35a9_row7_col5, #T_d35a9_row8_col2, #T_d35a9_row9_col3, #T_d35a9_row9_col5, #T_d35a9_row10_col2, #T_d35a9_row10_col3, #T_d35a9_row10_col5, #T_d35a9_row11_col2, #T_d35a9_row11_col4, #T_d35a9_row11_col5, #T_d35a9_row12_col2, #T_d35a9_row12_col3, #T_d35a9_row12_col4, #T_d35a9_row13_col2, #T_d35a9_row13_col3, #T_d35a9_row13_col5, #T_d35a9_row14_col2, #T_d35a9_row14_col3, #T_d35a9_row14_col5, #T_d35a9_row15_col3, #T_d35a9_row15_col4, #T_d35a9_row15_col5, #T_d35a9_row16_col3, #T_d35a9_row16_col4, #T_d35a9_row16_col5, #T_d35a9_row17_col3, #T_d35a9_row17_col4, #T_d35a9_row17_col5, #T_d35a9_row18_col4, #T_d35a9_row18_col5, #T_d35a9_row19_col2, #T_d35a9_row19_col3, #T_d35a9_row19_col5 {\n",
       "  width: 10em;\n",
       "  background-color: #fcfbfd;\n",
       "  color: #000000;\n",
       "}\n",
       "#T_d35a9_row0_col4, #T_d35a9_row2_col4, #T_d35a9_row7_col4, #T_d35a9_row8_col4, #T_d35a9_row9_col4, #T_d35a9_row10_col4, #T_d35a9_row13_col4, #T_d35a9_row14_col4, #T_d35a9_row19_col4 {\n",
       "  width: 10em;\n",
       "  background: linear-gradient(90deg, #a2d2ff 100.0%, transparent 100.0%);\n",
       "  background-color: #3f007d;\n",
       "  color: #f1f1f1;\n",
       "}\n",
       "#T_d35a9_row1_col5, #T_d35a9_row4_col5, #T_d35a9_row8_col5, #T_d35a9_row12_col5 {\n",
       "  width: 10em;\n",
       "  background: linear-gradient(90deg, #72efdd 100.0%, transparent 100.0%);\n",
       "  background-color: #3f007d;\n",
       "  color: #f1f1f1;\n",
       "}\n",
       "#T_d35a9_row2_col1 {\n",
       "  width: 10em;\n",
       "  background: linear-gradient(90deg, # 99.0%, transparent 99.0%);\n",
       "  background-color: #61409b;\n",
       "  color: #f1f1f1;\n",
       "}\n",
       "#T_d35a9_row3_col1, #T_d35a9_row4_col1 {\n",
       "  width: 10em;\n",
       "  background: linear-gradient(90deg, # 97.9%, transparent 97.9%);\n",
       "  background-color: #8683bd;\n",
       "  color: #f1f1f1;\n",
       "}\n",
       "#T_d35a9_row3_col2, #T_d35a9_row5_col2, #T_d35a9_row9_col2, #T_d35a9_row15_col2, #T_d35a9_row16_col2, #T_d35a9_row17_col2, #T_d35a9_row18_col2 {\n",
       "  width: 10em;\n",
       "  background: linear-gradient(90deg, #ff6b6b 100.0%, transparent 100.0%);\n",
       "  background-color: #3f007d;\n",
       "  color: #f1f1f1;\n",
       "}\n",
       "#T_d35a9_row5_col1, #T_d35a9_row6_col1, #T_d35a9_row7_col1, #T_d35a9_row8_col1, #T_d35a9_row9_col1 {\n",
       "  width: 10em;\n",
       "  background: linear-gradient(90deg, # 96.9%, transparent 96.9%);\n",
       "  background-color: #b6b6d8;\n",
       "  color: #000000;\n",
       "}\n",
       "#T_d35a9_row6_col3, #T_d35a9_row8_col3, #T_d35a9_row11_col3, #T_d35a9_row18_col3 {\n",
       "  width: 10em;\n",
       "  background: linear-gradient(90deg, #95d5b2 100.0%, transparent 100.0%);\n",
       "  background-color: #3f007d;\n",
       "  color: #f1f1f1;\n",
       "}\n",
       "#T_d35a9_row10_col1, #T_d35a9_row11_col1, #T_d35a9_row12_col1, #T_d35a9_row13_col1, #T_d35a9_row14_col1 {\n",
       "  width: 10em;\n",
       "  background: linear-gradient(90deg, # 95.8%, transparent 95.8%);\n",
       "  background-color: #e2e2ef;\n",
       "  color: #000000;\n",
       "}\n",
       "#T_d35a9_row15_col1, #T_d35a9_row16_col1, #T_d35a9_row17_col1, #T_d35a9_row18_col1, #T_d35a9_row19_col1 {\n",
       "  width: 10em;\n",
       "  background: linear-gradient(90deg, # 94.8%, transparent 94.8%);\n",
       "  background-color: #fcfbfd;\n",
       "  color: #000000;\n",
       "}\n",
       "</style>\n",
       "<table id=\"T_d35a9\">\n",
       "  <thead>\n",
       "    <tr>\n",
       "      <th class=\"blank level0\" >&nbsp;</th>\n",
       "      <th id=\"T_d35a9_level0_col0\" class=\"col_heading level0 col0\" >Title</th>\n",
       "      <th id=\"T_d35a9_level0_col1\" class=\"col_heading level0 col1\" >IMDb</th>\n",
       "      <th id=\"T_d35a9_level0_col2\" class=\"col_heading level0 col2\" >Netflix</th>\n",
       "      <th id=\"T_d35a9_level0_col3\" class=\"col_heading level0 col3\" >Hulu</th>\n",
       "      <th id=\"T_d35a9_level0_col4\" class=\"col_heading level0 col4\" >PrimeVideo</th>\n",
       "      <th id=\"T_d35a9_level0_col5\" class=\"col_heading level0 col5\" >Disney</th>\n",
       "    </tr>\n",
       "  </thead>\n",
       "  <tbody>\n",
       "    <tr>\n",
       "      <th id=\"T_d35a9_level0_row0\" class=\"row_heading level0 row0\" >3802</th>\n",
       "      <td id=\"T_d35a9_row0_col0\" class=\"data row0 col0\" >The Secret World of Nature: Spain</td>\n",
       "      <td id=\"T_d35a9_row0_col1\" class=\"data row0 col1\" >9.600000</td>\n",
       "      <td id=\"T_d35a9_row0_col2\" class=\"data row0 col2\" >0</td>\n",
       "      <td id=\"T_d35a9_row0_col3\" class=\"data row0 col3\" >0</td>\n",
       "      <td id=\"T_d35a9_row0_col4\" class=\"data row0 col4\" >1</td>\n",
       "      <td id=\"T_d35a9_row0_col5\" class=\"data row0 col5\" >0</td>\n",
       "    </tr>\n",
       "    <tr>\n",
       "      <th id=\"T_d35a9_level0_row1\" class=\"row_heading level0 row1\" >5077</th>\n",
       "      <td id=\"T_d35a9_row1_col0\" class=\"data row1 col0\" >Bluey</td>\n",
       "      <td id=\"T_d35a9_row1_col1\" class=\"data row1 col1\" >9.600000</td>\n",
       "      <td id=\"T_d35a9_row1_col2\" class=\"data row1 col2\" >0</td>\n",
       "      <td id=\"T_d35a9_row1_col3\" class=\"data row1 col3\" >0</td>\n",
       "      <td id=\"T_d35a9_row1_col4\" class=\"data row1 col4\" >0</td>\n",
       "      <td id=\"T_d35a9_row1_col5\" class=\"data row1 col5\" >1</td>\n",
       "    </tr>\n",
       "    <tr>\n",
       "      <th id=\"T_d35a9_level0_row2\" class=\"row_heading level0 row2\" >3611</th>\n",
       "      <td id=\"T_d35a9_row2_col0\" class=\"data row2 col0\" >Malgudi Days</td>\n",
       "      <td id=\"T_d35a9_row2_col1\" class=\"data row2 col1\" >9.500000</td>\n",
       "      <td id=\"T_d35a9_row2_col2\" class=\"data row2 col2\" >0</td>\n",
       "      <td id=\"T_d35a9_row2_col3\" class=\"data row2 col3\" >0</td>\n",
       "      <td id=\"T_d35a9_row2_col4\" class=\"data row2 col4\" >1</td>\n",
       "      <td id=\"T_d35a9_row2_col5\" class=\"data row2 col5\" >0</td>\n",
       "    </tr>\n",
       "    <tr>\n",
       "      <th id=\"T_d35a9_level0_row3\" class=\"row_heading level0 row3\" >0</th>\n",
       "      <td id=\"T_d35a9_row3_col0\" class=\"data row3 col0\" >Breaking Bad</td>\n",
       "      <td id=\"T_d35a9_row3_col1\" class=\"data row3 col1\" >9.400000</td>\n",
       "      <td id=\"T_d35a9_row3_col2\" class=\"data row3 col2\" >1</td>\n",
       "      <td id=\"T_d35a9_row3_col3\" class=\"data row3 col3\" >0</td>\n",
       "      <td id=\"T_d35a9_row3_col4\" class=\"data row3 col4\" >0</td>\n",
       "      <td id=\"T_d35a9_row3_col5\" class=\"data row3 col5\" >0</td>\n",
       "    </tr>\n",
       "    <tr>\n",
       "      <th id=\"T_d35a9_level0_row4\" class=\"row_heading level0 row4\" >5277</th>\n",
       "      <td id=\"T_d35a9_row4_col0\" class=\"data row4 col0\" >Alaska Animal Rescue</td>\n",
       "      <td id=\"T_d35a9_row4_col1\" class=\"data row4 col1\" >9.400000</td>\n",
       "      <td id=\"T_d35a9_row4_col2\" class=\"data row4 col2\" >0</td>\n",
       "      <td id=\"T_d35a9_row4_col3\" class=\"data row4 col3\" >0</td>\n",
       "      <td id=\"T_d35a9_row4_col4\" class=\"data row4 col4\" >0</td>\n",
       "      <td id=\"T_d35a9_row4_col5\" class=\"data row4 col5\" >1</td>\n",
       "    </tr>\n",
       "    <tr>\n",
       "      <th id=\"T_d35a9_level0_row5\" class=\"row_heading level0 row5\" >80</th>\n",
       "      <td id=\"T_d35a9_row5_col0\" class=\"data row5 col0\" >Our Planet</td>\n",
       "      <td id=\"T_d35a9_row5_col1\" class=\"data row5 col1\" >9.300000</td>\n",
       "      <td id=\"T_d35a9_row5_col2\" class=\"data row5 col2\" >1</td>\n",
       "      <td id=\"T_d35a9_row5_col3\" class=\"data row5 col3\" >0</td>\n",
       "      <td id=\"T_d35a9_row5_col4\" class=\"data row5 col4\" >0</td>\n",
       "      <td id=\"T_d35a9_row5_col5\" class=\"data row5 col5\" >0</td>\n",
       "    </tr>\n",
       "    <tr>\n",
       "      <th id=\"T_d35a9_level0_row6\" class=\"row_heading level0 row6\" >3115</th>\n",
       "      <td id=\"T_d35a9_row6_col0\" class=\"data row6 col0\" >Hungry Henry</td>\n",
       "      <td id=\"T_d35a9_row6_col1\" class=\"data row6 col1\" >9.300000</td>\n",
       "      <td id=\"T_d35a9_row6_col2\" class=\"data row6 col2\" >0</td>\n",
       "      <td id=\"T_d35a9_row6_col3\" class=\"data row6 col3\" >1</td>\n",
       "      <td id=\"T_d35a9_row6_col4\" class=\"data row6 col4\" >0</td>\n",
       "      <td id=\"T_d35a9_row6_col5\" class=\"data row6 col5\" >0</td>\n",
       "    </tr>\n",
       "    <tr>\n",
       "      <th id=\"T_d35a9_level0_row7\" class=\"row_heading level0 row7\" >3760</th>\n",
       "      <td id=\"T_d35a9_row7_col0\" class=\"data row7 col0\" >Everyday Driver</td>\n",
       "      <td id=\"T_d35a9_row7_col1\" class=\"data row7 col1\" >9.300000</td>\n",
       "      <td id=\"T_d35a9_row7_col2\" class=\"data row7 col2\" >0</td>\n",
       "      <td id=\"T_d35a9_row7_col3\" class=\"data row7 col3\" >0</td>\n",
       "      <td id=\"T_d35a9_row7_col4\" class=\"data row7 col4\" >1</td>\n",
       "      <td id=\"T_d35a9_row7_col5\" class=\"data row7 col5\" >0</td>\n",
       "    </tr>\n",
       "    <tr>\n",
       "      <th id=\"T_d35a9_level0_row8\" class=\"row_heading level0 row8\" >2009</th>\n",
       "      <td id=\"T_d35a9_row8_col0\" class=\"data row8 col0\" >Cosmos</td>\n",
       "      <td id=\"T_d35a9_row8_col1\" class=\"data row8 col1\" >9.300000</td>\n",
       "      <td id=\"T_d35a9_row8_col2\" class=\"data row8 col2\" >0</td>\n",
       "      <td id=\"T_d35a9_row8_col3\" class=\"data row8 col3\" >1</td>\n",
       "      <td id=\"T_d35a9_row8_col4\" class=\"data row8 col4\" >1</td>\n",
       "      <td id=\"T_d35a9_row8_col5\" class=\"data row8 col5\" >1</td>\n",
       "    </tr>\n",
       "    <tr>\n",
       "      <th id=\"T_d35a9_level0_row9\" class=\"row_heading level0 row9\" >5</th>\n",
       "      <td id=\"T_d35a9_row9_col0\" class=\"data row9 col0\" >Avatar: The Last Airbender</td>\n",
       "      <td id=\"T_d35a9_row9_col1\" class=\"data row9 col1\" >9.300000</td>\n",
       "      <td id=\"T_d35a9_row9_col2\" class=\"data row9 col2\" >1</td>\n",
       "      <td id=\"T_d35a9_row9_col3\" class=\"data row9 col3\" >0</td>\n",
       "      <td id=\"T_d35a9_row9_col4\" class=\"data row9 col4\" >1</td>\n",
       "      <td id=\"T_d35a9_row9_col5\" class=\"data row9 col5\" >0</td>\n",
       "    </tr>\n",
       "    <tr>\n",
       "      <th id=\"T_d35a9_level0_row10\" class=\"row_heading level0 row10\" >3503</th>\n",
       "      <td id=\"T_d35a9_row10_col0\" class=\"data row10 col0\" >Clarkson's Farm</td>\n",
       "      <td id=\"T_d35a9_row10_col1\" class=\"data row10 col1\" >9.200000</td>\n",
       "      <td id=\"T_d35a9_row10_col2\" class=\"data row10 col2\" >0</td>\n",
       "      <td id=\"T_d35a9_row10_col3\" class=\"data row10 col3\" >0</td>\n",
       "      <td id=\"T_d35a9_row10_col4\" class=\"data row10 col4\" >1</td>\n",
       "      <td id=\"T_d35a9_row10_col5\" class=\"data row10 col5\" >0</td>\n",
       "    </tr>\n",
       "    <tr>\n",
       "      <th id=\"T_d35a9_level0_row11\" class=\"row_heading level0 row11\" >1950</th>\n",
       "      <td id=\"T_d35a9_row11_col0\" class=\"data row11 col0\" >Rick and Morty</td>\n",
       "      <td id=\"T_d35a9_row11_col1\" class=\"data row11 col1\" >9.200000</td>\n",
       "      <td id=\"T_d35a9_row11_col2\" class=\"data row11 col2\" >0</td>\n",
       "      <td id=\"T_d35a9_row11_col3\" class=\"data row11 col3\" >1</td>\n",
       "      <td id=\"T_d35a9_row11_col4\" class=\"data row11 col4\" >0</td>\n",
       "      <td id=\"T_d35a9_row11_col5\" class=\"data row11 col5\" >0</td>\n",
       "    </tr>\n",
       "    <tr>\n",
       "      <th id=\"T_d35a9_level0_row12\" class=\"row_heading level0 row12\" >5106</th>\n",
       "      <td id=\"T_d35a9_row12_col0\" class=\"data row12 col0\" >Cosmos: Possible Worlds</td>\n",
       "      <td id=\"T_d35a9_row12_col1\" class=\"data row12 col1\" >9.200000</td>\n",
       "      <td id=\"T_d35a9_row12_col2\" class=\"data row12 col2\" >0</td>\n",
       "      <td id=\"T_d35a9_row12_col3\" class=\"data row12 col3\" >0</td>\n",
       "      <td id=\"T_d35a9_row12_col4\" class=\"data row12 col4\" >0</td>\n",
       "      <td id=\"T_d35a9_row12_col5\" class=\"data row12 col5\" >1</td>\n",
       "    </tr>\n",
       "    <tr>\n",
       "      <th id=\"T_d35a9_level0_row13\" class=\"row_heading level0 row13\" >3771</th>\n",
       "      <td id=\"T_d35a9_row13_col0\" class=\"data row13 col0\" >Harmony with A R Rahman</td>\n",
       "      <td id=\"T_d35a9_row13_col1\" class=\"data row13 col1\" >9.200000</td>\n",
       "      <td id=\"T_d35a9_row13_col2\" class=\"data row13 col2\" >0</td>\n",
       "      <td id=\"T_d35a9_row13_col3\" class=\"data row13 col3\" >0</td>\n",
       "      <td id=\"T_d35a9_row13_col4\" class=\"data row13 col4\" >1</td>\n",
       "      <td id=\"T_d35a9_row13_col5\" class=\"data row13 col5\" >0</td>\n",
       "    </tr>\n",
       "    <tr>\n",
       "      <th id=\"T_d35a9_level0_row14\" class=\"row_heading level0 row14\" >4106</th>\n",
       "      <td id=\"T_d35a9_row14_col0\" class=\"data row14 col0\" >Becoming a Man</td>\n",
       "      <td id=\"T_d35a9_row14_col1\" class=\"data row14 col1\" >9.200000</td>\n",
       "      <td id=\"T_d35a9_row14_col2\" class=\"data row14 col2\" >0</td>\n",
       "      <td id=\"T_d35a9_row14_col3\" class=\"data row14 col3\" >0</td>\n",
       "      <td id=\"T_d35a9_row14_col4\" class=\"data row14 col4\" >1</td>\n",
       "      <td id=\"T_d35a9_row14_col5\" class=\"data row14 col5\" >0</td>\n",
       "    </tr>\n",
       "    <tr>\n",
       "      <th id=\"T_d35a9_level0_row15\" class=\"row_heading level0 row15\" >1001</th>\n",
       "      <td id=\"T_d35a9_row15_col0\" class=\"data row15 col0\" >Okupas</td>\n",
       "      <td id=\"T_d35a9_row15_col1\" class=\"data row15 col1\" >9.100000</td>\n",
       "      <td id=\"T_d35a9_row15_col2\" class=\"data row15 col2\" >1</td>\n",
       "      <td id=\"T_d35a9_row15_col3\" class=\"data row15 col3\" >0</td>\n",
       "      <td id=\"T_d35a9_row15_col4\" class=\"data row15 col4\" >0</td>\n",
       "      <td id=\"T_d35a9_row15_col5\" class=\"data row15 col5\" >0</td>\n",
       "    </tr>\n",
       "    <tr>\n",
       "      <th id=\"T_d35a9_level0_row16\" class=\"row_heading level0 row16\" >201</th>\n",
       "      <td id=\"T_d35a9_row16_col0\" class=\"data row16 col0\" >Leyla ile Mecnun</td>\n",
       "      <td id=\"T_d35a9_row16_col1\" class=\"data row16 col1\" >9.100000</td>\n",
       "      <td id=\"T_d35a9_row16_col2\" class=\"data row16 col2\" >1</td>\n",
       "      <td id=\"T_d35a9_row16_col3\" class=\"data row16 col3\" >0</td>\n",
       "      <td id=\"T_d35a9_row16_col4\" class=\"data row16 col4\" >0</td>\n",
       "      <td id=\"T_d35a9_row16_col5\" class=\"data row16 col5\" >0</td>\n",
       "    </tr>\n",
       "    <tr>\n",
       "      <th id=\"T_d35a9_level0_row17\" class=\"row_heading level0 row17\" >401</th>\n",
       "      <td id=\"T_d35a9_row17_col0\" class=\"data row17 col0\" >My Mister</td>\n",
       "      <td id=\"T_d35a9_row17_col1\" class=\"data row17 col1\" >9.100000</td>\n",
       "      <td id=\"T_d35a9_row17_col2\" class=\"data row17 col2\" >1</td>\n",
       "      <td id=\"T_d35a9_row17_col3\" class=\"data row17 col3\" >0</td>\n",
       "      <td id=\"T_d35a9_row17_col4\" class=\"data row17 col4\" >0</td>\n",
       "      <td id=\"T_d35a9_row17_col5\" class=\"data row17 col5\" >0</td>\n",
       "    </tr>\n",
       "    <tr>\n",
       "      <th id=\"T_d35a9_level0_row18\" class=\"row_heading level0 row18\" >25</th>\n",
       "      <td id=\"T_d35a9_row18_col0\" class=\"data row18 col0\" >Fullmetal Alchemist: Brotherhood</td>\n",
       "      <td id=\"T_d35a9_row18_col1\" class=\"data row18 col1\" >9.100000</td>\n",
       "      <td id=\"T_d35a9_row18_col2\" class=\"data row18 col2\" >1</td>\n",
       "      <td id=\"T_d35a9_row18_col3\" class=\"data row18 col3\" >1</td>\n",
       "      <td id=\"T_d35a9_row18_col4\" class=\"data row18 col4\" >0</td>\n",
       "      <td id=\"T_d35a9_row18_col5\" class=\"data row18 col5\" >0</td>\n",
       "    </tr>\n",
       "    <tr>\n",
       "      <th id=\"T_d35a9_level0_row19\" class=\"row_heading level0 row19\" >4068</th>\n",
       "      <td id=\"T_d35a9_row19_col0\" class=\"data row19 col0\" >Junk Drawer Magic</td>\n",
       "      <td id=\"T_d35a9_row19_col1\" class=\"data row19 col1\" >9.100000</td>\n",
       "      <td id=\"T_d35a9_row19_col2\" class=\"data row19 col2\" >0</td>\n",
       "      <td id=\"T_d35a9_row19_col3\" class=\"data row19 col3\" >0</td>\n",
       "      <td id=\"T_d35a9_row19_col4\" class=\"data row19 col4\" >1</td>\n",
       "      <td id=\"T_d35a9_row19_col5\" class=\"data row19 col5\" >0</td>\n",
       "    </tr>\n",
       "  </tbody>\n",
       "</table>\n"
      ],
      "text/plain": [
       "<pandas.io.formats.style.Styler at 0x152de6b1db0>"
      ]
     },
     "execution_count": 28,
     "metadata": {},
     "output_type": "execute_result"
    }
   ],
   "source": [
    "r.style.bar(subset=[\"Netflix\"], color='#ff6b6b')\\\n",
    ".bar(subset=[\"Hulu\"], color='#95d5b2')\\\n",
    ".bar(subset=[\"PrimeVideo\"], color='#a2d2ff')\\\n",
    ".bar(subset=[\"Disney\"], color='#72efdd')\\\n",
    ".bar(subset=[\"IMDb\"], color='#').background_gradient(cmap='Purples')"
   ]
  }
 ],
 "metadata": {
  "kernelspec": {
   "display_name": "dev",
   "language": "python",
   "name": "python3"
  },
  "language_info": {
   "codemirror_mode": {
    "name": "ipython",
    "version": 3
   },
   "file_extension": ".py",
   "mimetype": "text/x-python",
   "name": "python",
   "nbconvert_exporter": "python",
   "pygments_lexer": "ipython3",
   "version": "3.10.13"
  }
 },
 "nbformat": 4,
 "nbformat_minor": 2
}
