{
 "cells": [
  {
   "cell_type": "code",
   "execution_count": 164,
   "metadata": {},
   "outputs": [],
   "source": [
    "import pandas as pd\n",
    "import numpy as np\n",
    "import seaborn as sns\n",
    "import matplotlib as mpl\n",
    "import matplotlib.pyplot as plt\n",
    "import squarify\n",
    "import plotly.express as px\n"
   ]
  },
  {
   "cell_type": "code",
   "execution_count": 165,
   "metadata": {},
   "outputs": [
    {
     "name": "stdout",
     "output_type": "stream",
     "text": [
      "(7787, 12)\n"
     ]
    }
   ],
   "source": [
    "data = pd.read_csv('netflix_titles.csv')\n",
    "print(data.shape)"
   ]
  },
  {
   "cell_type": "code",
   "execution_count": 166,
   "metadata": {},
   "outputs": [
    {
     "data": {
      "text/html": [
       "<div>\n",
       "<style scoped>\n",
       "    .dataframe tbody tr th:only-of-type {\n",
       "        vertical-align: middle;\n",
       "    }\n",
       "\n",
       "    .dataframe tbody tr th {\n",
       "        vertical-align: top;\n",
       "    }\n",
       "\n",
       "    .dataframe thead th {\n",
       "        text-align: right;\n",
       "    }\n",
       "</style>\n",
       "<table border=\"1\" class=\"dataframe\">\n",
       "  <thead>\n",
       "    <tr style=\"text-align: right;\">\n",
       "      <th></th>\n",
       "      <th>show_id</th>\n",
       "      <th>type</th>\n",
       "      <th>title</th>\n",
       "      <th>director</th>\n",
       "      <th>cast</th>\n",
       "      <th>country</th>\n",
       "      <th>date_added</th>\n",
       "      <th>release_year</th>\n",
       "      <th>rating</th>\n",
       "      <th>duration</th>\n",
       "      <th>listed_in</th>\n",
       "      <th>description</th>\n",
       "    </tr>\n",
       "  </thead>\n",
       "  <tbody>\n",
       "    <tr>\n",
       "      <th>0</th>\n",
       "      <td>s1</td>\n",
       "      <td>TV Show</td>\n",
       "      <td>3%</td>\n",
       "      <td>NaN</td>\n",
       "      <td>João Miguel, Bianca Comparato, Michel Gomes, R...</td>\n",
       "      <td>Brazil</td>\n",
       "      <td>August 14, 2020</td>\n",
       "      <td>2020</td>\n",
       "      <td>TV-MA</td>\n",
       "      <td>4 Seasons</td>\n",
       "      <td>International TV Shows, TV Dramas, TV Sci-Fi &amp;...</td>\n",
       "      <td>In a future where the elite inhabit an island ...</td>\n",
       "    </tr>\n",
       "    <tr>\n",
       "      <th>1</th>\n",
       "      <td>s2</td>\n",
       "      <td>Movie</td>\n",
       "      <td>7:19</td>\n",
       "      <td>Jorge Michel Grau</td>\n",
       "      <td>Demián Bichir, Héctor Bonilla, Oscar Serrano, ...</td>\n",
       "      <td>Mexico</td>\n",
       "      <td>December 23, 2016</td>\n",
       "      <td>2016</td>\n",
       "      <td>TV-MA</td>\n",
       "      <td>93 min</td>\n",
       "      <td>Dramas, International Movies</td>\n",
       "      <td>After a devastating earthquake hits Mexico Cit...</td>\n",
       "    </tr>\n",
       "    <tr>\n",
       "      <th>2</th>\n",
       "      <td>s3</td>\n",
       "      <td>Movie</td>\n",
       "      <td>23:59</td>\n",
       "      <td>Gilbert Chan</td>\n",
       "      <td>Tedd Chan, Stella Chung, Henley Hii, Lawrence ...</td>\n",
       "      <td>Singapore</td>\n",
       "      <td>December 20, 2018</td>\n",
       "      <td>2011</td>\n",
       "      <td>R</td>\n",
       "      <td>78 min</td>\n",
       "      <td>Horror Movies, International Movies</td>\n",
       "      <td>When an army recruit is found dead, his fellow...</td>\n",
       "    </tr>\n",
       "    <tr>\n",
       "      <th>3</th>\n",
       "      <td>s4</td>\n",
       "      <td>Movie</td>\n",
       "      <td>9</td>\n",
       "      <td>Shane Acker</td>\n",
       "      <td>Elijah Wood, John C. Reilly, Jennifer Connelly...</td>\n",
       "      <td>United States</td>\n",
       "      <td>November 16, 2017</td>\n",
       "      <td>2009</td>\n",
       "      <td>PG-13</td>\n",
       "      <td>80 min</td>\n",
       "      <td>Action &amp; Adventure, Independent Movies, Sci-Fi...</td>\n",
       "      <td>In a postapocalyptic world, rag-doll robots hi...</td>\n",
       "    </tr>\n",
       "    <tr>\n",
       "      <th>4</th>\n",
       "      <td>s5</td>\n",
       "      <td>Movie</td>\n",
       "      <td>21</td>\n",
       "      <td>Robert Luketic</td>\n",
       "      <td>Jim Sturgess, Kevin Spacey, Kate Bosworth, Aar...</td>\n",
       "      <td>United States</td>\n",
       "      <td>January 1, 2020</td>\n",
       "      <td>2008</td>\n",
       "      <td>PG-13</td>\n",
       "      <td>123 min</td>\n",
       "      <td>Dramas</td>\n",
       "      <td>A brilliant group of students become card-coun...</td>\n",
       "    </tr>\n",
       "  </tbody>\n",
       "</table>\n",
       "</div>"
      ],
      "text/plain": [
       "  show_id     type  title           director  \\\n",
       "0      s1  TV Show     3%                NaN   \n",
       "1      s2    Movie   7:19  Jorge Michel Grau   \n",
       "2      s3    Movie  23:59       Gilbert Chan   \n",
       "3      s4    Movie      9        Shane Acker   \n",
       "4      s5    Movie     21     Robert Luketic   \n",
       "\n",
       "                                                cast        country  \\\n",
       "0  João Miguel, Bianca Comparato, Michel Gomes, R...         Brazil   \n",
       "1  Demián Bichir, Héctor Bonilla, Oscar Serrano, ...         Mexico   \n",
       "2  Tedd Chan, Stella Chung, Henley Hii, Lawrence ...      Singapore   \n",
       "3  Elijah Wood, John C. Reilly, Jennifer Connelly...  United States   \n",
       "4  Jim Sturgess, Kevin Spacey, Kate Bosworth, Aar...  United States   \n",
       "\n",
       "          date_added  release_year rating   duration  \\\n",
       "0    August 14, 2020          2020  TV-MA  4 Seasons   \n",
       "1  December 23, 2016          2016  TV-MA     93 min   \n",
       "2  December 20, 2018          2011      R     78 min   \n",
       "3  November 16, 2017          2009  PG-13     80 min   \n",
       "4    January 1, 2020          2008  PG-13    123 min   \n",
       "\n",
       "                                           listed_in  \\\n",
       "0  International TV Shows, TV Dramas, TV Sci-Fi &...   \n",
       "1                       Dramas, International Movies   \n",
       "2                Horror Movies, International Movies   \n",
       "3  Action & Adventure, Independent Movies, Sci-Fi...   \n",
       "4                                             Dramas   \n",
       "\n",
       "                                         description  \n",
       "0  In a future where the elite inhabit an island ...  \n",
       "1  After a devastating earthquake hits Mexico Cit...  \n",
       "2  When an army recruit is found dead, his fellow...  \n",
       "3  In a postapocalyptic world, rag-doll robots hi...  \n",
       "4  A brilliant group of students become card-coun...  "
      ]
     },
     "execution_count": 166,
     "metadata": {},
     "output_type": "execute_result"
    }
   ],
   "source": [
    "#CSV Data Visualization\n",
    "data.head()"
   ]
  },
  {
   "cell_type": "code",
   "execution_count": 167,
   "metadata": {},
   "outputs": [
    {
     "data": {
      "text/html": [
       "<div>\n",
       "<style scoped>\n",
       "    .dataframe tbody tr th:only-of-type {\n",
       "        vertical-align: middle;\n",
       "    }\n",
       "\n",
       "    .dataframe tbody tr th {\n",
       "        vertical-align: top;\n",
       "    }\n",
       "\n",
       "    .dataframe thead th {\n",
       "        text-align: right;\n",
       "    }\n",
       "</style>\n",
       "<table border=\"1\" class=\"dataframe\">\n",
       "  <thead>\n",
       "    <tr style=\"text-align: right;\">\n",
       "      <th></th>\n",
       "      <th>show_id</th>\n",
       "      <th>type</th>\n",
       "      <th>title</th>\n",
       "      <th>director</th>\n",
       "      <th>cast</th>\n",
       "      <th>country</th>\n",
       "      <th>date_added</th>\n",
       "      <th>release_year</th>\n",
       "      <th>rating</th>\n",
       "      <th>duration</th>\n",
       "      <th>listed_in</th>\n",
       "      <th>description</th>\n",
       "    </tr>\n",
       "  </thead>\n",
       "  <tbody>\n",
       "    <tr>\n",
       "      <th>count</th>\n",
       "      <td>7787</td>\n",
       "      <td>7787</td>\n",
       "      <td>7787</td>\n",
       "      <td>5398</td>\n",
       "      <td>7069</td>\n",
       "      <td>7280</td>\n",
       "      <td>7777</td>\n",
       "      <td>7787.0</td>\n",
       "      <td>7780</td>\n",
       "      <td>7787</td>\n",
       "      <td>7787</td>\n",
       "      <td>7787</td>\n",
       "    </tr>\n",
       "    <tr>\n",
       "      <th>unique</th>\n",
       "      <td>7787</td>\n",
       "      <td>2</td>\n",
       "      <td>7787</td>\n",
       "      <td>4049</td>\n",
       "      <td>6831</td>\n",
       "      <td>681</td>\n",
       "      <td>1565</td>\n",
       "      <td>NaN</td>\n",
       "      <td>14</td>\n",
       "      <td>216</td>\n",
       "      <td>492</td>\n",
       "      <td>7769</td>\n",
       "    </tr>\n",
       "    <tr>\n",
       "      <th>top</th>\n",
       "      <td>s1</td>\n",
       "      <td>Movie</td>\n",
       "      <td>3%</td>\n",
       "      <td>Raúl Campos, Jan Suter</td>\n",
       "      <td>David Attenborough</td>\n",
       "      <td>United States</td>\n",
       "      <td>January 1, 2020</td>\n",
       "      <td>NaN</td>\n",
       "      <td>TV-MA</td>\n",
       "      <td>1 Season</td>\n",
       "      <td>Documentaries</td>\n",
       "      <td>Multiple women report their husbands as missin...</td>\n",
       "    </tr>\n",
       "    <tr>\n",
       "      <th>freq</th>\n",
       "      <td>1</td>\n",
       "      <td>5377</td>\n",
       "      <td>1</td>\n",
       "      <td>18</td>\n",
       "      <td>18</td>\n",
       "      <td>2555</td>\n",
       "      <td>118</td>\n",
       "      <td>NaN</td>\n",
       "      <td>2863</td>\n",
       "      <td>1608</td>\n",
       "      <td>334</td>\n",
       "      <td>3</td>\n",
       "    </tr>\n",
       "  </tbody>\n",
       "</table>\n",
       "</div>"
      ],
      "text/plain": [
       "       show_id   type title                director                cast  \\\n",
       "count     7787   7787  7787                    5398                7069   \n",
       "unique    7787      2  7787                    4049                6831   \n",
       "top         s1  Movie    3%  Raúl Campos, Jan Suter  David Attenborough   \n",
       "freq         1   5377     1                      18                  18   \n",
       "\n",
       "              country       date_added  release_year rating  duration  \\\n",
       "count            7280             7777        7787.0   7780      7787   \n",
       "unique            681             1565           NaN     14       216   \n",
       "top     United States  January 1, 2020           NaN  TV-MA  1 Season   \n",
       "freq             2555              118           NaN   2863      1608   \n",
       "\n",
       "            listed_in                                        description  \n",
       "count            7787                                               7787  \n",
       "unique            492                                               7769  \n",
       "top     Documentaries  Multiple women report their husbands as missin...  \n",
       "freq              334                                                  3  "
      ]
     },
     "execution_count": 167,
     "metadata": {},
     "output_type": "execute_result"
    }
   ],
   "source": [
    "data.describe(include='all').head(4)"
   ]
  },
  {
   "cell_type": "code",
   "execution_count": 168,
   "metadata": {},
   "outputs": [],
   "source": [
    "# Rellena los valores faltantes en todo el DataFrame data con la cadena 'NULL'.\n",
    "data = data.fillna('NULL')\n",
    "# Extrae el año de la columna 'date_added' y lo coloca en una nueva columna 'year_added'.\n",
    "data['year_added'] = data['date_added'].apply(lambda x :  x.split(',')[-1])\n",
    "# Reemplaza cualquier 'NULL' en 'year_added' por '2020'.\n",
    "data['year_added'] = data['year_added'].apply(lambda x : x if x != 'NULL' else '2020')\n",
    "# Convierte los valores de 'year_added' a enteros.\n",
    "data['year_added'] = data['year_added'].apply(int)"
   ]
  },
  {
   "cell_type": "code",
   "execution_count": 169,
   "metadata": {},
   "outputs": [],
   "source": [
    "# Crear dos rubros de la misma data para poder analizarla mejor, dividirla en Movies y en TV Shows\n",
    "movie = data[data['type'] == 'Movie']\n",
    "tv_show = data[data['type'] == 'TV Show']"
   ]
  },
  {
   "cell_type": "code",
   "execution_count": 170,
   "metadata": {},
   "outputs": [
    {
     "data": {
      "text/html": [
       "<div>\n",
       "<style scoped>\n",
       "    .dataframe tbody tr th:only-of-type {\n",
       "        vertical-align: middle;\n",
       "    }\n",
       "\n",
       "    .dataframe tbody tr th {\n",
       "        vertical-align: top;\n",
       "    }\n",
       "\n",
       "    .dataframe thead th {\n",
       "        text-align: right;\n",
       "    }\n",
       "</style>\n",
       "<table border=\"1\" class=\"dataframe\">\n",
       "  <thead>\n",
       "    <tr style=\"text-align: right;\">\n",
       "      <th></th>\n",
       "      <th>show_id</th>\n",
       "      <th>type</th>\n",
       "      <th>title</th>\n",
       "      <th>director</th>\n",
       "      <th>cast</th>\n",
       "      <th>country</th>\n",
       "      <th>date_added</th>\n",
       "      <th>release_year</th>\n",
       "      <th>rating</th>\n",
       "      <th>duration</th>\n",
       "      <th>listed_in</th>\n",
       "      <th>description</th>\n",
       "      <th>year_added</th>\n",
       "    </tr>\n",
       "  </thead>\n",
       "  <tbody>\n",
       "    <tr>\n",
       "      <th>1</th>\n",
       "      <td>s2</td>\n",
       "      <td>Movie</td>\n",
       "      <td>7:19</td>\n",
       "      <td>Jorge Michel Grau</td>\n",
       "      <td>Demián Bichir, Héctor Bonilla, Oscar Serrano, ...</td>\n",
       "      <td>Mexico</td>\n",
       "      <td>December 23, 2016</td>\n",
       "      <td>2016</td>\n",
       "      <td>TV-MA</td>\n",
       "      <td>93 min</td>\n",
       "      <td>Dramas, International Movies</td>\n",
       "      <td>After a devastating earthquake hits Mexico Cit...</td>\n",
       "      <td>2016</td>\n",
       "    </tr>\n",
       "    <tr>\n",
       "      <th>2</th>\n",
       "      <td>s3</td>\n",
       "      <td>Movie</td>\n",
       "      <td>23:59</td>\n",
       "      <td>Gilbert Chan</td>\n",
       "      <td>Tedd Chan, Stella Chung, Henley Hii, Lawrence ...</td>\n",
       "      <td>Singapore</td>\n",
       "      <td>December 20, 2018</td>\n",
       "      <td>2011</td>\n",
       "      <td>R</td>\n",
       "      <td>78 min</td>\n",
       "      <td>Horror Movies, International Movies</td>\n",
       "      <td>When an army recruit is found dead, his fellow...</td>\n",
       "      <td>2018</td>\n",
       "    </tr>\n",
       "    <tr>\n",
       "      <th>3</th>\n",
       "      <td>s4</td>\n",
       "      <td>Movie</td>\n",
       "      <td>9</td>\n",
       "      <td>Shane Acker</td>\n",
       "      <td>Elijah Wood, John C. Reilly, Jennifer Connelly...</td>\n",
       "      <td>United States</td>\n",
       "      <td>November 16, 2017</td>\n",
       "      <td>2009</td>\n",
       "      <td>PG-13</td>\n",
       "      <td>80 min</td>\n",
       "      <td>Action &amp; Adventure, Independent Movies, Sci-Fi...</td>\n",
       "      <td>In a postapocalyptic world, rag-doll robots hi...</td>\n",
       "      <td>2017</td>\n",
       "    </tr>\n",
       "    <tr>\n",
       "      <th>4</th>\n",
       "      <td>s5</td>\n",
       "      <td>Movie</td>\n",
       "      <td>21</td>\n",
       "      <td>Robert Luketic</td>\n",
       "      <td>Jim Sturgess, Kevin Spacey, Kate Bosworth, Aar...</td>\n",
       "      <td>United States</td>\n",
       "      <td>January 1, 2020</td>\n",
       "      <td>2008</td>\n",
       "      <td>PG-13</td>\n",
       "      <td>123 min</td>\n",
       "      <td>Dramas</td>\n",
       "      <td>A brilliant group of students become card-coun...</td>\n",
       "      <td>2020</td>\n",
       "    </tr>\n",
       "    <tr>\n",
       "      <th>6</th>\n",
       "      <td>s7</td>\n",
       "      <td>Movie</td>\n",
       "      <td>122</td>\n",
       "      <td>Yasir Al Yasiri</td>\n",
       "      <td>Amina Khalil, Ahmed Dawood, Tarek Lotfy, Ahmed...</td>\n",
       "      <td>Egypt</td>\n",
       "      <td>June 1, 2020</td>\n",
       "      <td>2019</td>\n",
       "      <td>TV-MA</td>\n",
       "      <td>95 min</td>\n",
       "      <td>Horror Movies, International Movies</td>\n",
       "      <td>After an awful accident, a couple admitted to ...</td>\n",
       "      <td>2020</td>\n",
       "    </tr>\n",
       "  </tbody>\n",
       "</table>\n",
       "</div>"
      ],
      "text/plain": [
       "  show_id   type  title           director  \\\n",
       "1      s2  Movie   7:19  Jorge Michel Grau   \n",
       "2      s3  Movie  23:59       Gilbert Chan   \n",
       "3      s4  Movie      9        Shane Acker   \n",
       "4      s5  Movie     21     Robert Luketic   \n",
       "6      s7  Movie    122    Yasir Al Yasiri   \n",
       "\n",
       "                                                cast        country  \\\n",
       "1  Demián Bichir, Héctor Bonilla, Oscar Serrano, ...         Mexico   \n",
       "2  Tedd Chan, Stella Chung, Henley Hii, Lawrence ...      Singapore   \n",
       "3  Elijah Wood, John C. Reilly, Jennifer Connelly...  United States   \n",
       "4  Jim Sturgess, Kevin Spacey, Kate Bosworth, Aar...  United States   \n",
       "6  Amina Khalil, Ahmed Dawood, Tarek Lotfy, Ahmed...          Egypt   \n",
       "\n",
       "          date_added  release_year rating duration  \\\n",
       "1  December 23, 2016          2016  TV-MA   93 min   \n",
       "2  December 20, 2018          2011      R   78 min   \n",
       "3  November 16, 2017          2009  PG-13   80 min   \n",
       "4    January 1, 2020          2008  PG-13  123 min   \n",
       "6       June 1, 2020          2019  TV-MA   95 min   \n",
       "\n",
       "                                           listed_in  \\\n",
       "1                       Dramas, International Movies   \n",
       "2                Horror Movies, International Movies   \n",
       "3  Action & Adventure, Independent Movies, Sci-Fi...   \n",
       "4                                             Dramas   \n",
       "6                Horror Movies, International Movies   \n",
       "\n",
       "                                         description  year_added  \n",
       "1  After a devastating earthquake hits Mexico Cit...        2016  \n",
       "2  When an army recruit is found dead, his fellow...        2018  \n",
       "3  In a postapocalyptic world, rag-doll robots hi...        2017  \n",
       "4  A brilliant group of students become card-coun...        2020  \n",
       "6  After an awful accident, a couple admitted to ...        2020  "
      ]
     },
     "execution_count": 170,
     "metadata": {},
     "output_type": "execute_result"
    }
   ],
   "source": [
    "movie.head()"
   ]
  },
  {
   "cell_type": "code",
   "execution_count": 171,
   "metadata": {},
   "outputs": [
    {
     "data": {
      "text/html": [
       "<div>\n",
       "<style scoped>\n",
       "    .dataframe tbody tr th:only-of-type {\n",
       "        vertical-align: middle;\n",
       "    }\n",
       "\n",
       "    .dataframe tbody tr th {\n",
       "        vertical-align: top;\n",
       "    }\n",
       "\n",
       "    .dataframe thead th {\n",
       "        text-align: right;\n",
       "    }\n",
       "</style>\n",
       "<table border=\"1\" class=\"dataframe\">\n",
       "  <thead>\n",
       "    <tr style=\"text-align: right;\">\n",
       "      <th></th>\n",
       "      <th>show_id</th>\n",
       "      <th>type</th>\n",
       "      <th>title</th>\n",
       "      <th>director</th>\n",
       "      <th>cast</th>\n",
       "      <th>country</th>\n",
       "      <th>date_added</th>\n",
       "      <th>release_year</th>\n",
       "      <th>duration</th>\n",
       "      <th>listed_in</th>\n",
       "      <th>description</th>\n",
       "      <th>year_added</th>\n",
       "    </tr>\n",
       "    <tr>\n",
       "      <th>rating</th>\n",
       "      <th></th>\n",
       "      <th></th>\n",
       "      <th></th>\n",
       "      <th></th>\n",
       "      <th></th>\n",
       "      <th></th>\n",
       "      <th></th>\n",
       "      <th></th>\n",
       "      <th></th>\n",
       "      <th></th>\n",
       "      <th></th>\n",
       "      <th></th>\n",
       "    </tr>\n",
       "  </thead>\n",
       "  <tbody>\n",
       "    <tr>\n",
       "      <th>G</th>\n",
       "      <td>39</td>\n",
       "      <td>1</td>\n",
       "      <td>39</td>\n",
       "      <td>36</td>\n",
       "      <td>39</td>\n",
       "      <td>11</td>\n",
       "      <td>26</td>\n",
       "      <td>25</td>\n",
       "      <td>25</td>\n",
       "      <td>16</td>\n",
       "      <td>39</td>\n",
       "      <td>8</td>\n",
       "    </tr>\n",
       "    <tr>\n",
       "      <th>NC-17</th>\n",
       "      <td>3</td>\n",
       "      <td>1</td>\n",
       "      <td>3</td>\n",
       "      <td>3</td>\n",
       "      <td>3</td>\n",
       "      <td>3</td>\n",
       "      <td>3</td>\n",
       "      <td>3</td>\n",
       "      <td>3</td>\n",
       "      <td>3</td>\n",
       "      <td>3</td>\n",
       "      <td>3</td>\n",
       "    </tr>\n",
       "    <tr>\n",
       "      <th>NR</th>\n",
       "      <td>79</td>\n",
       "      <td>1</td>\n",
       "      <td>79</td>\n",
       "      <td>79</td>\n",
       "      <td>63</td>\n",
       "      <td>30</td>\n",
       "      <td>66</td>\n",
       "      <td>20</td>\n",
       "      <td>44</td>\n",
       "      <td>34</td>\n",
       "      <td>79</td>\n",
       "      <td>7</td>\n",
       "    </tr>\n",
       "    <tr>\n",
       "      <th>NULL</th>\n",
       "      <td>5</td>\n",
       "      <td>1</td>\n",
       "      <td>5</td>\n",
       "      <td>3</td>\n",
       "      <td>3</td>\n",
       "      <td>3</td>\n",
       "      <td>5</td>\n",
       "      <td>3</td>\n",
       "      <td>5</td>\n",
       "      <td>2</td>\n",
       "      <td>5</td>\n",
       "      <td>2</td>\n",
       "    </tr>\n",
       "    <tr>\n",
       "      <th>PG</th>\n",
       "      <td>247</td>\n",
       "      <td>1</td>\n",
       "      <td>247</td>\n",
       "      <td>210</td>\n",
       "      <td>242</td>\n",
       "      <td>62</td>\n",
       "      <td>159</td>\n",
       "      <td>43</td>\n",
       "      <td>61</td>\n",
       "      <td>72</td>\n",
       "      <td>246</td>\n",
       "      <td>10</td>\n",
       "    </tr>\n",
       "    <tr>\n",
       "      <th>PG-13</th>\n",
       "      <td>386</td>\n",
       "      <td>1</td>\n",
       "      <td>386</td>\n",
       "      <td>327</td>\n",
       "      <td>378</td>\n",
       "      <td>102</td>\n",
       "      <td>207</td>\n",
       "      <td>40</td>\n",
       "      <td>82</td>\n",
       "      <td>102</td>\n",
       "      <td>385</td>\n",
       "      <td>7</td>\n",
       "    </tr>\n",
       "    <tr>\n",
       "      <th>R</th>\n",
       "      <td>663</td>\n",
       "      <td>1</td>\n",
       "      <td>663</td>\n",
       "      <td>544</td>\n",
       "      <td>654</td>\n",
       "      <td>157</td>\n",
       "      <td>374</td>\n",
       "      <td>48</td>\n",
       "      <td>88</td>\n",
       "      <td>109</td>\n",
       "      <td>663</td>\n",
       "      <td>8</td>\n",
       "    </tr>\n",
       "    <tr>\n",
       "      <th>TV-14</th>\n",
       "      <td>1272</td>\n",
       "      <td>1</td>\n",
       "      <td>1272</td>\n",
       "      <td>1011</td>\n",
       "      <td>1140</td>\n",
       "      <td>144</td>\n",
       "      <td>543</td>\n",
       "      <td>62</td>\n",
       "      <td>158</td>\n",
       "      <td>118</td>\n",
       "      <td>1265</td>\n",
       "      <td>9</td>\n",
       "    </tr>\n",
       "    <tr>\n",
       "      <th>TV-G</th>\n",
       "      <td>111</td>\n",
       "      <td>1</td>\n",
       "      <td>111</td>\n",
       "      <td>93</td>\n",
       "      <td>89</td>\n",
       "      <td>31</td>\n",
       "      <td>85</td>\n",
       "      <td>15</td>\n",
       "      <td>63</td>\n",
       "      <td>36</td>\n",
       "      <td>110</td>\n",
       "      <td>8</td>\n",
       "    </tr>\n",
       "    <tr>\n",
       "      <th>TV-MA</th>\n",
       "      <td>1845</td>\n",
       "      <td>1</td>\n",
       "      <td>1845</td>\n",
       "      <td>1525</td>\n",
       "      <td>1612</td>\n",
       "      <td>241</td>\n",
       "      <td>881</td>\n",
       "      <td>50</td>\n",
       "      <td>143</td>\n",
       "      <td>129</td>\n",
       "      <td>1843</td>\n",
       "      <td>12</td>\n",
       "    </tr>\n",
       "    <tr>\n",
       "      <th>TV-PG</th>\n",
       "      <td>505</td>\n",
       "      <td>1</td>\n",
       "      <td>505</td>\n",
       "      <td>442</td>\n",
       "      <td>410</td>\n",
       "      <td>90</td>\n",
       "      <td>292</td>\n",
       "      <td>51</td>\n",
       "      <td>137</td>\n",
       "      <td>95</td>\n",
       "      <td>505</td>\n",
       "      <td>10</td>\n",
       "    </tr>\n",
       "    <tr>\n",
       "      <th>TV-Y</th>\n",
       "      <td>117</td>\n",
       "      <td>1</td>\n",
       "      <td>117</td>\n",
       "      <td>69</td>\n",
       "      <td>96</td>\n",
       "      <td>16</td>\n",
       "      <td>76</td>\n",
       "      <td>14</td>\n",
       "      <td>48</td>\n",
       "      <td>9</td>\n",
       "      <td>117</td>\n",
       "      <td>8</td>\n",
       "    </tr>\n",
       "    <tr>\n",
       "      <th>TV-Y7</th>\n",
       "      <td>95</td>\n",
       "      <td>1</td>\n",
       "      <td>95</td>\n",
       "      <td>71</td>\n",
       "      <td>83</td>\n",
       "      <td>23</td>\n",
       "      <td>62</td>\n",
       "      <td>16</td>\n",
       "      <td>51</td>\n",
       "      <td>12</td>\n",
       "      <td>95</td>\n",
       "      <td>7</td>\n",
       "    </tr>\n",
       "    <tr>\n",
       "      <th>TV-Y7-FV</th>\n",
       "      <td>5</td>\n",
       "      <td>1</td>\n",
       "      <td>5</td>\n",
       "      <td>5</td>\n",
       "      <td>4</td>\n",
       "      <td>5</td>\n",
       "      <td>5</td>\n",
       "      <td>4</td>\n",
       "      <td>5</td>\n",
       "      <td>2</td>\n",
       "      <td>5</td>\n",
       "      <td>5</td>\n",
       "    </tr>\n",
       "    <tr>\n",
       "      <th>UR</th>\n",
       "      <td>5</td>\n",
       "      <td>1</td>\n",
       "      <td>5</td>\n",
       "      <td>5</td>\n",
       "      <td>5</td>\n",
       "      <td>5</td>\n",
       "      <td>5</td>\n",
       "      <td>4</td>\n",
       "      <td>4</td>\n",
       "      <td>4</td>\n",
       "      <td>5</td>\n",
       "      <td>2</td>\n",
       "    </tr>\n",
       "  </tbody>\n",
       "</table>\n",
       "</div>"
      ],
      "text/plain": [
       "          show_id  type  title  director  cast  country  date_added  \\\n",
       "rating                                                                \n",
       "G              39     1     39        36    39       11          26   \n",
       "NC-17           3     1      3         3     3        3           3   \n",
       "NR             79     1     79        79    63       30          66   \n",
       "NULL            5     1      5         3     3        3           5   \n",
       "PG            247     1    247       210   242       62         159   \n",
       "PG-13         386     1    386       327   378      102         207   \n",
       "R             663     1    663       544   654      157         374   \n",
       "TV-14        1272     1   1272      1011  1140      144         543   \n",
       "TV-G          111     1    111        93    89       31          85   \n",
       "TV-MA        1845     1   1845      1525  1612      241         881   \n",
       "TV-PG         505     1    505       442   410       90         292   \n",
       "TV-Y          117     1    117        69    96       16          76   \n",
       "TV-Y7          95     1     95        71    83       23          62   \n",
       "TV-Y7-FV        5     1      5         5     4        5           5   \n",
       "UR              5     1      5         5     5        5           5   \n",
       "\n",
       "          release_year  duration  listed_in  description  year_added  \n",
       "rating                                                                \n",
       "G                   25        25         16           39           8  \n",
       "NC-17                3         3          3            3           3  \n",
       "NR                  20        44         34           79           7  \n",
       "NULL                 3         5          2            5           2  \n",
       "PG                  43        61         72          246          10  \n",
       "PG-13               40        82        102          385           7  \n",
       "R                   48        88        109          663           8  \n",
       "TV-14               62       158        118         1265           9  \n",
       "TV-G                15        63         36          110           8  \n",
       "TV-MA               50       143        129         1843          12  \n",
       "TV-PG               51       137         95          505          10  \n",
       "TV-Y                14        48          9          117           8  \n",
       "TV-Y7               16        51         12           95           7  \n",
       "TV-Y7-FV             4         5          2            5           5  \n",
       "UR                   4         4          4            5           2  "
      ]
     },
     "execution_count": 171,
     "metadata": {},
     "output_type": "execute_result"
    }
   ],
   "source": [
    "df=movie\n",
    "df.groupby('rating').nunique()"
   ]
  },
  {
   "cell_type": "code",
   "execution_count": 172,
   "metadata": {},
   "outputs": [
    {
     "data": {
      "text/html": [
       "<div>\n",
       "<style scoped>\n",
       "    .dataframe tbody tr th:only-of-type {\n",
       "        vertical-align: middle;\n",
       "    }\n",
       "\n",
       "    .dataframe tbody tr th {\n",
       "        vertical-align: top;\n",
       "    }\n",
       "\n",
       "    .dataframe thead th {\n",
       "        text-align: right;\n",
       "    }\n",
       "</style>\n",
       "<table border=\"1\" class=\"dataframe\">\n",
       "  <thead>\n",
       "    <tr style=\"text-align: right;\">\n",
       "      <th></th>\n",
       "      <th>show_id</th>\n",
       "      <th>type</th>\n",
       "      <th>title</th>\n",
       "      <th>director</th>\n",
       "      <th>cast</th>\n",
       "      <th>country</th>\n",
       "      <th>date_added</th>\n",
       "      <th>release_year</th>\n",
       "      <th>rating</th>\n",
       "      <th>duration</th>\n",
       "      <th>listed_in</th>\n",
       "      <th>description</th>\n",
       "      <th>year_added</th>\n",
       "    </tr>\n",
       "  </thead>\n",
       "  <tbody>\n",
       "    <tr>\n",
       "      <th>0</th>\n",
       "      <td>s1</td>\n",
       "      <td>TV Show</td>\n",
       "      <td>3%</td>\n",
       "      <td>NULL</td>\n",
       "      <td>João Miguel, Bianca Comparato, Michel Gomes, R...</td>\n",
       "      <td>Brazil</td>\n",
       "      <td>August 14, 2020</td>\n",
       "      <td>2020</td>\n",
       "      <td>TV-MA</td>\n",
       "      <td>4 Seasons</td>\n",
       "      <td>International TV Shows, TV Dramas, TV Sci-Fi &amp;...</td>\n",
       "      <td>In a future where the elite inhabit an island ...</td>\n",
       "      <td>2020</td>\n",
       "    </tr>\n",
       "    <tr>\n",
       "      <th>5</th>\n",
       "      <td>s6</td>\n",
       "      <td>TV Show</td>\n",
       "      <td>46</td>\n",
       "      <td>Serdar Akar</td>\n",
       "      <td>Erdal Beşikçioğlu, Yasemin Allen, Melis Birkan...</td>\n",
       "      <td>Turkey</td>\n",
       "      <td>July 1, 2017</td>\n",
       "      <td>2016</td>\n",
       "      <td>TV-MA</td>\n",
       "      <td>1 Season</td>\n",
       "      <td>International TV Shows, TV Dramas, TV Mysteries</td>\n",
       "      <td>A genetics professor experiments with a treatm...</td>\n",
       "      <td>2017</td>\n",
       "    </tr>\n",
       "    <tr>\n",
       "      <th>11</th>\n",
       "      <td>s12</td>\n",
       "      <td>TV Show</td>\n",
       "      <td>1983</td>\n",
       "      <td>NULL</td>\n",
       "      <td>Robert Więckiewicz, Maciej Musiał, Michalina O...</td>\n",
       "      <td>Poland, United States</td>\n",
       "      <td>November 30, 2018</td>\n",
       "      <td>2018</td>\n",
       "      <td>TV-MA</td>\n",
       "      <td>1 Season</td>\n",
       "      <td>Crime TV Shows, International TV Shows, TV Dramas</td>\n",
       "      <td>In this dark alt-history thriller, a naïve law...</td>\n",
       "      <td>2018</td>\n",
       "    </tr>\n",
       "    <tr>\n",
       "      <th>12</th>\n",
       "      <td>s13</td>\n",
       "      <td>TV Show</td>\n",
       "      <td>1994</td>\n",
       "      <td>Diego Enrique Osorno</td>\n",
       "      <td>NULL</td>\n",
       "      <td>Mexico</td>\n",
       "      <td>May 17, 2019</td>\n",
       "      <td>2019</td>\n",
       "      <td>TV-MA</td>\n",
       "      <td>1 Season</td>\n",
       "      <td>Crime TV Shows, Docuseries, International TV S...</td>\n",
       "      <td>Archival video and new interviews examine Mexi...</td>\n",
       "      <td>2019</td>\n",
       "    </tr>\n",
       "    <tr>\n",
       "      <th>16</th>\n",
       "      <td>s17</td>\n",
       "      <td>TV Show</td>\n",
       "      <td>Feb-09</td>\n",
       "      <td>NULL</td>\n",
       "      <td>Shahd El Yaseen, Shaila Sabt, Hala, Hanadi Al-...</td>\n",
       "      <td>NULL</td>\n",
       "      <td>March 20, 2019</td>\n",
       "      <td>2018</td>\n",
       "      <td>TV-14</td>\n",
       "      <td>1 Season</td>\n",
       "      <td>International TV Shows, TV Dramas</td>\n",
       "      <td>As a psychology professor faces Alzheimer's, h...</td>\n",
       "      <td>2019</td>\n",
       "    </tr>\n",
       "  </tbody>\n",
       "</table>\n",
       "</div>"
      ],
      "text/plain": [
       "   show_id     type   title              director  \\\n",
       "0       s1  TV Show      3%                  NULL   \n",
       "5       s6  TV Show      46           Serdar Akar   \n",
       "11     s12  TV Show    1983                  NULL   \n",
       "12     s13  TV Show    1994  Diego Enrique Osorno   \n",
       "16     s17  TV Show  Feb-09                  NULL   \n",
       "\n",
       "                                                 cast                country  \\\n",
       "0   João Miguel, Bianca Comparato, Michel Gomes, R...                 Brazil   \n",
       "5   Erdal Beşikçioğlu, Yasemin Allen, Melis Birkan...                 Turkey   \n",
       "11  Robert Więckiewicz, Maciej Musiał, Michalina O...  Poland, United States   \n",
       "12                                               NULL                 Mexico   \n",
       "16  Shahd El Yaseen, Shaila Sabt, Hala, Hanadi Al-...                   NULL   \n",
       "\n",
       "           date_added  release_year rating   duration  \\\n",
       "0     August 14, 2020          2020  TV-MA  4 Seasons   \n",
       "5        July 1, 2017          2016  TV-MA   1 Season   \n",
       "11  November 30, 2018          2018  TV-MA   1 Season   \n",
       "12       May 17, 2019          2019  TV-MA   1 Season   \n",
       "16     March 20, 2019          2018  TV-14   1 Season   \n",
       "\n",
       "                                            listed_in  \\\n",
       "0   International TV Shows, TV Dramas, TV Sci-Fi &...   \n",
       "5     International TV Shows, TV Dramas, TV Mysteries   \n",
       "11  Crime TV Shows, International TV Shows, TV Dramas   \n",
       "12  Crime TV Shows, Docuseries, International TV S...   \n",
       "16                  International TV Shows, TV Dramas   \n",
       "\n",
       "                                          description  year_added  \n",
       "0   In a future where the elite inhabit an island ...        2020  \n",
       "5   A genetics professor experiments with a treatm...        2017  \n",
       "11  In this dark alt-history thriller, a naïve law...        2018  \n",
       "12  Archival video and new interviews examine Mexi...        2019  \n",
       "16  As a psychology professor faces Alzheimer's, h...        2019  "
      ]
     },
     "execution_count": 172,
     "metadata": {},
     "output_type": "execute_result"
    }
   ],
   "source": [
    "tv_show.head()"
   ]
  },
  {
   "cell_type": "code",
   "execution_count": 173,
   "metadata": {},
   "outputs": [
    {
     "data": {
      "text/html": [
       "<div>\n",
       "<style scoped>\n",
       "    .dataframe tbody tr th:only-of-type {\n",
       "        vertical-align: middle;\n",
       "    }\n",
       "\n",
       "    .dataframe tbody tr th {\n",
       "        vertical-align: top;\n",
       "    }\n",
       "\n",
       "    .dataframe thead th {\n",
       "        text-align: right;\n",
       "    }\n",
       "</style>\n",
       "<table border=\"1\" class=\"dataframe\">\n",
       "  <thead>\n",
       "    <tr style=\"text-align: right;\">\n",
       "      <th></th>\n",
       "      <th>show_id</th>\n",
       "      <th>type</th>\n",
       "      <th>title</th>\n",
       "      <th>director</th>\n",
       "      <th>cast</th>\n",
       "      <th>country</th>\n",
       "      <th>date_added</th>\n",
       "      <th>release_year</th>\n",
       "      <th>duration</th>\n",
       "      <th>listed_in</th>\n",
       "      <th>description</th>\n",
       "      <th>year_added</th>\n",
       "    </tr>\n",
       "    <tr>\n",
       "      <th>rating</th>\n",
       "      <th></th>\n",
       "      <th></th>\n",
       "      <th></th>\n",
       "      <th></th>\n",
       "      <th></th>\n",
       "      <th></th>\n",
       "      <th></th>\n",
       "      <th></th>\n",
       "      <th></th>\n",
       "      <th></th>\n",
       "      <th></th>\n",
       "      <th></th>\n",
       "    </tr>\n",
       "  </thead>\n",
       "  <tbody>\n",
       "    <tr>\n",
       "      <th>NR</th>\n",
       "      <td>5</td>\n",
       "      <td>1</td>\n",
       "      <td>5</td>\n",
       "      <td>1</td>\n",
       "      <td>5</td>\n",
       "      <td>3</td>\n",
       "      <td>4</td>\n",
       "      <td>3</td>\n",
       "      <td>3</td>\n",
       "      <td>5</td>\n",
       "      <td>5</td>\n",
       "      <td>3</td>\n",
       "    </tr>\n",
       "    <tr>\n",
       "      <th>NULL</th>\n",
       "      <td>2</td>\n",
       "      <td>1</td>\n",
       "      <td>2</td>\n",
       "      <td>1</td>\n",
       "      <td>2</td>\n",
       "      <td>2</td>\n",
       "      <td>2</td>\n",
       "      <td>2</td>\n",
       "      <td>1</td>\n",
       "      <td>2</td>\n",
       "      <td>2</td>\n",
       "      <td>2</td>\n",
       "    </tr>\n",
       "    <tr>\n",
       "      <th>R</th>\n",
       "      <td>2</td>\n",
       "      <td>1</td>\n",
       "      <td>2</td>\n",
       "      <td>2</td>\n",
       "      <td>2</td>\n",
       "      <td>2</td>\n",
       "      <td>2</td>\n",
       "      <td>2</td>\n",
       "      <td>1</td>\n",
       "      <td>2</td>\n",
       "      <td>2</td>\n",
       "      <td>2</td>\n",
       "    </tr>\n",
       "    <tr>\n",
       "      <th>TV-14</th>\n",
       "      <td>659</td>\n",
       "      <td>1</td>\n",
       "      <td>659</td>\n",
       "      <td>47</td>\n",
       "      <td>600</td>\n",
       "      <td>65</td>\n",
       "      <td>413</td>\n",
       "      <td>30</td>\n",
       "      <td>14</td>\n",
       "      <td>137</td>\n",
       "      <td>659</td>\n",
       "      <td>8</td>\n",
       "    </tr>\n",
       "    <tr>\n",
       "      <th>TV-G</th>\n",
       "      <td>83</td>\n",
       "      <td>1</td>\n",
       "      <td>83</td>\n",
       "      <td>5</td>\n",
       "      <td>65</td>\n",
       "      <td>18</td>\n",
       "      <td>74</td>\n",
       "      <td>21</td>\n",
       "      <td>7</td>\n",
       "      <td>32</td>\n",
       "      <td>83</td>\n",
       "      <td>8</td>\n",
       "    </tr>\n",
       "    <tr>\n",
       "      <th>TV-MA</th>\n",
       "      <td>1018</td>\n",
       "      <td>1</td>\n",
       "      <td>1018</td>\n",
       "      <td>94</td>\n",
       "      <td>882</td>\n",
       "      <td>103</td>\n",
       "      <td>571</td>\n",
       "      <td>24</td>\n",
       "      <td>12</td>\n",
       "      <td>151</td>\n",
       "      <td>1018</td>\n",
       "      <td>10</td>\n",
       "    </tr>\n",
       "    <tr>\n",
       "      <th>TV-PG</th>\n",
       "      <td>301</td>\n",
       "      <td>1</td>\n",
       "      <td>301</td>\n",
       "      <td>21</td>\n",
       "      <td>239</td>\n",
       "      <td>35</td>\n",
       "      <td>209</td>\n",
       "      <td>28</td>\n",
       "      <td>10</td>\n",
       "      <td>84</td>\n",
       "      <td>301</td>\n",
       "      <td>8</td>\n",
       "    </tr>\n",
       "    <tr>\n",
       "      <th>TV-Y</th>\n",
       "      <td>163</td>\n",
       "      <td>1</td>\n",
       "      <td>163</td>\n",
       "      <td>8</td>\n",
       "      <td>136</td>\n",
       "      <td>46</td>\n",
       "      <td>130</td>\n",
       "      <td>17</td>\n",
       "      <td>7</td>\n",
       "      <td>10</td>\n",
       "      <td>161</td>\n",
       "      <td>8</td>\n",
       "    </tr>\n",
       "    <tr>\n",
       "      <th>TV-Y7</th>\n",
       "      <td>176</td>\n",
       "      <td>1</td>\n",
       "      <td>176</td>\n",
       "      <td>9</td>\n",
       "      <td>163</td>\n",
       "      <td>46</td>\n",
       "      <td>132</td>\n",
       "      <td>29</td>\n",
       "      <td>8</td>\n",
       "      <td>18</td>\n",
       "      <td>176</td>\n",
       "      <td>7</td>\n",
       "    </tr>\n",
       "    <tr>\n",
       "      <th>TV-Y7-FV</th>\n",
       "      <td>1</td>\n",
       "      <td>1</td>\n",
       "      <td>1</td>\n",
       "      <td>1</td>\n",
       "      <td>1</td>\n",
       "      <td>1</td>\n",
       "      <td>1</td>\n",
       "      <td>1</td>\n",
       "      <td>1</td>\n",
       "      <td>1</td>\n",
       "      <td>1</td>\n",
       "      <td>1</td>\n",
       "    </tr>\n",
       "  </tbody>\n",
       "</table>\n",
       "</div>"
      ],
      "text/plain": [
       "          show_id  type  title  director  cast  country  date_added  \\\n",
       "rating                                                                \n",
       "NR              5     1      5         1     5        3           4   \n",
       "NULL            2     1      2         1     2        2           2   \n",
       "R               2     1      2         2     2        2           2   \n",
       "TV-14         659     1    659        47   600       65         413   \n",
       "TV-G           83     1     83         5    65       18          74   \n",
       "TV-MA        1018     1   1018        94   882      103         571   \n",
       "TV-PG         301     1    301        21   239       35         209   \n",
       "TV-Y          163     1    163         8   136       46         130   \n",
       "TV-Y7         176     1    176         9   163       46         132   \n",
       "TV-Y7-FV        1     1      1         1     1        1           1   \n",
       "\n",
       "          release_year  duration  listed_in  description  year_added  \n",
       "rating                                                                \n",
       "NR                   3         3          5            5           3  \n",
       "NULL                 2         1          2            2           2  \n",
       "R                    2         1          2            2           2  \n",
       "TV-14               30        14        137          659           8  \n",
       "TV-G                21         7         32           83           8  \n",
       "TV-MA               24        12        151         1018          10  \n",
       "TV-PG               28        10         84          301           8  \n",
       "TV-Y                17         7         10          161           8  \n",
       "TV-Y7               29         8         18          176           7  \n",
       "TV-Y7-FV             1         1          1            1           1  "
      ]
     },
     "execution_count": 173,
     "metadata": {},
     "output_type": "execute_result"
    }
   ],
   "source": [
    "df=tv_show\n",
    "df.groupby('rating').nunique()"
   ]
  },
  {
   "cell_type": "code",
   "execution_count": 174,
   "metadata": {},
   "outputs": [
    {
     "data": {
      "image/png": "[encoded data removed]",
      "text/plain": [
       "<Figure size 2800x1500 with 1 Axes>"
      ]
     },
     "metadata": {},
     "output_type": "display_data"
    }
   ],
   "source": [
    "import matplotlib.patheffects as path_effects\n",
    "year_data = data['year_added'].value_counts().sort_index().loc[:2019]\n",
    "type_data = data.groupby('type')['year_added'].value_counts().sort_index().unstack().fillna(0).T.loc[:2019] \n",
    "\n",
    "fig, ax = plt.subplots(1,1, figsize=(28, 15))\n",
    "ax.plot(year_data.index, year_data,  color=\"red\", linewidth=5, label='Total', path_effects=[path_effects.SimpleLineShadow(),\n",
    "                       path_effects.Normal()])\n",
    "ax.plot(type_data.index, type_data['Movie'], color='skyblue', linewidth=5, label='Movie', path_effects=[path_effects.SimpleLineShadow(),\n",
    "                       path_effects.Normal()])\n",
    "ax.plot(type_data.index, type_data['TV Show'], color='green', linewidth=5, label='TV Show', path_effects=[path_effects.SimpleLineShadow(),\n",
    "                       path_effects.Normal()])\n",
    "\n",
    "ax.set_xlim(2006, 2020)\n",
    "ax.set_ylim(-40, 2700)\n",
    "\n",
    "t = [\n",
    "    2008,\n",
    "    2011.9,\n",
    "    2012.1,\n",
    "    2013.1,\n",
    "    2015.7,\n",
    "    2016.1,\n",
    "    2016.9,\n",
    "    2018.3,\n",
    "]\n",
    "\n",
    "events = [\n",
    "    \"Launch Streaming Video\\n2007.1\",\n",
    "    \"Launch in Mexico and LATAM\\n2011.9\",\n",
    "    \"Expanding to Europe\\n2012.1\",\n",
    "    \"First Original Content\\n2013.2\",\n",
    "    \"Expanding to Japan\\n2015.9\",\n",
    "    \"Original targeting Kids\\n2016/1\",\n",
    "    \"Offline Playback Features to all of Users\\n2016/11\"\n",
    "    \"Netflix Animation\\n2018.3\"\n",
    "]\n",
    "\n",
    "up_down = [100, 110, 280, 110, 0, 0, 0, 200]\n",
    "\n",
    "left_right = [ -1, 0, 0, 0, 1, 1, 1.6, 0 ]\n",
    "\n",
    "for t_i, event_i, ud_i, lr_i in zip(t, events, up_down, left_right):\n",
    "    ax.annotate(event_i,\n",
    "                xy=(t_i + lr_i, year_data[int(t_i)] * (int(t_i+1)-t_i) + year_data[int(t_i)+1]  * (t_i-int(t_i)) + ud_i),\n",
    "                xytext=(0,0), textcoords='offset points',\n",
    "                va=\"center\", ha=\"center\",\n",
    "                color=\"w\", fontsize=16,\n",
    "                bbox=dict(boxstyle='round4', pad=0.5, color='#303030', alpha=0.90))\n",
    "    \n",
    "    # A proportional expression to draw the middle of the year\n",
    "    ax.scatter(t_i, year_data[int(t_i)] * (int(t_i+1)-t_i) + year_data[int(t_i)+1]  * (t_i-int(t_i)), color='yellow', s=300)\n",
    "\n",
    "ax.set_facecolor((0.4, 0.4, 0.4))\n",
    "ax.set_title(\"Why Netflix's Content Count Increased?\", position=(0.5, 1.0+0.05), fontsize=30, fontweight='bold')\n",
    "ax.yaxis.set_tick_params(labelsize=20)\n",
    "ax.xaxis.set_tick_params(labelsize=20)\n",
    "plt.legend(loc='upper left', fontsize=20)\n",
    "\n",
    "plt.show()"
   ]
  },
  {
   "cell_type": "code",
   "execution_count": 175,
   "metadata": {},
   "outputs": [
    {
     "name": "stdout",
     "output_type": "stream",
     "text": [
      "total : 9067\n",
      "top 20 countries : 7879\n",
      "percentage : 7879/9067 = 86.8975405315981\n"
     ]
    }
   ],
   "source": [
    "#Which country produces more content\n",
    "from collections import Counter\n",
    "country_data = data['country']\n",
    "country_counting = pd.Series(dict(Counter(','.join(country_data).replace(' ,',',').replace(', ',',').split(',')))).sort_values(ascending=False)\n",
    "country_counting.drop(['NULL'], axis=0, inplace=True)\n",
    "\n",
    "tot = sum(country_counting)\n",
    "top20 = sum(country_counting[:20])\n",
    "\n",
    "print(f'total : {tot}')\n",
    "print(f'top 20 countries : {top20}')\n",
    "print(f'percentage : {top20}/{tot} = {100 * top20/tot}')"
   ]
  },
  {
   "cell_type": "code",
   "execution_count": 176,
   "metadata": {},
   "outputs": [
    {
     "data": {
      "text/plain": [
       "United States     3297\n",
       "India              990\n",
       "United Kingdom     723\n",
       "Canada             412\n",
       "France             349\n",
       "dtype: int64"
      ]
     },
     "execution_count": 176,
     "metadata": {},
     "output_type": "execute_result"
    }
   ],
   "source": [
    "top20_country = country_counting[:20]\n",
    "top20_country.head()"
   ]
  },
  {
   "cell_type": "code",
   "execution_count": 177,
   "metadata": {},
   "outputs": [
    {
     "data": {
      "image/png": "[encoded data removed]",
      "text/plain": [
       "<Figure size 1700x1700 with 1 Axes>"
      ]
     },
     "metadata": {},
     "output_type": "display_data"
    }
   ],
   "source": [
    "import matplotlib.pyplot as plt\n",
    "import squarify\n",
    "y = top20_country\n",
    "fig = plt.figure(figsize=(17, 17))\n",
    "squarify.plot(sizes = y.values, label = y.index, color=sns.color_palette(\"RdGy\", n_colors=20),\n",
    "             linewidth=4, text_kwargs={'fontsize':14, 'fontweight' : 'bold'})\n",
    "plt.title('Top 20 producing countries', position=(0.5, 1.0+0.03), fontsize = 20, fontweight='bold')\n",
    "plt.axis('off')\n",
    "plt.show()"
   ]
  },
  {
   "cell_type": "code",
   "execution_count": 178,
   "metadata": {},
   "outputs": [
    {
     "data": {
      "application/vnd.plotly.v1+json": {
       "config": {
        "plotlyServerURL": "https://plot.ly"
       },
       "data": [
        {
         "coloraxis": "coloraxis",
         "geo": "geo",
         "hovertemplate": "year_added=2008<br>country=%{location}<br>counts=%{z}<extra></extra>",
         "locationmode": "country names",
         "locations": [
          "United States"
         ],
         "name": "",
         "type": "choropleth",
         "z": [
          2
         ]
        }
       ],
       "frames": [
        {
         "data": [
          {
           "coloraxis": "coloraxis",
           "geo": "geo",
           "hovertemplate": "year_added=2008<br>country=%{location}<br>counts=%{z}<extra></extra>",
           "locationmode": "country names",
           "locations": [
            "United States"
           ],
           "name": "",
           "type": "choropleth",
           "z": [
            2
           ]
          }
         ],
         "name": "2008"
        },
        {
         "data": [
          {
           "coloraxis": "coloraxis",
           "geo": "geo",
           "hovertemplate": "year_added=2009<br>country=%{location}<br>counts=%{z}<extra></extra>",
           "locationmode": "country names",
           "locations": [
            "Denmark",
            "United States"
           ],
           "name": "",
           "type": "choropleth",
           "z": [
            1,
            1
           ]
          }
         ],
         "name": "2009"
        },
        {
         "data": [
          {
           "coloraxis": "coloraxis",
           "geo": "geo",
           "hovertemplate": "year_added=2010<br>country=%{location}<br>counts=%{z}<extra></extra>",
           "locationmode": "country names",
           "locations": [
            "United States"
           ],
           "name": "",
           "type": "choropleth",
           "z": [
            1
           ]
          }
         ],
         "name": "2010"
        },
        {
         "data": [
          {
           "coloraxis": "coloraxis",
           "geo": "geo",
           "hovertemplate": "year_added=2011<br>country=%{location}<br>counts=%{z}<extra></extra>",
           "locationmode": "country names",
           "locations": [
            "United States",
            "Spain, Mexico, France"
           ],
           "name": "",
           "type": "choropleth",
           "z": [
            12,
            1
           ]
          }
         ],
         "name": "2011"
        },
        {
         "data": [
          {
           "coloraxis": "coloraxis",
           "geo": "geo",
           "hovertemplate": "year_added=2012<br>country=%{location}<br>counts=%{z}<extra></extra>",
           "locationmode": "country names",
           "locations": [
            "United States",
            "United States, Mexico"
           ],
           "name": "",
           "type": "choropleth",
           "z": [
            2,
            1
           ]
          }
         ],
         "name": "2012"
        },
        {
         "data": [
          {
           "coloraxis": "coloraxis",
           "geo": "geo",
           "hovertemplate": "year_added=2013<br>country=%{location}<br>counts=%{z}<extra></extra>",
           "locationmode": "country names",
           "locations": [
            "United States",
            "Canada",
            "United States, Ireland",
            "United States, United Kingdom"
           ],
           "name": "",
           "type": "choropleth",
           "z": [
            8,
            1,
            1,
            1
           ]
          }
         ],
         "name": "2013"
        },
        {
         "data": [
          {
           "coloraxis": "coloraxis",
           "geo": "geo",
           "hovertemplate": "year_added=2014<br>country=%{location}<br>counts=%{z}<extra></extra>",
           "locationmode": "country names",
           "locations": [
            "United States",
            "Canada",
            "Canada, United States",
            "Norway, United States",
            "United Kingdom,",
            "United Kingdom, Egypt, United States",
            "United Kingdom, United States",
            "United States, Bermuda, Ecuador",
            "United States, Canada",
            "United States, Hungary, Ireland, Canada"
           ],
           "name": "",
           "type": "choropleth",
           "z": [
            16,
            1,
            1,
            1,
            1,
            1,
            1,
            1,
            1,
            1
           ]
          }
         ],
         "name": "2014"
        },
        {
         "data": [
          {
           "coloraxis": "coloraxis",
           "geo": "geo",
           "hovertemplate": "year_added=2015<br>country=%{location}<br>counts=%{z}<extra></extra>",
           "locationmode": "country names",
           "locations": [
            "United States",
            "NULL",
            "Canada",
            "United Kingdom",
            "France",
            "France, Belgium",
            "United States, Canada",
            "United States, United Kingdom",
            "Australia",
            "Australia, France, Ireland",
            "Australia, United Kingdom, United States, New Zealand, Italy, France",
            "Belgium",
            "Canada, Australia",
            "Canada, United States",
            "Germany",
            "Germany, Australia, France, China",
            "Italy, France",
            "Japan",
            "Mexico",
            "New Zealand",
            "Nigeria",
            "Norway, United Kingdom, France, Ireland",
            "United Kingdom, Ukraine, United States",
            "United States, Italy"
           ],
           "name": "",
           "type": "choropleth",
           "z": [
            52,
            5,
            4,
            3,
            2,
            2,
            2,
            2,
            1,
            1,
            1,
            1,
            1,
            1,
            1,
            1,
            1,
            1,
            1,
            1,
            1,
            1,
            1,
            1
           ]
          }
         ],
         "name": "2015"
        },
        {
         "data": [
          {
           "coloraxis": "coloraxis",
           "geo": "geo",
           "hovertemplate": "year_added=2016<br>country=%{location}<br>counts=%{z}<extra></extra>",
           "locationmode": "country names",
           "locations": [
            "United States",
            "United Kingdom",
            "Taiwan",
            "NULL",
            "Japan",
            "Canada",
            "India",
            "Spain",
            "South Korea",
            "France",
            "Mexico",
            "Australia",
            "Canada, United States",
            "Germany",
            "United States, France, Japan",
            "United Kingdom, United States, Spain, Germany, Greece, Canada",
            "China",
            "Italy",
            "Netherlands",
            "Norway",
            "Pakistan",
            "Turkey",
            "Argentina",
            "Brazil",
            "Colombia",
            "Denmark",
            "France, Belgium",
            "Hong Kong, China",
            "Japan, United States",
            "United States, Canada",
            "United States, Japan",
            "United States, New Zealand",
            "Argentina, Chile, Peru",
            "Austria",
            "Belgium, France",
            "Canada, Japan, Netherlands",
            "Canada, United Kingdom",
            "Canada, United Kingdom, Netherlands",
            "Canada, United Kingdom, United States",
            "Chile, United States, France",
            "China, Germany, India, United States",
            "China, Hong Kong",
            "China, United States",
            "Croatia, Slovenia, Serbia, Montenegro",
            "Denmark, Indonesia, Finland, Norway, United Kingdom, Israel, France, United States, Germany, Netherlands",
            "Denmark, United Kingdom, Sweden",
            "Denmark, United States",
            "Denmark, Zimbabwe",
            "France, Belgium, Spain",
            "France, Germany",
            "France, Japan, United States",
            "France, Qatar",
            "France, South Korea, Japan",
            "France, United States, Canada",
            "Hong Kong",
            "Iceland",
            "India, United Kingdom",
            "Ireland",
            "Ireland, South Africa",
            "Ireland, United Kingdom, United States",
            "Israel",
            "Israel, Germany, France",
            "Mexico, France",
            "Netherlands, Denmark, South Africa",
            "New Zealand",
            "Nigeria",
            "Pakistan, Norway, United States",
            "Peru",
            "Peru, United States, United Kingdom",
            "Poland",
            "Russia",
            "Spain, Cuba",
            "Sweden",
            "Switzerland",
            "Turkey, Azerbaijan",
            "United Arab Emirates, Jordan",
            "United Kingdom, Australia, Canada, United States",
            "United Kingdom, France",
            "United Kingdom, Germany, Canada",
            "United Kingdom, India, United States",
            "United States, Australia",
            "United States, France",
            "United States, Greece, United Kingdom",
            "United States, Hungary",
            "United States, Ireland",
            "United States, Kazakhstan",
            "United States, Netherlands, Japan, France",
            "United States, New Zealand, Japan",
            "United States, Russia",
            "United States, South Korea, China"
           ],
           "name": "",
           "type": "choropleth",
           "z": [
            159,
            37,
            29,
            19,
            17,
            13,
            11,
            11,
            9,
            8,
            8,
            7,
            5,
            5,
            5,
            4,
            3,
            3,
            3,
            3,
            3,
            3,
            2,
            2,
            2,
            2,
            2,
            2,
            2,
            2,
            2,
            2,
            1,
            1,
            1,
            1,
            1,
            1,
            1,
            1,
            1,
            1,
            1,
            1,
            1,
            1,
            1,
            1,
            1,
            1,
            1,
            1,
            1,
            1,
            1,
            1,
            1,
            1,
            1,
            1,
            1,
            1,
            1,
            1,
            1,
            1,
            1,
            1,
            1,
            1,
            1,
            1,
            1,
            1,
            1,
            1,
            1,
            1,
            1,
            1,
            1,
            1,
            1,
            1,
            1,
            1,
            1,
            1,
            1,
            1
           ]
          }
         ],
         "name": "2016"
        },
        {
         "data": [
          {
           "coloraxis": "coloraxis",
           "geo": "geo",
           "hovertemplate": "year_added=2017<br>country=%{location}<br>counts=%{z}<extra></extra>",
           "locationmode": "country names",
           "locations": [
            "United States",
            "India",
            "United Kingdom",
            "NULL",
            "Turkey",
            "South Korea",
            "Canada",
            "Japan",
            "Mexico",
            "Spain",
            "France",
            "Singapore",
            "China",
            "Australia",
            "Brazil",
            "Germany",
            "Taiwan",
            "United States, Canada",
            "Canada, United States",
            "United Kingdom, United States",
            "Argentina",
            "France, Belgium",
            "Malaysia",
            "Italy",
            "Russia",
            "Chile",
            "China, Hong Kong",
            "Pakistan",
            "United States, United Kingdom",
            "Israel",
            "Japan, United States",
            "Argentina, Spain",
            "Australia, United States",
            "Belgium, France",
            "India, France",
            "India, Soviet Union",
            "India, United States",
            "Indonesia",
            "Ireland",
            "Italy, France",
            "Mexico, United States",
            "New Zealand",
            "Norway",
            "Spain, Argentina",
            "Sweden",
            "Sweden, United States",
            "United States, Australia",
            "United States, Japan",
            "United States, Spain",
            "Argentina, Uruguay, Spain, France",
            "Australia, Armenia, Japan, Jordan, Mexico, Mongolia, New Zealand, Philippines, South Africa, Sweden, United States, Uruguay",
            "Australia, Canada",
            "Australia, India",
            "Australia, United Arab Emirates",
            "Austria, Czech Republic",
            "Belgium",
            "Belgium, Ireland, Netherlands, Germany, Afghanistan",
            "Brazil, Netherlands, United States, Colombia, Austria, Germany",
            "Bulgaria, United States, Spain, Canada",
            "Cambodia, United States",
            "Canada, France",
            "Canada, Germany, South Africa",
            "Canada, India",
            "Canada, India, Thailand, United States, United Arab Emirates",
            "Canada, Ireland, United States",
            "Canada, Spain",
            "Canada, United States, United Kingdom",
            "Chile, Argentina, France, Spain, United States",
            "Chile, France",
            "Chile, Spain, Argentina, Germany",
            "China, India, Nepal",
            "China, South Korea, United States",
            "Colombia",
            "Colombia, Mexico, United States",
            "Colombia, United States",
            "Czech Republic, France",
            "Czech Republic, Slovakia",
            "Denmark",
            "Denmark, United Kingdom, South Africa, Sweden, Belgium",
            "Finland, Sweden, Norway, Latvia, Germany",
            "France, Canada",
            "France, Canada, Belgium",
            "France, Canada, China, Cambodia",
            "France, Germany, Switzerland",
            "France, Morocco",
            "France, United Kingdom, India",
            "France, United Kingdom, United States",
            "Georgia, Germany, France",
            "Germany, Jordan, Netherlands",
            "Germany, Sri Lanka",
            "Germany, United States",
            "Germany, United States, Hong Kong, Singapore",
            "Germany, United States, Italy",
            "Greece, United States",
            "Hong Kong",
            "Hong Kong, China",
            "India, Canada",
            "India, Germany",
            "India, Malaysia",
            "India, Mexico",
            "India, Switzerland",
            "Ireland, United Kingdom",
            "Ireland, United Kingdom, Italy, United States",
            "Israel, Sweden, Germany, Netherlands",
            "Italy, Canada, France",
            "Italy, Germany",
            "Italy, India",
            "Italy, United States",
            "Lebanon, Qatar",
            "Netherlands",
            "Netherlands, Belgium",
            "Netherlands, Belgium, United Kingdom, United States",
            "Netherlands, United States",
            "Nigeria",
            "Norway, Denmark, Sweden",
            "Norway, Germany",
            "Pakistan, United States",
            "Portugal, Spain",
            "Russia, United States",
            "Saudi Arabia",
            "Singapore, France",
            "Slovenia, Croatia, Germany, Czech Republic, Qatar",
            "South Africa, United States, Germany",
            "South Korea, China, United States",
            "South Korea, United States",
            "Spain, Belgium, Switzerland, United States, China, United Kingdom",
            "Spain, France, Uruguay",
            "Spain, Germany",
            "Spain, Italy, Argentina",
            "Spain, Mexico",
            "Spain, Switzerland",
            "Switzerland, France",
            "Thailand",
            "Thailand, United States",
            "Turkey, France, Germany, Poland",
            "Ukraine",
            "United Arab Emirates",
            "United Arab Emirates, Romania",
            "United Kingdom, Canada, Japan",
            "United Kingdom, France",
            "United Kingdom, France, Belgium, United States",
            "United Kingdom, France, Canada, Belgium, United States",
            "United Kingdom, France, United States, Belgium",
            "United Kingdom, India",
            "United Kingdom, India, Sweden",
            "United Kingdom, Ireland",
            "United Kingdom, Israel, Russia",
            "United Kingdom, Italy, Israel, Peru, United States",
            "United Kingdom, Japan, United States",
            "United Kingdom, Jordan, Qatar, Iran",
            "United Kingdom, Lithuania",
            "United Kingdom, Russia",
            "United Kingdom, South Africa",
            "United Kingdom, Spain, Belgium",
            "United States, Argentina",
            "United States, Australia, China",
            "United States, Australia, Samoa, United Kingdom",
            "United States, Brazil",
            "United States, Bulgaria",
            "United States, Canada, Japan, Panama",
            "United States, Chile",
            "United States, Colombia, Mexico",
            "United States, Denmark",
            "United States, France",
            "United States, France, Canada, Lebanon, Qatar",
            "United States, Greece, Brazil",
            "United States, Hong Kong",
            "United States, Iceland",
            "United States, India",
            "United States, Italy",
            "United States, Japan, Canada",
            "United States, Mexico",
            "United States, Nicaragua",
            "United States, Senegal",
            "United States, United Kingdom, Australia",
            "United States, United Kingdom, Denmark, Sweden",
            "United States, Uruguay",
            "United States, Venezuela",
            "Uruguay",
            "Venezuela",
            "Vietnam",
            "West Germany"
           ],
           "name": "",
           "type": "choropleth",
           "z": [
            369,
            143,
            95,
            66,
            44,
            41,
            35,
            35,
            28,
            24,
            17,
            16,
            14,
            13,
            13,
            13,
            11,
            9,
            8,
            8,
            7,
            7,
            7,
            6,
            5,
            4,
            4,
            4,
            4,
            3,
            3,
            2,
            2,
            2,
            2,
            2,
            2,
            2,
            2,
            2,
            2,
            2,
            2,
            2,
            2,
            2,
            2,
            2,
            2,
            1,
            1,
            1,
            1,
            1,
            1,
            1,
            1,
            1,
            1,
            1,
            1,
            1,
            1,
            1,
            1,
            1,
            1,
            1,
            1,
            1,
            1,
            1,
            1,
            1,
            1,
            1,
            1,
            1,
            1,
            1,
            1,
            1,
            1,
            1,
            1,
            1,
            1,
            1,
            1,
            1,
            1,
            1,
            1,
            1,
            1,
            1,
            1,
            1,
            1,
            1,
            1,
            1,
            1,
            1,
            1,
            1,
            1,
            1,
            1,
            1,
            1,
            1,
            1,
            1,
            1,
            1,
            1,
            1,
            1,
            1,
            1,
            1,
            1,
            1,
            1,
            1,
            1,
            1,
            1,
            1,
            1,
            1,
            1,
            1,
            1,
            1,
            1,
            1,
            1,
            1,
            1,
            1,
            1,
            1,
            1,
            1,
            1,
            1,
            1,
            1,
            1,
            1,
            1,
            1,
            1,
            1,
            1,
            1,
            1,
            1,
            1,
            1,
            1,
            1,
            1,
            1,
            1,
            1,
            1,
            1,
            1,
            1,
            1,
            1,
            1,
            1,
            1,
            1,
            1,
            1,
            1,
            1
           ]
          }
         ],
         "name": "2017"
        },
        {
         "data": [
          {
           "coloraxis": "coloraxis",
           "geo": "geo",
           "hovertemplate": "year_added=2018<br>country=%{location}<br>counts=%{z}<extra></extra>",
           "locationmode": "country names",
           "locations": [
            "United States",
            "India",
            "NULL",
            "United Kingdom",
            "Hong Kong",
            "Japan",
            "Canada",
            "Thailand",
            "Spain",
            "France",
            "South Korea",
            "Australia",
            "Indonesia",
            "China",
            "Mexico",
            "Argentina",
            "United Kingdom, United States",
            "Brazil",
            "Colombia",
            "Canada, United States",
            "United States, Canada",
            "Germany",
            "Taiwan",
            "Hong Kong, China",
            "Chile",
            "France, Belgium",
            "Singapore",
            "China, Hong Kong",
            "Ireland",
            "Italy",
            "Pakistan",
            "Turkey",
            "Israel",
            "Mexico, United States",
            "Philippines",
            "United States, United Kingdom",
            "Argentina, Spain",
            "Malaysia",
            "Russia",
            "United States, India",
            "United States, Mexico",
            "Australia, United States",
            "Bulgaria, United States",
            "Canada, United States, France",
            "Czech Republic, United States",
            "Denmark",
            "Hungary",
            "India, United States",
            "Netherlands",
            "New Zealand",
            "Peru",
            "Poland, United States",
            "South Africa",
            "South Korea, United States",
            "Spain, France",
            "Sweden",
            "United Arab Emirates, United States",
            "United Kingdom, Canada",
            "United Kingdom, Canada, United States",
            "United States, Czech Republic",
            "United States, Sweden",
            "United States, United Kingdom, France",
            "Vietnam",
            "Argentina, Brazil, France, Poland, Germany, Denmark",
            "Argentina, Chile",
            "Argentina, France",
            "Argentina, France, United States, Germany, Qatar",
            "Argentina, Italy",
            "Australia, Iraq",
            "Australia, United Arab Emirates",
            "Australia, United Kingdom, Canada",
            "Australia, United Kingdom, United Arab Emirates, Canada",
            "Belgium",
            "Belgium, United Kingdom, United States",
            "Brazil, France",
            "Brazil, India, China, United States",
            "Bulgaria",
            "Cambodia",
            "Canada, France, Italy, Morocco, United States",
            "Canada, Germany, France, United States",
            "Canada, Japan, United States",
            "Canada, Mexico, Germany, South Africa",
            "Canada, Spain, France",
            "Chile, Peru",
            "China, Canada, United States",
            "China, Japan",
            "China, Morocco, Hong Kong",
            "China, United States, Australia",
            "China, United States, United Kingdom",
            "Colombia, Mexico",
            "Czech Republic, United Kingdom, France",
            "Denmark, France, United States, Sweden",
            "Denmark, Germany, Belgium, United Kingdom, France",
            "Denmark, Germany, Belgium, United Kingdom, France, Sweden",
            "Denmark, Sweden, Israel, United States",
            "Egypt",
            "Egypt, France",
            "France, Belgium, China, United States",
            "France, Iran, United States",
            "France, Luxembourg, United States",
            "France, Netherlands, South Africa, Finland",
            "Georgia",
            "Germany, Australia",
            "Germany, Belgium",
            "Germany, France, Luxembourg, United Kingdom, United States",
            "Germany, France, Russia",
            "Germany, United Kingdom",
            "Germany, United States",
            "Guatemala",
            "Hong Kong, China, United States",
            "Hong Kong, Taiwan",
            "Hong Kong, United States",
            "Iceland",
            "India, Australia",
            "India, France",
            "India, Germany, Austria",
            "India, Iran",
            "Indonesia, United States",
            "Ireland, Canada",
            "Ireland, Canada, Luxembourg, United States, United Kingdom, Philippines, India",
            "Ireland, Canada, United Kingdom, United States",
            "Ireland, Canada, United States, United Kingdom",
            "Ireland, United Kingdom, Greece, France, Netherlands",
            "Israel, Germany",
            "Israel, United States",
            "Italy, Switzerland, Albania, Poland",
            "Italy, Switzerland, France, Germany",
            "Italy, United States",
            "Italy, United States, Argentina",
            "Japan, Canada",
            "Japan, United States",
            "Lebanon",
            "Mexico, Argentina",
            "Mexico, Netherlands",
            "Mexico, Spain",
            "Netherlands, Belgium, Germany, Jordan",
            "Netherlands, Denmark, France, Germany",
            "New Zealand, United Kingdom",
            "New Zealand, United Kingdom, Australia",
            "Nigeria",
            "Norway, Denmark, Netherlands, Sweden",
            "Norway, Germany, Sweden",
            "Norway, Iceland, United States",
            "Philippines, Qatar",
            "Poland",
            "Portugal, France, Poland, United States",
            "Russia, Poland, Serbia",
            "Russia, Spain",
            "Saudi Arabia, Syria, Egypt, Lebanon, Kuwait",
            "Serbia, South Korea, Slovenia",
            "Serbia, United States",
            "Singapore, United States",
            "Somalia, Kenya, Sudan, South Africa, United States",
            "South Africa, China, United States",
            "South Africa, Germany, Netherlands, France",
            "South Africa, United States",
            "South Korea, China",
            "South Korea, France",
            "Soviet Union, India",
            "Spain, Colombia",
            "Spain, Mexico",
            "Spain, Portugal",
            "Sweden, Netherlands",
            "Switzerland, United Kingdom, United States",
            "Switzerland, United States",
            "Thailand, Canada, United States",
            "Turkey, United States",
            "Ukraine",
            "United Arab Emirates, United States, United Kingdom",
            "United Kingdom, Canada, Italy",
            "United Kingdom, Canada, United States, Cayman Islands",
            "United Kingdom, Canada, United States, Germany",
            "United Kingdom, China, United States",
            "United Kingdom, Denmark, Canada, Croatia",
            "United Kingdom, France",
            "United Kingdom, France, United States",
            "United Kingdom, Germany",
            "United Kingdom, India",
            "United Kingdom, India, United States",
            "United Kingdom, Ireland, United States",
            "United Kingdom, Japan, United States",
            "United Kingdom, Namibia, South Africa, Zimbabwe, United States",
            "United Kingdom, New Zealand",
            "United Kingdom, South Africa, Australia, United States",
            "United Kingdom, Spain, United States, Germany",
            "United Kingdom, United States, Australia",
            "United Kingdom, United States, Dominican Republic",
            "United Kingdom, United States, Morocco",
            "United Kingdom, West Germany",
            "United States,",
            "United States, Australia",
            "United States, Australia, South Africa, United Kingdom",
            "United States, Brazil, India, Uganda, China",
            "United States, Brazil, South Korea, Mexico, Japan, Germany",
            "United States, Bulgaria",
            "United States, Canada, Belgium, United Kingdom",
            "United States, Canada, Indonesia, United Kingdom, China, Singapore",
            "United States, Canada, Ireland",
            "United States, Chile",
            "United States, China, Hong Kong",
            "United States, France",
            "United States, France, South Korea, Indonesia",
            "United States, India, Bangladesh",
            "United States, Indonesia",
            "United States, Israel, Italy, South Africa",
            "United States, Israel, United Kingdom, Canada",
            "United States, Italy",
            "United States, Japan, Canada",
            "United States, New Zealand",
            "United States, South Africa",
            "United States, United Arab Emirates",
            "United States, United Kingdom, Canada, Japan",
            "United States, United Kingdom, Germany",
            "United States, United Kingdom, Morocco",
            "United States, United Kingdom, Spain, South Korea",
            "Uruguay, Argentina, Spain",
            "Venezuela, Colombia"
           ],
           "name": "",
           "type": "choropleth",
           "z": [
            463,
            340,
            122,
            77,
            40,
            39,
            32,
            32,
            30,
            25,
            25,
            24,
            24,
            17,
            17,
            16,
            16,
            15,
            12,
            11,
            11,
            10,
            8,
            7,
            6,
            6,
            6,
            5,
            5,
            5,
            5,
            5,
            4,
            4,
            4,
            4,
            3,
            3,
            3,
            3,
            3,
            2,
            2,
            2,
            2,
            2,
            2,
            2,
            2,
            2,
            2,
            2,
            2,
            2,
            2,
            2,
            2,
            2,
            2,
            2,
            2,
            2,
            2,
            1,
            1,
            1,
            1,
            1,
            1,
            1,
            1,
            1,
            1,
            1,
            1,
            1,
            1,
            1,
            1,
            1,
            1,
            1,
            1,
            1,
            1,
            1,
            1,
            1,
            1,
            1,
            1,
            1,
            1,
            1,
            1,
            1,
            1,
            1,
            1,
            1,
            1,
            1,
            1,
            1,
            1,
            1,
            1,
            1,
            1,
            1,
            1,
            1,
            1,
            1,
            1,
            1,
            1,
            1,
            1,
            1,
            1,
            1,
            1,
            1,
            1,
            1,
            1,
            1,
            1,
            1,
            1,
            1,
            1,
            1,
            1,
            1,
            1,
            1,
            1,
            1,
            1,
            1,
            1,
            1,
            1,
            1,
            1,
            1,
            1,
            1,
            1,
            1,
            1,
            1,
            1,
            1,
            1,
            1,
            1,
            1,
            1,
            1,
            1,
            1,
            1,
            1,
            1,
            1,
            1,
            1,
            1,
            1,
            1,
            1,
            1,
            1,
            1,
            1,
            1,
            1,
            1,
            1,
            1,
            1,
            1,
            1,
            1,
            1,
            1,
            1,
            1,
            1,
            1,
            1,
            1,
            1,
            1,
            1,
            1,
            1,
            1,
            1,
            1,
            1,
            1,
            1,
            1,
            1,
            1,
            1,
            1,
            1,
            1,
            1,
            1,
            1,
            1
           ]
          }
         ],
         "name": "2018"
        },
        {
         "data": [
          {
           "coloraxis": "coloraxis",
           "geo": "geo",
           "hovertemplate": "year_added=2019<br>country=%{location}<br>counts=%{z}<extra></extra>",
           "locationmode": "country names",
           "locations": [
            "United States",
            "India",
            "NULL",
            "United Kingdom",
            "Japan",
            "South Korea",
            "Egypt",
            "Canada",
            "Spain",
            "Philippines",
            "France",
            "Nigeria",
            "Mexico",
            "Turkey",
            "Taiwan",
            "Australia",
            "Brazil",
            "Thailand",
            "United Kingdom, United States",
            "China",
            "Indonesia",
            "United States, Canada",
            "United States, United Kingdom",
            "Argentina",
            "Germany",
            "Hong Kong",
            "Colombia",
            "Poland",
            "Canada, United States",
            "United States, Germany",
            "Malaysia",
            "Italy",
            "Pakistan",
            "Denmark",
            "Hong Kong, China",
            "Netherlands",
            "United States, Australia",
            "United States, China",
            "United States, France",
            "United States, Japan",
            "China, Hong Kong",
            "France, Belgium",
            "Lebanon",
            "Mexico, United States",
            "Romania",
            "United States, Mexico",
            "France, United States",
            "Israel",
            "New Zealand",
            "Russia",
            "South Africa",
            "Spain, France",
            "United Kingdom, France",
            "United States, United Kingdom, Australia",
            "Argentina, Spain",
            "Australia, United States",
            "Bangladesh",
            "Belgium",
            "Germany, United States",
            "India, United States",
            "Indonesia, Singapore",
            "Israel, United States",
            "Spain, United Kingdom",
            "Sweden",
            "United Arab Emirates",
            "United Kingdom, Canada",
            "United Kingdom, Canada, United States",
            "United Kingdom, Germany",
            "United States, Czech Republic",
            "United States, South Africa",
            "United States, Spain",
            "United States, United Arab Emirates",
            "Argentina, United States",
            "Argentina, United States, Mexico",
            "Argentina, Uruguay, Serbia",
            "Australia, Canada",
            "Australia, France",
            "Austria",
            "Austria, Iraq, United States",
            "Austria, United States",
            "Brazil, United States",
            "Bulgaria, United States",
            "Canada, Australia",
            "Canada, Brazil",
            "Canada, France, United States",
            "Canada, Germany",
            "Canada, India",
            "Canada, Luxembourg",
            "Canada, Norway",
            "Canada, United States, India, United Kingdom",
            "Canada, United States, United Kingdom",
            "Chile",
            "Chile, Argentina",
            "China, Hong Kong, United States",
            "China, Taiwan",
            "China, United Kingdom",
            "Colombia, Mexico, United States",
            "Colombia, Peru, United Kingdom",
            "Croatia",
            "Denmark, Brazil, France, Portugal, Sweden",
            "Denmark, China",
            "Denmark, France, Belgium, Italy, Netherlands, United States, United Kingdom",
            "Denmark, France, Poland",
            "Denmark, Spain",
            "Egypt, Austria, United States",
            "Finland",
            "Finland, Germany, Belgium",
            "France, Belgium, Luxembourg, Romania, Canada, United States",
            "France, Canada",
            "France, China, Japan, United States",
            "France, Germany, Czech Republic, Belgium",
            "France, Japan",
            "France, Luxembourg, Canada",
            "France, Netherlands, Singapore",
            "France, Senegal, Belgium",
            "France, Switzerland, Spain, United States, United Arab Emirates",
            "France, United States, Mexico",
            "Germany, Canada, United States",
            "Germany, Italy",
            "Germany, United Kingdom",
            "Germany, United Kingdom, United States",
            "Germany, United States, Canada",
            "Germany, United States, France",
            "Germany, United States, Sweden",
            "Ghana",
            "Ghana, United States",
            "Hong Kong, China, Singapore",
            "Hong Kong, United States",
            "Iceland, Sweden, Belgium",
            "India, France",
            "India, Germany",
            "India, Germany, France",
            "India, Japan",
            "India, Nepal",
            "India, Pakistan",
            "India, Turkey",
            "India, United Kingdom, Canada, United States",
            "Iran, France",
            "Ireland",
            "Ireland, United States, France",
            "Israel, Germany, Poland, Luxembourg, Belgium, France, United States",
            "Italy, Belgium",
            "Italy, France",
            "Italy, France, Switzerland",
            "Italy, South Africa, West Germany, Australia, United States",
            "Italy, United States",
            "Japan, United States",
            "Jordan",
            "Kuwait",
            "Malaysia, Singapore, Hong Kong",
            "Mauritius, South Africa",
            "Mexico, Finland",
            "Mexico, United States, Spain, Colombia",
            "Netherlands, Belgium",
            "Norway, Sweden",
            "Pakistan, United Arab Emirates",
            "Paraguay, Argentina",
            "Peru",
            "Philippines, Singapore",
            "Philippines, United States",
            "Poland,",
            "Poland, West Germany",
            "Romania, Bulgaria, Hungary",
            "Singapore, Japan, France",
            "Singapore, Malaysia",
            "Singapore, United States",
            "South Africa, Nigeria",
            "South Africa, United States",
            "South Africa, United States, New Zealand, Canada",
            "South Korea, Canada, United States, China",
            "South Korea, Czech Republic",
            "South Korea, Japan",
            "South Korea, United States",
            "Spain, Belgium",
            "Spain, France, Italy",
            "Spain, Italy",
            "Spain, United Kingdom, United States",
            "Sweden, United Kingdom, Finland",
            "Sweden, United States",
            "Switzerland",
            "Switzerland, Vatican City, Italy, Germany, France",
            "Taiwan, China, France, United States",
            "Taiwan, Hong Kong, United States, China",
            "Thailand, China, United States",
            "United Arab Emirates, United Kingdom, India",
            "United Kingdom, Belgium",
            "United Kingdom, Belgium, Sweden",
            "United Kingdom, Brazil, Germany",
            "United Kingdom, Canada, France, United States",
            "United Kingdom, France, Belgium",
            "United Kingdom, France, Germany",
            "United Kingdom, France, United States",
            "United Kingdom, Germany, Canada, United States",
            "United Kingdom, Germany, United States",
            "United Kingdom, Hong Kong",
            "United Kingdom, Hungary, Australia",
            "United Kingdom, Ireland",
            "United Kingdom, Italy",
            "United Kingdom, Japan, United States",
            "United Kingdom, Malawi",
            "United Kingdom, Nigeria",
            "United Kingdom, Norway, Denmark, Germany, Sweden",
            "United Kingdom, Pakistan",
            "United Kingdom, Poland",
            "United Kingdom, Poland, United States",
            "United Kingdom, Russia, United States",
            "United Kingdom, South Korea",
            "United Kingdom, Thailand",
            "United Kingdom, United States, Czech Republic",
            "United Kingdom, United States, France, Germany",
            "United Kingdom, United States, Germany, Denmark, Belgium, Japan",
            "United States, Australia, Mexico",
            "United States, Cambodia",
            "United States, Canada, United Kingdom",
            "United States, Colombia",
            "United States, Czech Republic, United Kingdom",
            "United States, France, Japan",
            "United States, France, United Kingdom, Japan",
            "United States, Germany, Australia",
            "United States, Germany, Canada",
            "United States, India",
            "United States, India, South Korea, China",
            "United States, India, United Arab Emirates",
            "United States, Ireland",
            "United States, Italy",
            "United States, Italy, United Kingdom, Liechtenstein",
            "United States, Morocco",
            "United States, New Zealand, United Kingdom",
            "United States, Poland",
            "United States, South Korea, Japan",
            "United States, Spain, Germany",
            "United States, Spain, Italy",
            "United States, Sweden",
            "United States, Taiwan",
            "United States, United Kingdom, France",
            "United States, United Kingdom, Germany",
            "United States, United Kingdom, Italy",
            "Uruguay",
            "Uruguay, Germany",
            "Uruguay, Guatemala",
            "Uruguay, Spain, Mexico",
            "Vietnam"
           ],
           "name": "",
           "type": "choropleth",
           "z": [
            731,
            225,
            160,
            107,
            62,
            58,
            53,
            40,
            40,
            37,
            31,
            28,
            26,
            22,
            20,
            19,
            18,
            18,
            18,
            17,
            16,
            16,
            15,
            13,
            11,
            10,
            9,
            9,
            8,
            8,
            7,
            6,
            6,
            5,
            5,
            5,
            5,
            5,
            5,
            5,
            4,
            4,
            4,
            4,
            4,
            4,
            3,
            3,
            3,
            3,
            3,
            3,
            3,
            3,
            2,
            2,
            2,
            2,
            2,
            2,
            2,
            2,
            2,
            2,
            2,
            2,
            2,
            2,
            2,
            2,
            2,
            2,
            1,
            1,
            1,
            1,
            1,
            1,
            1,
            1,
            1,
            1,
            1,
            1,
            1,
            1,
            1,
            1,
            1,
            1,
            1,
            1,
            1,
            1,
            1,
            1,
            1,
            1,
            1,
            1,
            1,
            1,
            1,
            1,
            1,
            1,
            1,
            1,
            1,
            1,
            1,
            1,
            1,
            1,
            1,
            1,
            1,
            1,
            1,
            1,
            1,
            1,
            1,
            1,
            1,
            1,
            1,
            1,
            1,
            1,
            1,
            1,
            1,
            1,
            1,
            1,
            1,
            1,
            1,
            1,
            1,
            1,
            1,
            1,
            1,
            1,
            1,
            1,
            1,
            1,
            1,
            1,
            1,
            1,
            1,
            1,
            1,
            1,
            1,
            1,
            1,
            1,
            1,
            1,
            1,
            1,
            1,
            1,
            1,
            1,
            1,
            1,
            1,
            1,
            1,
            1,
            1,
            1,
            1,
            1,
            1,
            1,
            1,
            1,
            1,
            1,
            1,
            1,
            1,
            1,
            1,
            1,
            1,
            1,
            1,
            1,
            1,
            1,
            1,
            1,
            1,
            1,
            1,
            1,
            1,
            1,
            1,
            1,
            1,
            1,
            1,
            1,
            1,
            1,
            1,
            1,
            1,
            1,
            1,
            1,
            1,
            1,
            1,
            1,
            1,
            1,
            1,
            1,
            1,
            1,
            1,
            1,
            1,
            1,
            1,
            1,
            1,
            1,
            1,
            1,
            1,
            1
           ]
          }
         ],
         "name": "2019"
        },
        {
         "data": [
          {
           "coloraxis": "coloraxis",
           "geo": "geo",
           "hovertemplate": "year_added=2020<br>country=%{location}<br>counts=%{z}<extra></extra>",
           "locationmode": "country names",
           "locations": [
            "United States",
            "India",
            "NULL",
            "United Kingdom",
            "Japan",
            "Canada",
            "South Korea",
            "Egypt",
            "Nigeria",
            "France",
            "Philippines",
            "Spain",
            "Indonesia",
            "Turkey",
            "Brazil",
            "Germany",
            "Italy",
            "South Africa",
            "United Kingdom, United States",
            "Australia",
            "Mexico",
            "United States, Canada",
            "Argentina",
            "United States, United Kingdom",
            "Taiwan",
            "Lebanon",
            "Poland",
            "United Arab Emirates",
            "Canada, United States",
            "Colombia",
            "China",
            "France, Belgium",
            "Saudi Arabia",
            "Thailand",
            "Kuwait",
            "Malaysia",
            "Netherlands",
            "Norway",
            "United States, France",
            "Australia, United States",
            "Germany, United States",
            "Russia",
            "United States, Germany",
            "United States, Japan",
            "Belgium",
            "Chile",
            "France, Egypt",
            "France, United States",
            "India, United States",
            "Mexico, Spain",
            "Mexico, United States",
            "Sweden",
            "United States, India",
            "Austria",
            "Denmark",
            "Denmark, United States",
            "France, United Kingdom, United States",
            "Ghana",
            "Hungary",
            "Iceland",
            "Ireland",
            "Japan, United States",
            "Kenya",
            "Lebanon, Canada, France",
            "New Zealand",
            "New Zealand, United States",
            "Poland, United States",
            "Romania",
            "South Africa, United States",
            "Spain, Germany",
            "United Kingdom, Canada, United States",
            "United Kingdom, France, United States",
            "United States, Australia",
            "United States, China",
            "United States, Greece",
            "United States, Mexico",
            "United States, Russia",
            "Argentina, Spain",
            "Australia, New Zealand",
            "Australia, New Zealand, United States",
            "Australia, United Kingdom",
            "Austria, Germany",
            "Belarus",
            "Belgium, Netherlands",
            "Brazil, France",
            "Brazil, France, Germany",
            "Brazil, United Kingdom",
            "Canada, Belgium",
            "Canada, Nigeria",
            "Canada, South Africa",
            "Canada, South Korea, United States",
            "Canada, United Kingdom",
            "Canada, United States, Germany",
            "Canada, United States, Ireland",
            "Canada, United States, United Kingdom",
            "Canada, United States, United Kingdom, France, Luxembourg",
            "Chile, Italy",
            "China, Canada, United States",
            "China, Spain, South Korea, United States",
            "China, United States",
            "Cyprus",
            "Denmark, Singapore, Canada, United States",
            "Egypt, Algeria",
            "Egypt, France",
            "Finland, France",
            "Finland, Germany",
            "Finland, United States",
            "France, Algeria",
            "France, Australia, Germany",
            "France, Belgium, Italy",
            "France, Belgium, Luxembourg, Cambodia,",
            "France, Belgium, United States",
            "France, Brazil, Spain, Belgium",
            "France, Canada, Italy, United States, China",
            "France, Canada, United States",
            "France, Lebanon",
            "France, Lebanon, United Kingdom",
            "France, Malta, United States",
            "France, New Zealand",
            "France, Norway, Lebanon, Belgium",
            "France, South Korea, Japan",
            "France, United Kingdom",
            "Germany, China, United Kingdom",
            "Germany, Czech Republic",
            "Germany, France, United States, Canada, United Kingdom",
            "Germany, United States, United Kingdom, Canada",
            "Hong Kong, China",
            "Hong Kong, China, United States",
            "Hong Kong, Iceland, United States",
            "Hong Kong, United States",
            "India, United Kingdom, China, Canada, Japan, South Korea, United States",
            "Indonesia, Netherlands",
            "Indonesia, South Korea, Singapore",
            "Indonesia, United Kingdom",
            "Ireland, France, Iceland, United States, Mexico, Belgium, United Kingdom, Hong Kong",
            "Ireland, Luxembourg, Belgium",
            "Ireland, United Kingdom",
            "Ireland, United Kingdom, United States",
            "Ireland, United States",
            "Israel",
            "Italy, France",
            "Italy, Turkey",
            "Italy, United Kingdom, France",
            "Jamaica, United States",
            "Japan, Canada, United States",
            "Kenya, United States",
            "Lebanon, France",
            "Lebanon, United Arab Emirates, France, Switzerland, Germany",
            "Lebanon, United States, United Arab Emirates",
            "Namibia",
            "Netherlands, Germany, Denmark, United Kingdom",
            "Netherlands, Germany, Italy, Canada",
            "Nigeria, United Kingdom",
            "Norway, Denmark",
            "Pakistan, United States",
            "Peru, Germany, Norway",
            "Philippines, Canada, United Kingdom, United States",
            "Puerto Rico, United States, Colombia",
            "Romania, France, Switzerland, Germany",
            "Romania, United Kingdom",
            "Romania, United States",
            "Russia, United States, China",
            "Saudi Arabia, Netherlands, Germany, Jordan, United Arab Emirates, United States",
            "Saudi Arabia, United Arab Emirates",
            "Senegal",
            "Serbia, United States",
            "Singapore",
            "South Africa, Angola",
            "South Korea, United States",
            "Spain, Canada, United States",
            "Spain, France, Canada",
            "Spain, France, Canada, United States",
            "Spain, France, United States",
            "Spain, Germany, Denmark, United States",
            "Spain, Italy",
            "Spain, Thailand, United States",
            "Spain, United States",
            "Sweden, Czech Republic, United Kingdom, Denmark, Netherlands",
            "Switzerland, France, Belgium, United States",
            "Taiwan, China",
            "Taiwan, Malaysia",
            "Thailand, United States",
            "Turkey, India",
            "Turkey, South Korea",
            "Turkey, United States",
            "United Arab Emirates, Jordan, Lebanon",
            "United Kingdom, Australia",
            "United Kingdom, China",
            "United Kingdom, China, United States, India",
            "United Kingdom, Czech Republic, Germany, United States",
            "United Kingdom, Czech Republic, United States, Germany, Bahamas",
            "United Kingdom, Finland, Germany",
            "United Kingdom, France, Belgium, Canada, United States",
            "United Kingdom, France, Belgium, United States, China",
            "United Kingdom, France, Germany, Spain",
            "United Kingdom, France, Germany, United States",
            "United Kingdom, France, United States, Belgium, Luxembourg, China, Germany",
            "United Kingdom, Germany",
            "United Kingdom, Germany, United Arab Emirates, New Zealand",
            "United Kingdom, Germany, United States, France",
            "United Kingdom, Italy",
            "United Kingdom, Japan, United States",
            "United Kingdom, Kenya",
            "United Kingdom, Nigeria",
            "United Kingdom, Singapore",
            "United Kingdom, Spain",
            "United Kingdom, United States, Australia",
            "United Kingdom, United States, Canada",
            "United Kingdom, United States, France",
            "United Kingdom, United States, Japan",
            "United States, Argentina",
            "United States, Belgium, Canada",
            "United States, Botswana",
            "United States, Bulgaria",
            "United States, Canada, China",
            "United States, Canada, France",
            "United States, Canada, Germany",
            "United States, Canada, United Kingdom",
            "United States, Chile, Israel",
            "United States, China, Canada",
            "United States, China, Colombia",
            "United States, Czech Republic",
            "United States, East Germany, West Germany",
            "United States, France, Canada",
            "United States, France, Canada, Belgium",
            "United States, France, Italy, United Kingdom",
            "United States, France, Mexico",
            "United States, France, Serbia",
            "United States, Germany, Canada",
            "United States, Germany, Mexico",
            "United States, Germany, United Kingdom",
            "United States, Germany, United Kingdom, Italy",
            "United States, Hong Kong",
            "United States, Ireland, United Kingdom, India",
            "United States, Italy",
            "United States, Malta, France, United Kingdom",
            "United States, Mexico, Colombia",
            "United States, Mexico, Spain, Malta",
            "United States, Nigeria",
            "United States, Norway, Canada",
            "United States, Philippines",
            "United States, South Korea",
            "United States, South Korea, China",
            "United States, United Kingdom, Canada",
            "United States, United Kingdom, Canada, China",
            "United States, United Kingdom, France, Germany, Japan",
            "United States, United Kingdom, India",
            "United States, United Kingdom, Japan",
            "Uruguay",
            "Uruguay, Argentina",
            "Uruguay, Argentina, Germany, Spain",
            "Vietnam",
            "Zimbabwe"
           ],
           "name": "",
           "type": "choropleth",
           "z": [
            684,
            192,
            120,
            75,
            71,
            51,
            49,
            47,
            38,
            30,
            30,
            28,
            26,
            25,
            23,
            21,
            20,
            20,
            20,
            19,
            19,
            16,
            12,
            11,
            10,
            9,
            9,
            9,
            8,
            7,
            6,
            6,
            6,
            6,
            5,
            5,
            5,
            5,
            5,
            4,
            4,
            4,
            4,
            4,
            3,
            3,
            3,
            3,
            3,
            3,
            3,
            3,
            3,
            2,
            2,
            2,
            2,
            2,
            2,
            2,
            2,
            2,
            2,
            2,
            2,
            2,
            2,
            2,
            2,
            2,
            2,
            2,
            2,
            2,
            2,
            2,
            2,
            1,
            1,
            1,
            1,
            1,
            1,
            1,
            1,
            1,
            1,
            1,
            1,
            1,
            1,
            1,
            1,
            1,
            1,
            1,
            1,
            1,
            1,
            1,
            1,
            1,
            1,
            1,
            1,
            1,
            1,
            1,
            1,
            1,
            1,
            1,
            1,
            1,
            1,
            1,
            1,
            1,
            1,
            1,
            1,
            1,
            1,
            1,
            1,
            1,
            1,
            1,
            1,
            1,
            1,
            1,
            1,
            1,
            1,
            1,
            1,
            1,
            1,
            1,
            1,
            1,
            1,
            1,
            1,
            1,
            1,
            1,
            1,
            1,
            1,
            1,
            1,
            1,
            1,
            1,
            1,
            1,
            1,
            1,
            1,
            1,
            1,
            1,
            1,
            1,
            1,
            1,
            1,
            1,
            1,
            1,
            1,
            1,
            1,
            1,
            1,
            1,
            1,
            1,
            1,
            1,
            1,
            1,
            1,
            1,
            1,
            1,
            1,
            1,
            1,
            1,
            1,
            1,
            1,
            1,
            1,
            1,
            1,
            1,
            1,
            1,
            1,
            1,
            1,
            1,
            1,
            1,
            1,
            1,
            1,
            1,
            1,
            1,
            1,
            1,
            1,
            1,
            1,
            1,
            1,
            1,
            1,
            1,
            1,
            1,
            1,
            1,
            1,
            1,
            1,
            1,
            1,
            1,
            1,
            1,
            1,
            1,
            1,
            1,
            1,
            1,
            1,
            1,
            1,
            1,
            1,
            1,
            1,
            1,
            1,
            1,
            1
           ]
          }
         ],
         "name": "2020"
        },
        {
         "data": [
          {
           "coloraxis": "coloraxis",
           "geo": "geo",
           "hovertemplate": "year_added=2021<br>country=%{location}<br>counts=%{z}<extra></extra>",
           "locationmode": "country names",
           "locations": [
            "United States",
            "NULL",
            "India",
            "United Kingdom",
            "United States, Canada",
            "France",
            "Germany, United States",
            "Indonesia",
            "Brazil",
            "Canada, Hungary, United States",
            "Canada, United Kingdom, United States",
            "Canada, United States, Cayman Islands",
            "France, Canada",
            "Hong Kong, United States",
            "India, France",
            "Japan",
            "Mexico",
            "Mexico, United States",
            "Norway",
            "South Korea",
            "Spain",
            "Turkey",
            "United Kingdom, Germany, France, United States",
            "United Kingdom, Spain, United States",
            "United Kingdom, United States",
            "United States, France",
            "United States, France, Canada, Spain",
            "United States, Germany, United Kingdom, Australia",
            "United States, Hong Kong",
            "United States, Sweden, Norway",
            "United States, Thailand"
           ],
           "name": "",
           "type": "choropleth",
           "z": [
            55,
            15,
            12,
            3,
            3,
            2,
            2,
            2,
            1,
            1,
            1,
            1,
            1,
            1,
            1,
            1,
            1,
            1,
            1,
            1,
            1,
            1,
            1,
            1,
            1,
            1,
            1,
            1,
            1,
            1,
            1
           ]
          }
         ],
         "name": "2021"
        }
       ],
       "layout": {
        "coloraxis": {
         "cmax": 200,
         "cmin": 0,
         "colorbar": {
          "title": {
           "text": "counts"
          }
         },
         "colorscale": [
          [
           0,
           "rgb(255,247,236)"
          ],
          [
           0.125,
           "rgb(254,232,200)"
          ],
          [
           0.25,
           "rgb(253,212,158)"
          ],
          [
           0.375,
           "rgb(253,187,132)"
          ],
          [
           0.5,
           "rgb(252,141,89)"
          ],
          [
           0.625,
           "rgb(239,101,72)"
          ],
          [
           0.75,
           "rgb(215,48,31)"
          ],
          [
           0.875,
           "rgb(179,0,0)"
          ],
          [
           1,
           "rgb(127,0,0)"
          ]
         ]
        },
        "geo": {
         "center": {},
         "domain": {
          "x": [
           0,
           1
          ],
          "y": [
           0,
           1
          ]
         }
        },
        "legend": {
         "tracegroupgap": 0
        },
        "margin": {
         "t": 60
        },
        "sliders": [
         {
          "active": 0,
          "currentvalue": {
           "prefix": "year_added="
          },
          "len": 0.9,
          "pad": {
           "b": 10,
           "t": 60
          },
          "steps": [
           {
            "args": [
             [
              "2008"
             ],
             {
              "frame": {
               "duration": 0,
               "redraw": true
              },
              "fromcurrent": true,
              "mode": "immediate",
              "transition": {
               "duration": 0,
               "easing": "linear"
              }
             }
            ],
            "label": "2008",
            "method": "animate"
           },
           {
            "args": [
             [
              "2009"
             ],
             {
              "frame": {
               "duration": 0,
               "redraw": true
              },
              "fromcurrent": true,
              "mode": "immediate",
              "transition": {
               "duration": 0,
               "easing": "linear"
              }
             }
            ],
            "label": "2009",
            "method": "animate"
           },
           {
            "args": [
             [
              "2010"
             ],
             {
              "frame": {
               "duration": 0,
               "redraw": true
              },
              "fromcurrent": true,
              "mode": "immediate",
              "transition": {
               "duration": 0,
               "easing": "linear"
              }
             }
            ],
            "label": "2010",
            "method": "animate"
           },
           {
            "args": [
             [
              "2011"
             ],
             {
              "frame": {
               "duration": 0,
               "redraw": true
              },
              "fromcurrent": true,
              "mode": "immediate",
              "transition": {
               "duration": 0,
               "easing": "linear"
              }
             }
            ],
            "label": "2011",
            "method": "animate"
           },
           {
            "args": [
             [
              "2012"
             ],
             {
              "frame": {
               "duration": 0,
               "redraw": true
              },
              "fromcurrent": true,
              "mode": "immediate",
              "transition": {
               "duration": 0,
               "easing": "linear"
              }
             }
            ],
            "label": "2012",
            "method": "animate"
           },
           {
            "args": [
             [
              "2013"
             ],
             {
              "frame": {
               "duration": 0,
               "redraw": true
              },
              "fromcurrent": true,
              "mode": "immediate",
              "transition": {
               "duration": 0,
               "easing": "linear"
              }
             }
            ],
            "label": "2013",
            "method": "animate"
           },
           {
            "args": [
             [
              "2014"
             ],
             {
              "frame": {
               "duration": 0,
               "redraw": true
              },
              "fromcurrent": true,
              "mode": "immediate",
              "transition": {
               "duration": 0,
               "easing": "linear"
              }
             }
            ],
            "label": "2014",
            "method": "animate"
           },
           {
            "args": [
             [
              "2015"
             ],
             {
              "frame": {
               "duration": 0,
               "redraw": true
              },
              "fromcurrent": true,
              "mode": "immediate",
              "transition": {
               "duration": 0,
               "easing": "linear"
              }
             }
            ],
            "label": "2015",
            "method": "animate"
           },
           {
            "args": [
             [
              "2016"
             ],
             {
              "frame": {
               "duration": 0,
               "redraw": true
              },
              "fromcurrent": true,
              "mode": "immediate",
              "transition": {
               "duration": 0,
               "easing": "linear"
              }
             }
            ],
            "label": "2016",
            "method": "animate"
           },
           {
            "args": [
             [
              "2017"
             ],
             {
              "frame": {
               "duration": 0,
               "redraw": true
              },
              "fromcurrent": true,
              "mode": "immediate",
              "transition": {
               "duration": 0,
               "easing": "linear"
              }
             }
            ],
            "label": "2017",
            "method": "animate"
           },
           {
            "args": [
             [
              "2018"
             ],
             {
              "frame": {
               "duration": 0,
               "redraw": true
              },
              "fromcurrent": true,
              "mode": "immediate",
              "transition": {
               "duration": 0,
               "easing": "linear"
              }
             }
            ],
            "label": "2018",
            "method": "animate"
           },
           {
            "args": [
             [
              "2019"
             ],
             {
              "frame": {
               "duration": 0,
               "redraw": true
              },
              "fromcurrent": true,
              "mode": "immediate",
              "transition": {
               "duration": 0,
               "easing": "linear"
              }
             }
            ],
            "label": "2019",
            "method": "animate"
           },
           {
            "args": [
             [
              "2020"
             ],
             {
              "frame": {
               "duration": 0,
               "redraw": true
              },
              "fromcurrent": true,
              "mode": "immediate",
              "transition": {
               "duration": 0,
               "easing": "linear"
              }
             }
            ],
            "label": "2020",
            "method": "animate"
           },
           {
            "args": [
             [
              "2021"
             ],
             {
              "frame": {
               "duration": 0,
               "redraw": true
              },
              "fromcurrent": true,
              "mode": "immediate",
              "transition": {
               "duration": 0,
               "easing": "linear"
              }
             }
            ],
            "label": "2021",
            "method": "animate"
           }
          ],
          "x": 0.1,
          "xanchor": "left",
          "y": 0,
          "yanchor": "top"
         }
        ],
        "template": {
         "data": {
          "bar": [
           {
            "error_x": {
             "color": "#2a3f5f"
            },
            "error_y": {
             "color": "#2a3f5f"
            },
            "marker": {
             "line": {
              "color": "#E5ECF6",
              "width": 0.5
             },
             "pattern": {
              "fillmode": "overlay",
              "size": 10,
              "solidity": 0.2
             }
            },
            "type": "bar"
           }
          ],
          "barpolar": [
           {
            "marker": {
             "line": {
              "color": "#E5ECF6",
              "width": 0.5
             },
             "pattern": {
              "fillmode": "overlay",
              "size": 10,
              "solidity": 0.2
             }
            },
            "type": "barpolar"
           }
          ],
          "carpet": [
           {
            "aaxis": {
             "endlinecolor": "#2a3f5f",
             "gridcolor": "white",
             "linecolor": "white",
             "minorgridcolor": "white",
             "startlinecolor": "#2a3f5f"
            },
            "baxis": {
             "endlinecolor": "#2a3f5f",
             "gridcolor": "white",
             "linecolor": "white",
             "minorgridcolor": "white",
             "startlinecolor": "#2a3f5f"
            },
            "type": "carpet"
           }
          ],
          "choropleth": [
           {
            "colorbar": {
             "outlinewidth": 0,
             "ticks": ""
            },
            "type": "choropleth"
           }
          ],
          "contour": [
           {
            "colorbar": {
             "outlinewidth": 0,
             "ticks": ""
            },
            "colorscale": [
             [
              0,
              "#0d0887"
             ],
             [
              0.1111111111111111,
              "#46039f"
             ],
             [
              0.2222222222222222,
              "#7201a8"
             ],
             [
              0.3333333333333333,
              "#9c179e"
             ],
             [
              0.4444444444444444,
              "#bd3786"
             ],
             [
              0.5555555555555556,
              "#d8576b"
             ],
             [
              0.6666666666666666,
              "#ed7953"
             ],
             [
              0.7777777777777778,
              "#fb9f3a"
             ],
             [
              0.8888888888888888,
              "#fdca26"
             ],
             [
              1,
              "#f0f921"
             ]
            ],
            "type": "contour"
           }
          ],
          "contourcarpet": [
           {
            "colorbar": {
             "outlinewidth": 0,
             "ticks": ""
            },
            "type": "contourcarpet"
           }
          ],
          "heatmap": [
           {
            "colorbar": {
             "outlinewidth": 0,
             "ticks": ""
            },
            "colorscale": [
             [
              0,
              "#0d0887"
             ],
             [
              0.1111111111111111,
              "#46039f"
             ],
             [
              0.2222222222222222,
              "#7201a8"
             ],
             [
              0.3333333333333333,
              "#9c179e"
             ],
             [
              0.4444444444444444,
              "#bd3786"
             ],
             [
              0.5555555555555556,
              "#d8576b"
             ],
             [
              0.6666666666666666,
              "#ed7953"
             ],
             [
              0.7777777777777778,
              "#fb9f3a"
             ],
             [
              0.8888888888888888,
              "#fdca26"
             ],
             [
              1,
              "#f0f921"
             ]
            ],
            "type": "heatmap"
           }
          ],
          "heatmapgl": [
           {
            "colorbar": {
             "outlinewidth": 0,
             "ticks": ""
            },
            "colorscale": [
             [
              0,
              "#0d0887"
             ],
             [
              0.1111111111111111,
              "#46039f"
             ],
             [
              0.2222222222222222,
              "#7201a8"
             ],
             [
              0.3333333333333333,
              "#9c179e"
             ],
             [
              0.4444444444444444,
              "#bd3786"
             ],
             [
              0.5555555555555556,
              "#d8576b"
             ],
             [
              0.6666666666666666,
              "#ed7953"
             ],
             [
              0.7777777777777778,
              "#fb9f3a"
             ],
             [
              0.8888888888888888,
              "#fdca26"
             ],
             [
              1,
              "#f0f921"
             ]
            ],
            "type": "heatmapgl"
           }
          ],
          "histogram": [
           {
            "marker": {
             "pattern": {
              "fillmode": "overlay",
              "size": 10,
              "solidity": 0.2
             }
            },
            "type": "histogram"
           }
          ],
          "histogram2d": [
           {
            "colorbar": {
             "outlinewidth": 0,
             "ticks": ""
            },
            "colorscale": [
             [
              0,
              "#0d0887"
             ],
             [
              0.1111111111111111,
              "#46039f"
             ],
             [
              0.2222222222222222,
              "#7201a8"
             ],
             [
              0.3333333333333333,
              "#9c179e"
             ],
             [
              0.4444444444444444,
              "#bd3786"
             ],
             [
              0.5555555555555556,
              "#d8576b"
             ],
             [
              0.6666666666666666,
              "#ed7953"
             ],
             [
              0.7777777777777778,
              "#fb9f3a"
             ],
             [
              0.8888888888888888,
              "#fdca26"
             ],
             [
              1,
              "#f0f921"
             ]
            ],
            "type": "histogram2d"
           }
          ],
          "histogram2dcontour": [
           {
            "colorbar": {
             "outlinewidth": 0,
             "ticks": ""
            },
            "colorscale": [
             [
              0,
              "#0d0887"
             ],
             [
              0.1111111111111111,
              "#46039f"
             ],
             [
              0.2222222222222222,
              "#7201a8"
             ],
             [
              0.3333333333333333,
              "#9c179e"
             ],
             [
              0.4444444444444444,
              "#bd3786"
             ],
             [
              0.5555555555555556,
              "#d8576b"
             ],
             [
              0.6666666666666666,
              "#ed7953"
             ],
             [
              0.7777777777777778,
              "#fb9f3a"
             ],
             [
              0.8888888888888888,
              "#fdca26"
             ],
             [
              1,
              "#f0f921"
             ]
            ],
            "type": "histogram2dcontour"
           }
          ],
          "mesh3d": [
           {
            "colorbar": {
             "outlinewidth": 0,
             "ticks": ""
            },
            "type": "mesh3d"
           }
          ],
          "parcoords": [
           {
            "line": {
             "colorbar": {
              "outlinewidth": 0,
              "ticks": ""
             }
            },
            "type": "parcoords"
           }
          ],
          "pie": [
           {
            "automargin": true,
            "type": "pie"
           }
          ],
          "scatter": [
           {
            "fillpattern": {
             "fillmode": "overlay",
             "size": 10,
             "solidity": 0.2
            },
            "type": "scatter"
           }
          ],
          "scatter3d": [
           {
            "line": {
             "colorbar": {
              "outlinewidth": 0,
              "ticks": ""
             }
            },
            "marker": {
             "colorbar": {
              "outlinewidth": 0,
              "ticks": ""
             }
            },
            "type": "scatter3d"
           }
          ],
          "scattercarpet": [
           {
            "marker": {
             "colorbar": {
              "outlinewidth": 0,
              "ticks": ""
             }
            },
            "type": "scattercarpet"
           }
          ],
          "scattergeo": [
           {
            "marker": {
             "colorbar": {
              "outlinewidth": 0,
              "ticks": ""
             }
            },
            "type": "scattergeo"
           }
          ],
          "scattergl": [
           {
            "marker": {
             "colorbar": {
              "outlinewidth": 0,
              "ticks": ""
             }
            },
            "type": "scattergl"
           }
          ],
          "scattermapbox": [
           {
            "marker": {
             "colorbar": {
              "outlinewidth": 0,
              "ticks": ""
             }
            },
            "type": "scattermapbox"
           }
          ],
          "scatterpolar": [
           {
            "marker": {
             "colorbar": {
              "outlinewidth": 0,
              "ticks": ""
             }
            },
            "type": "scatterpolar"
           }
          ],
          "scatterpolargl": [
           {
            "marker": {
             "colorbar": {
              "outlinewidth": 0,
              "ticks": ""
             }
            },
            "type": "scatterpolargl"
           }
          ],
          "scatterternary": [
           {
            "marker": {
             "colorbar": {
              "outlinewidth": 0,
              "ticks": ""
             }
            },
            "type": "scatterternary"
           }
          ],
          "surface": [
           {
            "colorbar": {
             "outlinewidth": 0,
             "ticks": ""
            },
            "colorscale": [
             [
              0,
              "#0d0887"
             ],
             [
              0.1111111111111111,
              "#46039f"
             ],
             [
              0.2222222222222222,
              "#7201a8"
             ],
             [
              0.3333333333333333,
              "#9c179e"
             ],
             [
              0.4444444444444444,
              "#bd3786"
             ],
             [
              0.5555555555555556,
              "#d8576b"
             ],
             [
              0.6666666666666666,
              "#ed7953"
             ],
             [
              0.7777777777777778,
              "#fb9f3a"
             ],
             [
              0.8888888888888888,
              "#fdca26"
             ],
             [
              1,
              "#f0f921"
             ]
            ],
            "type": "surface"
           }
          ],
          "table": [
           {
            "cells": {
             "fill": {
              "color": "#EBF0F8"
             },
             "line": {
              "color": "white"
             }
            },
            "header": {
             "fill": {
              "color": "#C8D4E3"
             },
             "line": {
              "color": "white"
             }
            },
            "type": "table"
           }
          ]
         },
         "layout": {
          "annotationdefaults": {
           "arrowcolor": "#2a3f5f",
           "arrowhead": 0,
           "arrowwidth": 1
          },
          "autotypenumbers": "strict",
          "coloraxis": {
           "colorbar": {
            "outlinewidth": 0,
            "ticks": ""
           }
          },
          "colorscale": {
           "diverging": [
            [
             0,
             "#8e0152"
            ],
            [
             0.1,
             "#c51b7d"
            ],
            [
             0.2,
             "#de77ae"
            ],
            [
             0.3,
             "#f1b6da"
            ],
            [
             0.4,
             "#fde0ef"
            ],
            [
             0.5,
             "#f7f7f7"
            ],
            [
             0.6,
             "#e6f5d0"
            ],
            [
             0.7,
             "#b8e186"
            ],
            [
             0.8,
             "#7fbc41"
            ],
            [
             0.9,
             "#4d9221"
            ],
            [
             1,
             "#276419"
            ]
           ],
           "sequential": [
            [
             0,
             "#0d0887"
            ],
            [
             0.1111111111111111,
             "#46039f"
            ],
            [
             0.2222222222222222,
             "#7201a8"
            ],
            [
             0.3333333333333333,
             "#9c179e"
            ],
            [
             0.4444444444444444,
             "#bd3786"
            ],
            [
             0.5555555555555556,
             "#d8576b"
            ],
            [
             0.6666666666666666,
             "#ed7953"
            ],
            [
             0.7777777777777778,
             "#fb9f3a"
            ],
            [
             0.8888888888888888,
             "#fdca26"
            ],
            [
             1,
             "#f0f921"
            ]
           ],
           "sequentialminus": [
            [
             0,
             "#0d0887"
            ],
            [
             0.1111111111111111,
             "#46039f"
            ],
            [
             0.2222222222222222,
             "#7201a8"
            ],
            [
             0.3333333333333333,
             "#9c179e"
            ],
            [
             0.4444444444444444,
             "#bd3786"
            ],
            [
             0.5555555555555556,
             "#d8576b"
            ],
            [
             0.6666666666666666,
             "#ed7953"
            ],
            [
             0.7777777777777778,
             "#fb9f3a"
            ],
            [
             0.8888888888888888,
             "#fdca26"
            ],
            [
             1,
             "#f0f921"
            ]
           ]
          },
          "colorway": [
           "#636efa",
           "#EF553B",
           "#00cc96",
           "#ab63fa",
           "#FFA15A",
           "#19d3f3",
           "#FF6692",
           "#B6E880",
           "#FF97FF",
           "#FECB52"
          ],
          "font": {
           "color": "#2a3f5f"
          },
          "geo": {
           "bgcolor": "white",
           "lakecolor": "white",
           "landcolor": "#E5ECF6",
           "showlakes": true,
           "showland": true,
           "subunitcolor": "white"
          },
          "hoverlabel": {
           "align": "left"
          },
          "hovermode": "closest",
          "mapbox": {
           "style": "light"
          },
          "paper_bgcolor": "white",
          "plot_bgcolor": "#E5ECF6",
          "polar": {
           "angularaxis": {
            "gridcolor": "white",
            "linecolor": "white",
            "ticks": ""
           },
           "bgcolor": "#E5ECF6",
           "radialaxis": {
            "gridcolor": "white",
            "linecolor": "white",
            "ticks": ""
           }
          },
          "scene": {
           "xaxis": {
            "backgroundcolor": "#E5ECF6",
            "gridcolor": "white",
            "gridwidth": 2,
            "linecolor": "white",
            "showbackground": true,
            "ticks": "",
            "zerolinecolor": "white"
           },
           "yaxis": {
            "backgroundcolor": "#E5ECF6",
            "gridcolor": "white",
            "gridwidth": 2,
            "linecolor": "white",
            "showbackground": true,
            "ticks": "",
            "zerolinecolor": "white"
           },
           "zaxis": {
            "backgroundcolor": "#E5ECF6",
            "gridcolor": "white",
            "gridwidth": 2,
            "linecolor": "white",
            "showbackground": true,
            "ticks": "",
            "zerolinecolor": "white"
           }
          },
          "shapedefaults": {
           "line": {
            "color": "#2a3f5f"
           }
          },
          "ternary": {
           "aaxis": {
            "gridcolor": "white",
            "linecolor": "white",
            "ticks": ""
           },
           "baxis": {
            "gridcolor": "white",
            "linecolor": "white",
            "ticks": ""
           },
           "bgcolor": "#E5ECF6",
           "caxis": {
            "gridcolor": "white",
            "linecolor": "white",
            "ticks": ""
           }
          },
          "title": {
           "x": 0.05
          },
          "xaxis": {
           "automargin": true,
           "gridcolor": "white",
           "linecolor": "white",
           "ticks": "",
           "title": {
            "standoff": 15
           },
           "zerolinecolor": "white",
           "zerolinewidth": 2
          },
          "yaxis": {
           "automargin": true,
           "gridcolor": "white",
           "linecolor": "white",
           "ticks": "",
           "title": {
            "standoff": 15
           },
           "zerolinecolor": "white",
           "zerolinewidth": 2
          }
         }
        },
        "title": {
         "text": "Comparison by country"
        },
        "updatemenus": [
         {
          "buttons": [
           {
            "args": [
             null,
             {
              "frame": {
               "duration": 500,
               "redraw": true
              },
              "fromcurrent": true,
              "mode": "immediate",
              "transition": {
               "duration": 500,
               "easing": "linear"
              }
             }
            ],
            "label": "&#9654;",
            "method": "animate"
           },
           {
            "args": [
             [
              null
             ],
             {
              "frame": {
               "duration": 0,
               "redraw": true
              },
              "fromcurrent": true,
              "mode": "immediate",
              "transition": {
               "duration": 0,
               "easing": "linear"
              }
             }
            ],
            "label": "&#9724;",
            "method": "animate"
           }
          ],
          "direction": "left",
          "pad": {
           "r": 10,
           "t": 70
          },
          "showactive": false,
          "type": "buttons",
          "x": 0.1,
          "xanchor": "right",
          "y": 0,
          "yanchor": "top"
         }
        ]
       }
      }
     },
     "metadata": {},
     "output_type": "display_data"
    }
   ],
   "source": [
    "import plotly.express as px\n",
    "year_country = data.groupby('year_added')['country'].value_counts().reset_index(name='counts')\n",
    "\n",
    "fig = px.choropleth(year_country2, locations=\"country\", color=\"counts\", \n",
    "                    locationmode='country names',\n",
    "                    animation_frame='year_added',\n",
    "                    range_color=[0,200],\n",
    "                    color_continuous_scale=px.colors.sequential.OrRd\n",
    "                   )\n",
    "\n",
    "fig.update_layout(title='Comparison by country')\n",
    "fig.show()"
   ]
  },
  {
   "cell_type": "code",
   "execution_count": 179,
   "metadata": {},
   "outputs": [
    {
     "name": "stdout",
     "output_type": "stream",
     "text": [
      "Movie Ratings:\n",
      "14\n",
      "\n",
      "TV Show Ratings:\n",
      "9\n"
     ]
    }
   ],
   "source": [
    "# Example movie and tv_show datasets (hypothetical)\n",
    "movie_data = {'rating': ['G','NC-17','NR', 'PG', 'PG-13', 'R', 'TV-14','TV-G','TV-MA','TV-PG','TV-Y','TV-Y7','TV-Y7-FV','UR']}\n",
    "tv_show_data = {'rating': ['NR','R','TV-Y', 'TV-G', 'TV-Y7', 'TV-Y7-FV', 'TV-14','TV-MA','TV-PG']}\n",
    "\n",
    "movie = pd.DataFrame(movie_data)\n",
    "tv_show = pd.DataFrame(tv_show_data)\n",
    "\n",
    "# Define rating order\n",
    "rating_order = ['G', 'TV-Y', 'TV-G', 'PG', 'TV-Y7', 'TV-Y7-FV', 'TV-PG', 'PG-13', 'TV-14', 'R', 'NC-17', 'TV-MA']\n",
    "\n",
    "# Calculate ratings counts with reindexing\n",
    "movie_rating = movie['rating'].nunique()\n",
    "tv_rating = tv_show['rating'].nunique()\n",
    "\n",
    "print(\"Movie Ratings:\")\n",
    "print(movie_rating)\n",
    "print(\"\\nTV Show Ratings:\")\n",
    "print(tv_rating)"
   ]
  },
  {
   "cell_type": "code",
   "execution_count": 180,
   "metadata": {},
   "outputs": [
    {
     "ename": "AttributeError",
     "evalue": "'int' object has no attribute 'index'",
     "output_type": "error",
     "traceback": [
      "\u001b[0;31m---------------------------------------------------------------------------\u001b[0m",
      "\u001b[0;31mAttributeError\u001b[0m                            Traceback (most recent call last)",
      "Cell \u001b[0;32mIn[180], line 21\u001b[0m\n\u001b[1;32m     19\u001b[0m     ax\u001b[38;5;241m.\u001b[39mset_title(\u001b[38;5;124mf\u001b[39m\u001b[38;5;124m'\u001b[39m\u001b[38;5;124mDistribution of \u001b[39m\u001b[38;5;132;01m{\u001b[39;00mtitle\u001b[38;5;132;01m}\u001b[39;00m\u001b[38;5;124m Rating\u001b[39m\u001b[38;5;124m'\u001b[39m, fontsize\u001b[38;5;241m=\u001b[39m\u001b[38;5;241m20\u001b[39m, fontweight\u001b[38;5;241m=\u001b[39m\u001b[38;5;124m'\u001b[39m\u001b[38;5;124mbold\u001b[39m\u001b[38;5;124m'\u001b[39m, position\u001b[38;5;241m=\u001b[39m(\u001b[38;5;241m0.5\u001b[39m, \u001b[38;5;241m1.0\u001b[39m\u001b[38;5;241m+\u001b[39m\u001b[38;5;241m0.03\u001b[39m))\n\u001b[1;32m     20\u001b[0m     plt\u001b[38;5;241m.\u001b[39mshow()\n\u001b[0;32m---> 21\u001b[0m rating_barplot(movie_rating,\u001b[38;5;124m'\u001b[39m\u001b[38;5;124mMovie\u001b[39m\u001b[38;5;124m'\u001b[39m, \u001b[38;5;241m1200\u001b[39m)\n\u001b[1;32m     22\u001b[0m rating_barplot(tv_rating,\u001b[38;5;124m'\u001b[39m\u001b[38;5;124mTV Show\u001b[39m\u001b[38;5;124m'\u001b[39m , \u001b[38;5;241m700\u001b[39m, \u001b[38;5;241m800\u001b[39m)\n",
      "Cell \u001b[0;32mIn[180], line 5\u001b[0m, in \u001b[0;36mrating_barplot\u001b[0;34m(data, title, height, h_lim)\u001b[0m\n\u001b[1;32m      3\u001b[0m \u001b[38;5;28;01mif\u001b[39;00m h_lim :\n\u001b[1;32m      4\u001b[0m     ax\u001b[38;5;241m.\u001b[39mset_ylim(\u001b[38;5;241m0\u001b[39m, h_lim)\n\u001b[0;32m----> 5\u001b[0m ax\u001b[38;5;241m.\u001b[39mbar(data\u001b[38;5;241m.\u001b[39mindex, data,  color\u001b[38;5;241m=\u001b[39m\u001b[38;5;124m\"\u001b[39m\u001b[38;5;124m#d0d0d0\u001b[39m\u001b[38;5;124m\"\u001b[39m, width\u001b[38;5;241m=\u001b[39m\u001b[38;5;241m0.6\u001b[39m, edgecolor\u001b[38;5;241m=\u001b[39m\u001b[38;5;124m'\u001b[39m\u001b[38;5;124mblack\u001b[39m\u001b[38;5;124m'\u001b[39m)\n\u001b[1;32m      7\u001b[0m color \u001b[38;5;241m=\u001b[39m  [\u001b[38;5;124m'\u001b[39m\u001b[38;5;124mgreen\u001b[39m\u001b[38;5;124m'\u001b[39m,  \u001b[38;5;124m'\u001b[39m\u001b[38;5;124mblue\u001b[39m\u001b[38;5;124m'\u001b[39m,  \u001b[38;5;124m'\u001b[39m\u001b[38;5;124morange\u001b[39m\u001b[38;5;124m'\u001b[39m,  \u001b[38;5;124m'\u001b[39m\u001b[38;5;124mred\u001b[39m\u001b[38;5;124m'\u001b[39m]\n\u001b[1;32m      8\u001b[0m span_range \u001b[38;5;241m=\u001b[39m [[\u001b[38;5;241m0\u001b[39m, \u001b[38;5;241m2\u001b[39m], [\u001b[38;5;241m3\u001b[39m,  \u001b[38;5;241m6\u001b[39m], [\u001b[38;5;241m7\u001b[39m, \u001b[38;5;241m8\u001b[39m], [\u001b[38;5;241m9\u001b[39m, \u001b[38;5;241m11\u001b[39m]]\n",
      "\u001b[0;31mAttributeError\u001b[0m: 'int' object has no attribute 'index'"
     ]
    },
    {
     "data": {
      "image/png": "[encoded data removed]",
      "text/plain": [
       "<Figure size 2000x1000 with 1 Axes>"
      ]
     },
     "metadata": {},
     "output_type": "display_data"
    }
   ],
   "source": [
    "def rating_barplot(data, title, height, h_lim=None):\n",
    "    fig, ax = plt.subplots(1,1, figsize=(20, 10))\n",
    "    if h_lim :\n",
    "        ax.set_ylim(0, h_lim)\n",
    "    ax.bar(data.index, data,  color=\"#d0d0d0\", width=0.6, edgecolor='black')\n",
    "\n",
    "    color =  ['green',  'blue',  'orange',  'red']\n",
    "    span_range = [[0, 2], [3,  6], [7, 8], [9, 11]]\n",
    "\n",
    "    for idx, sub_title in enumerate(['Little Kids', 'Older Kids', 'Teens', 'Mature']):\n",
    "        ax.annotate(sub_title,\n",
    "                    xy=(sum(span_range[idx])/2 ,height),\n",
    "                    xytext=(0,0), textcoords='offset points',\n",
    "                    va=\"center\", ha=\"center\",\n",
    "                    color=\"w\", fontsize=16, fontweight='bold',\n",
    "                    bbox=dict(boxstyle='round4', pad=0.4, color=color[idx], alpha=0.6))\n",
    "        ax.axvspan(span_range[idx][0]-0.4,span_range[idx][1]+0.4,  color=color[idx], alpha=0.1)\n",
    "\n",
    "    ax.set_title(f'Distribution of {title} Rating', fontsize=20, fontweight='bold', position=(0.5, 1.0+0.03))\n",
    "    plt.show()\n",
    "rating_barplot(movie_rating,'Movie', 1200)\n",
    "rating_barplot(tv_rating,'TV Show' , 700, 800)"
   ]
  },
  {
   "cell_type": "code",
   "execution_count": null,
   "metadata": {},
   "outputs": [
    {
     "data": {
      "image/png": "[encoded data removed]",
      "text/plain": [
       "<Figure size 2000x1000 with 1 Axes>"
      ]
     },
     "metadata": {},
     "output_type": "display_data"
    },
    {
     "data": {
      "image/png": "[encoded data removed]",
      "text/plain": [
       "<Figure size 2000x1000 with 1 Axes>"
      ]
     },
     "metadata": {},
     "output_type": "display_data"
    }
   ],
   "source": [
    "import pandas as pd\n",
    "import matplotlib.pyplot as plt\n",
    "\n",
    "# Example movie and tv_show data (replace with your actual data)\n",
    "movie_data = {'rating': ['G', 'PG', 'PG', 'R', 'PG-13', 'R']}\n",
    "tv_show_data = {'rating': ['TV-Y', 'TV-G', 'TV-Y7', 'TV-Y7', 'TV-14']}\n",
    "\n",
    "movie = pd.DataFrame(movie_data)\n",
    "tv_show = pd.DataFrame(tv_show_data)\n",
    "\n",
    "# Calculate ratings counts (assuming movie_rating and tv_rating are pandas Series)\n",
    "movie_rating = movie['rating'].value_counts()\n",
    "tv_rating = tv_show['rating'].value_counts()\n",
    "\n",
    "# Function definition\n",
    "def rating_barplot(data, title, height, h_lim=None):\n",
    "    fig, ax = plt.subplots(1,1, figsize=(20, 10))\n",
    "    if h_lim :\n",
    "        ax.set_ylim(0, h_lim)\n",
    "    ax.bar(data.index, data,  color=\"#d0d0d0\", width=0.6, edgecolor='black')\n",
    "\n",
    "    color = ['green', 'blue', 'orange', 'red']\n",
    "    span_range = [[0, 2], [3,  6], [7, 8], [9, 11]]\n",
    "\n",
    "    for idx, sub_title in enumerate(['Little Kids', 'Older Kids', 'Teens', 'Mature']):\n",
    "        ax.annotate(sub_title,\n",
    "                    xy=(sum(span_range[idx])/2 ,height),\n",
    "                    xytext=(0,0), textcoords='offset points',\n",
    "                    va=\"center\", ha=\"center\",\n",
    "                    color=\"w\", fontsize=16, fontweight='bold',\n",
    "                    bbox=dict(boxstyle='round4', pad=0.4, color=color[idx], alpha=0.6))\n",
    "        ax.axvspan(span_range[idx][0]-0.4,span_range[idx][1]+0.4,  color=color[idx], alpha=0.1)\n",
    "\n",
    "    ax.set_title(f'Distribution of {title} Rating', fontsize=20, fontweight='bold', position=(0.5, 1.0+0.03))\n",
    "    plt.show()\n",
    "\n",
    "# Example calls assuming movie_rating and tv_rating are pandas Series\n",
    "rating_barplot(movie_rating, 'Movie', 1200)\n",
    "rating_barplot(tv_rating, 'TV Show', 700, 800)"
   ]
  },
  {
   "cell_type": "code",
   "execution_count": null,
   "metadata": {},
   "outputs": [],
   "source": [
    "rating_barplot\n",
    "plt.show()"
   ]
  },
  {
   "cell_type": "code",
   "execution_count": null,
   "metadata": {},
   "outputs": [],
   "source": [
    "rating_data = data[['rating', 'type']].groupby('type')['rating'].value_counts().unstack().fillna(0)[rating_order].T\n",
    "rating_data = pd.DataFrame(pd.concat([rating_data['Movie'], rating_data['TV Show']])).reset_index().rename(columns={'rating':'rating',0:'cnt'})\n",
    "rating_data['type'] = rating_data.index//12\n",
    "data['tmp'] = 1\n",
    "base = alt.Chart(rating_data).transform_calculate(\n",
    "    type=alt.expr.if_(alt.datum.type == 0, 'Movie', 'TV Show')\n",
    ").properties(\n",
    "    height=300,\n",
    "    width=300\n",
    ")\n",
    "\n",
    "\n",
    "color_scale = alt.Scale(domain=['Movie', 'TV Show'], range=['skyblue', 'salmon'])\n",
    "\n",
    "left = base.transform_filter(\n",
    "    alt.datum.type == 'Movie'\n",
    ").encode(\n",
    "    y=alt.Y('rating:O', axis=None, sort=rating_order),\n",
    "    x=alt.X('cnt:Q',\n",
    "            title='population',\n",
    "            sort=alt.SortOrder('descending')),\n",
    "    color=alt.Color('type:N', scale=color_scale, legend=None)\n",
    ").mark_bar().properties(title='Movie')\n",
    "\n",
    "middle = base.encode(\n",
    "    y=alt.Y('rating', axis=None, sort=rating_order),\n",
    "    text=alt.Text('rating'),\n",
    ").mark_text().properties(width=30)\n",
    "\n",
    "right = base.transform_filter(\n",
    "    alt.datum.type == 'TV Show'\n",
    ").encode(\n",
    "    y=alt.Y('rating:O', axis=None, sort=rating_order),\n",
    "    x=alt.X('cnt:Q', title='population'),\n",
    "    color=alt.Color('type:N', scale=color_scale, legend=None)\n",
    ").mark_bar().properties(title='TV Show')\n",
    "\n",
    "alt.concat(left, middle, right, spacing=5)"
   ]
  }
 ],
 "metadata": {
  "kernelspec": {
   "display_name": "base",
   "language": "python",
   "name": "python3"
  },
  "language_info": {
   "codemirror_mode": {
    "name": "ipython",
    "version": 3
   },
   "file_extension": ".py",
   "mimetype": "text/x-python",
   "name": "python",
   "nbconvert_exporter": "python",
   "pygments_lexer": "ipython3",
   "version": "3.12.1"
  }
 },
 "nbformat": 4,
 "nbformat_minor": 2
}
