{
 "cells": [
  {
   "cell_type": "code",
   "execution_count": null,
   "metadata": {},
   "outputs": [],
   "source": [
    "import pandas as pd\n",
    "import numpy as np\n",
    "import seaborn as sns\n",
    "import matplotlib.pyplot as plt\n",
    "%matplotlib inline\n",
    "import matplotlib.image as mpimg\n",
    "import math\n",
    "import plotly.express as px\n",
    "import plotly.graph_objects as go\n",
    "\n",
    "from matplotlib.offsetbox import (TextArea, DrawingArea, OffsetImage,\n",
    "                                  AnnotationBbox)\n",
    "from plotly.colors import n_colors\n",
    "from plotly.subplots import make_subplots\n",
    "from IPython.display import Image\n",
    "from colorama import Fore, Back, Style\n",
    "y_ = Fore.YELLOW\n",
    "r_ = Fore.RED\n",
    "g_ = Fore.GREEN\n",
    "b_ = Fore.BLUE\n",
    "m_ = Fore.MAGENTA\n",
    "sr_ = Style.RESET_ALL"
   ]
  },
  {
   "cell_type": "code",
   "execution_count": null,
   "metadata": {},
   "outputs": [],
   "source": [
    "custom_colors = [\"#ff6b6b\",\"#95d5b2\",\"#a2d2ff\",\"#72efdd\"]\n",
    "customPalette = sns.set_palette(sns.color_palette(custom_colors))"
   ]
  },
  {
   "cell_type": "code",
   "execution_count": null,
   "metadata": {},
   "outputs": [],
   "source": [
    "sns.palplot(sns.color_palette(custom_colors),size=1)"
   ]
  },
  {
   "cell_type": "code",
   "execution_count": null,
   "metadata": {},
   "outputs": [],
   "source": [
    "netflix_p = sns.light_palette(custom_colors[0], reverse=True)\n",
    "sns.palplot(sns.color_palette(netflix_p),size=1)"
   ]
  },
  {
   "cell_type": "code",
   "execution_count": null,
   "metadata": {},
   "outputs": [],
   "source": [
    "hulu_p = sns.light_palette(custom_colors[1], reverse=True)\n",
    "sns.palplot(sns.color_palette(hulu_p),size=1)"
   ]
  },
  {
   "cell_type": "code",
   "execution_count": null,
   "metadata": {},
   "outputs": [],
   "source": [
    "\n",
    "prime_p = sns.light_palette(custom_colors[2], reverse=True)\n",
    "sns.palplot(sns.color_palette(prime_p),size=1)"
   ]
  },
  {
   "cell_type": "code",
   "execution_count": null,
   "metadata": {},
   "outputs": [],
   "source": [
    "disney_p = sns.dark_palette(custom_colors[3], reverse=True)\n",
    "sns.palplot(sns.color_palette(disney_p),size=1)"
   ]
  },
  {
   "cell_type": "code",
   "execution_count": null,
   "metadata": {},
   "outputs": [],
   "source": [
    "df_tv = pd.read_csv('tv_shows.csv')\n",
    "df_movies = pd.read_csv('netflix_titles.csv')"
   ]
  },
  {
   "cell_type": "code",
   "execution_count": null,
   "metadata": {},
   "outputs": [],
   "source": [
    "df_tv = df_tv.drop(['Unnamed: 0'], axis = 1) \n",
    "df_tv.head(5)"
   ]
  },
  {
   "cell_type": "code",
   "execution_count": null,
   "metadata": {},
   "outputs": [],
   "source": [
    "df_movies = df_movies.drop(['Unnamed: 0','ID'], axis = 1) \n",
    "df_movies.head(5)"
   ]
  },
  {
   "cell_type": "code",
   "execution_count": null,
   "metadata": {},
   "outputs": [],
   "source": [
    "len(df_movies['Directors'].unique())"
   ]
  },
  {
   "cell_type": "code",
   "execution_count": null,
   "metadata": {},
   "outputs": [],
   "source": [
    "len(df_movies['Genres'].unique())"
   ]
  },
  {
   "cell_type": "code",
   "execution_count": null,
   "metadata": {},
   "outputs": [],
   "source": [
    "def splitting(dataframe,col):\n",
    "    result = dataframe[col].str.get_dummies(',')\n",
    "    print('Done!')\n",
    "    return result"
   ]
  },
  {
   "cell_type": "code",
   "execution_count": null,
   "metadata": {},
   "outputs": [],
   "source": [
    "m_genres = splitting(df_movies,'Genres')\n",
    "m_lang = splitting(df_movies,'Language')"
   ]
  },
  {
   "cell_type": "code",
   "execution_count": null,
   "metadata": {},
   "outputs": [],
   "source": [
    "def val_sum(df,c):\n",
    "    return df[c].sum(axis=0)"
   ]
  },
  {
   "cell_type": "code",
   "execution_count": null,
   "metadata": {},
   "outputs": [],
   "source": [
    "val_counts = []\n",
    "dfs = [df_movies,df_tv]\n",
    "cols = ['Netflix','Hulu','Prime Video','Disney+']\n",
    "\n",
    "for x in dfs:\n",
    "    for y in cols:\n",
    "        val_counts.append(val_sum(x,y))"
   ]
  },
  {
   "cell_type": "code",
   "execution_count": null,
   "metadata": {},
   "outputs": [],
   "source": [
    "val_counts"
   ]
  },
  {
   "cell_type": "code",
   "execution_count": null,
   "metadata": {},
   "outputs": [],
   "source": [
    "def donut(i,df,sizes,title):\n",
    "    plt.subplot(i)\n",
    "    plt.pie(sizes, explode=explode, labels=labels, colors=colors,\n",
    "                autopct='%1.1f%%', shadow=True)\n",
    "\n",
    "    centre_circle = plt.Circle((0,0),0.5,color='black', fc='white',linewidth=1.25)\n",
    "    fig = plt.gcf()\n",
    "    fig.gca().add_artist(centre_circle)\n",
    "    plt.title(title)\n",
    "    plt.axis('equal')"
   ]
  },
  {
   "cell_type": "code",
   "execution_count": null,
   "metadata": {},
   "outputs": [],
   "source": [
    "fig = plt.subplots(figsize=(16, 8))\n",
    "labels = 'Netflix', 'Hulu','Prime','Disney+'\n",
    "sizes1 = [val_counts[0], val_counts[1],val_counts[2],val_counts[3]]\n",
    "sizes2 = [val_counts[4], val_counts[5],val_counts[6],val_counts[7]]\n",
    "colors = custom_colors\n",
    "explode = (0, 0, 0, 0) \n",
    "\n",
    "donut(121,df_movies,sizes1,'Movies')\n",
    "donut(122,df_tv,sizes2,'TV shows')\n",
    "plt.show()"
   ]
  },
  {
   "cell_type": "code",
   "execution_count": null,
   "metadata": {},
   "outputs": [],
   "source": [
    "fig = make_subplots(rows=1, cols=2)\n",
    "\n",
    "fig.add_trace(go.Indicator(\n",
    "    mode = \"number\",\n",
    "    value = 4113,\n",
    "    number={'font':{'color': custom_colors[2],'size':100}},\n",
    "    title = {\"text\": \"Movies<br><span style='font-size:0.8em;color:gray'>On Prime Video</span>\"},\n",
    "    domain = {'x': [0, 0.5], 'y': [0.6, 1]}))\n",
    "\n",
    "fig.add_trace(go.Indicator(\n",
    "    mode = \"number\",\n",
    "    value = 1971,\n",
    "    number={'font':{'color': custom_colors[2],'size':100}},\n",
    "    title = {\"text\": \"TV Shows<br><span style='font-size:0.8em;color:gray'>On Netflix</span>\"},\n",
    "    domain = {'x': [0.5, 1], 'y': [0, 0.4]}))\n",
    "\n",
    "fig.show()"
   ]
  },
  {
   "cell_type": "code",
   "execution_count": null,
   "metadata": {},
   "outputs": [],
   "source": [
    "df_movies['IMDb'] = df_movies['IMDb'].str.split('/').str[0]\n",
    "df_movies['Rotten Tomatoes'] = df_movies['Rotten Tomatoes'].str.split('/').str[0]\n",
    "df_tv['IMDb'] = df_tv['IMDb'].str.split('/').str[0]\n",
    "df_tv['Rotten Tomatoes'] = df_tv['Rotten Tomatoes'].str.split('/').str[0]"
   ]
  },
  {
   "cell_type": "code",
   "execution_count": null,
   "metadata": {},
   "outputs": [],
   "source": [
    "def sunburst(dataframe,platform,c):\n",
    "    dataframe=dataframe.loc[dataframe[platform] == 1]\n",
    "    dataframe=dataframe.sort_values(by='IMDb', ascending=False)\n",
    "    rating = dataframe[0:10]\n",
    "    fig =px.sunburst(\n",
    "    rating,\n",
    "    path=['Title','Genres'],\n",
    "    values='IMDb',\n",
    "    color='IMDb',\n",
    "    color_continuous_scale=c)\n",
    "    fig.show()"
   ]
  },
  {
   "cell_type": "code",
   "execution_count": null,
   "metadata": {},
   "outputs": [],
   "source": [
    "sunburst(df_movies,'Netflix','amp')"
   ]
  },
  {
   "cell_type": "code",
   "execution_count": null,
   "metadata": {},
   "outputs": [],
   "source": [
    "sunburst(df_movies,'Hulu','Blugrn')"
   ]
  },
  {
   "cell_type": "code",
   "execution_count": null,
   "metadata": {},
   "outputs": [],
   "source": [
    "sunburst(df_movies,'Prime Video','haline')"
   ]
  },
  {
   "cell_type": "code",
   "execution_count": null,
   "metadata": {},
   "outputs": [],
   "source": [
    "sunburst(df_movies,'Disney+','dense')"
   ]
  },
  {
   "cell_type": "code",
   "execution_count": null,
   "metadata": {},
   "outputs": [],
   "source": [
    "def kde(i,dataframe,platform,c):\n",
    "    plt.subplot(i)\n",
    "    dataframe=dataframe.loc[dataframe[platform] == 1]\n",
    "    sns.kdeplot(data=dataframe['Runtime'], color=custom_colors[c],shade=True)\n",
    "    plt.xlabel('Runtime in minutes', fontsize = 15)\n",
    "    plt.legend(fontsize = 15);\n",
    "    plt.subplot(i+1)\n",
    "    sns.kdeplot(data=dataframe['Year'], color=custom_colors[c],shade=True)\n",
    "    plt.xlabel('Release Year', fontsize = 15)\n",
    "    plt.legend(fontsize = 15);"
   ]
  },
  {
   "cell_type": "code",
   "execution_count": null,
   "metadata": {},
   "outputs": [],
   "source": [
    "plt.figure(figsize = (16, 8))\n",
    "\n",
    "kde(421,df_movies,'Netflix',0)\n",
    "kde(423,df_movies,'Hulu',1)\n",
    "kde(425,df_movies,'Prime Video',2)\n",
    "kde(427,df_movies,'Disney+',3)"
   ]
  },
  {
   "cell_type": "code",
   "execution_count": null,
   "metadata": {},
   "outputs": [],
   "source": [
    "post_1980 = df_movies[df_movies.Year >= 1980]\n",
    "year_movies = post_1980.groupby('Year')[['Netflix','Hulu','Prime Video','Disney+']].sum()\n",
    "\n",
    "plt.figure(figsize = (16, 8))\n",
    "sns.lineplot(x=year_movies.index,y=year_movies['Netflix'])\n",
    "sns.lineplot(x=year_movies.index,y=year_movies['Hulu'])\n",
    "sns.lineplot(x=year_movies.index,y=year_movies['Prime Video'])\n",
    "sns.lineplot(x=year_movies.index,y=year_movies['Disney+'])\n",
    "plt.xlabel('Release Year', fontsize = 15)\n",
    "plt.ylabel('Count', fontsize = 15)\n",
    "plt.show()"
   ]
  },
  {
   "cell_type": "code",
   "execution_count": null,
   "metadata": {},
   "outputs": [],
   "source": [
    "df_t = df_tv.copy()\n",
    "df_t = df_t[df_t['Age'].notna()]"
   ]
  },
  {
   "cell_type": "code",
   "execution_count": null,
   "metadata": {},
   "outputs": [],
   "source": [
    "df_t['Age']=df_t['Age'].str.replace('+','')\n",
    "df_t['Age']=df_t['Age'].str.replace('all','0')\n",
    "df_t['Age']=df_t['Age'].astype(str).astype(int)"
   ]
  },
  {
   "cell_type": "code",
   "execution_count": null,
   "metadata": {},
   "outputs": [],
   "source": [
    "def barplot(i,dataframe,platform,p):\n",
    "    plt.subplot(i)\n",
    "    dataframe=dataframe.loc[dataframe[platform] == 1]\n",
    "    dataframe = dataframe['Age'].value_counts().reset_index()\n",
    "    dataframe.columns=['age','count']\n",
    "    sns.barplot(x=\"age\", y=\"count\", data=dataframe,palette=p)\n",
    "    plt.xlabel('Age', fontsize = 15)\n",
    "    plt.ylabel(platform, fontsize = 15)"
   ]
  },
  {
   "cell_type": "code",
   "execution_count": null,
   "metadata": {},
   "outputs": [],
   "source": [
    "plt.figure(figsize = (16, 8))\n",
    "tv_age = df_t.groupby('Age')[['Netflix','Hulu','Prime Video','Disney+']].sum()\n",
    "sns.heatmap(tv_age,cmap=\"YlGnBu\")\n",
    "plt.show()"
   ]
  },
  {
   "cell_type": "code",
   "execution_count": null,
   "metadata": {},
   "outputs": [],
   "source": [
    "r = df_tv.sort_values(by='IMDb', ascending=False)\n",
    "r = r[0:20]\n",
    "r = r[['Title','IMDb','Netflix','Hulu','Prime Video','Disney+']]\n",
    "r['IMDb'] = r['IMDb'].astype(float)"
   ]
  },
  {
   "cell_type": "code",
   "execution_count": null,
   "metadata": {},
   "outputs": [],
   "source": [
    "r.style.bar(subset=[\"Netflix\"], color='#ff6b6b')\\\n",
    ".bar(subset=[\"Hulu\"], color='#95d5b2')\\\n",
    ".bar(subset=[\"Prime Video\"], color='#a2d2ff')\\\n",
    ".bar(subset=[\"Disney+\"], color='#72efdd')\\\n",
    ".bar(subset=[\"IMDb\"], color='#').background_gradient(cmap='Purples')"
   ]
  },
  {
   "cell_type": "code",
   "execution_count": null,
   "metadata": {},
   "outputs": [],
   "source": [
    "r1 = df_movies.sort_values(by='IMDb', ascending=False)\n",
    "r1 = r1[0:10]\n",
    "r1['Movies']='Movies'\n",
    "fig = px.treemap(r1, path=['Movies','Title', 'Genres','Language'], values='IMDb',color='IMDb',color_continuous_scale='Purp')\n",
    "fig.show()"
   ]
  },
  {
   "cell_type": "code",
   "execution_count": null,
   "metadata": {},
   "outputs": [],
   "source": [
    "df_m = df_movies.copy()\n",
    "df_m = df_m.dropna()\n",
    "\n",
    "df_m['Rotten Tomatoes']=df_m['Rotten Tomatoes'].str.replace('%','')\n",
    "df_m['Rotten Tomatoes']=df_m['Rotten Tomatoes'].astype(str).astype(int)\n",
    "df_m['Directors']=df_m['Directors'].astype('str')"
   ]
  },
  {
   "cell_type": "code",
   "execution_count": null,
   "metadata": {},
   "outputs": [],
   "source": [
    "df_m=df_m.sort_values(by='Rotten Tomatoes', ascending=False)\n",
    "rating = df_m[0:20]\n",
    "sns.catplot(x=\"Rotten Tomatoes\", y=\"Directors\",data=rating, palette=netflix_p,height=7,kind=\"point\");"
   ]
  },
  {
   "cell_type": "code",
   "execution_count": null,
   "metadata": {},
   "outputs": [],
   "source": [
    "def dist(i,dataframe,platform,c):\n",
    "    plt.subplot(i)\n",
    "    dataframe=dataframe.loc[dataframe[platform] == 1]\n",
    "    sns.distplot(dataframe['IMDb'], color=custom_colors[c],vertical=True)\n",
    "    \n",
    "    plt.ylabel('IMDb rating, '+platform, fontsize = 15)\n",
    "    plt.subplot(i+1)\n",
    "    sns.distplot(dataframe['Rotten Tomatoes'], color=custom_colors[c],vertical=True)\n",
    "    plt.ylabel('Rotten Tomatoes, '+platform, fontsize = 15)"
   ]
  },
  {
   "cell_type": "code",
   "execution_count": null,
   "metadata": {},
   "outputs": [],
   "source": [
    "plt.figure(figsize = (20, 20))\n",
    "\n",
    "dist(421,df_m,'Netflix',0)\n",
    "dist(423,df_m,'Hulu',1)\n",
    "dist(425,df_m,'Prime Video',2)\n",
    "dist(427,df_m,'Disney+',3)"
   ]
  },
  {
   "cell_type": "code",
   "execution_count": null,
   "metadata": {},
   "outputs": [],
   "source": [
    "df_m['Rotten Tomatoes'] = df_m['Rotten Tomatoes'].astype(float)\n",
    "df_m['IMDb'] = df_m['IMDb'].astype(float)\n",
    "\n",
    "plt.figure(figsize = (16, 8))\n",
    "sns.regplot(x = df_m['Rotten Tomatoes'],y = df_m['IMDb'],x_bins=10,marker=\"+\",color=\"#FDE74C\")\n",
    "plt.show()"
   ]
  },
  {
   "cell_type": "code",
   "execution_count": null,
   "metadata": {},
   "outputs": [],
   "source": [
    "df_l_merged = pd.concat([df_movies, m_lang], axis = 1, sort = False)\n",
    "df_g_merged = pd.concat([df_movies, m_genres], axis = 1, sort = False)"
   ]
  },
  {
   "cell_type": "code",
   "execution_count": null,
   "metadata": {},
   "outputs": [],
   "source": [
    "def bar(dataframe,platform,c):\n",
    "    dataframe=dataframe.loc[dataframe[platform] == 1]\n",
    "    val_counts = dataframe.iloc[:,15:].sum(axis=0).sort_values(ascending=False)\n",
    "    val_counts2 = pd.DataFrame(val_counts,columns=['Number of movies'])\n",
    "    return val_counts2[0:20].style.bar(subset=[\"Number of movies\",], color=c)"
   ]
  },
  {
   "cell_type": "code",
   "execution_count": null,
   "metadata": {},
   "outputs": [],
   "source": [
    "bar(df_l_merged,'Netflix','#ff6b6b')"
   ]
  },
  {
   "cell_type": "code",
   "execution_count": null,
   "metadata": {},
   "outputs": [],
   "source": [
    "bar(df_g_merged,'Netflix','#ff6b6b')"
   ]
  },
  {
   "cell_type": "code",
   "execution_count": null,
   "metadata": {},
   "outputs": [],
   "source": [
    "bar(df_l_merged,'Hulu','#95d5b2')"
   ]
  },
  {
   "cell_type": "code",
   "execution_count": null,
   "metadata": {},
   "outputs": [],
   "source": [
    "bar(df_g_merged,'Hulu','#95d5b2')"
   ]
  },
  {
   "cell_type": "code",
   "execution_count": null,
   "metadata": {},
   "outputs": [],
   "source": [
    "bar(df_l_merged,'Prime Video','#a2d2ff')"
   ]
  },
  {
   "cell_type": "code",
   "execution_count": null,
   "metadata": {},
   "outputs": [],
   "source": [
    "bar(df_g_merged,'Prime Video','#a2d2ff')"
   ]
  },
  {
   "cell_type": "code",
   "execution_count": null,
   "metadata": {},
   "outputs": [],
   "source": [
    "bar(df_l_merged,'Disney+','#72efdd')"
   ]
  },
  {
   "cell_type": "code",
   "execution_count": null,
   "metadata": {},
   "outputs": [],
   "source": [
    "bar(df_g_merged,'Disney+','#72efdd')"
   ]
  },
  {
   "cell_type": "code",
   "execution_count": null,
   "metadata": {},
   "outputs": [],
   "source": []
  }
 ],
 "metadata": {
  "kernelspec": {
   "display_name": "dev",
   "language": "python",
   "name": "python3"
  },
  "language_info": {
   "codemirror_mode": {
    "name": "ipython",
    "version": 3
   },
   "file_extension": ".py",
   "mimetype": "text/x-python",
   "name": "python",
   "nbconvert_exporter": "python",
   "pygments_lexer": "ipython3",
   "version": "3.12.2"
  }
 },
 "nbformat": 4,
 "nbformat_minor": 2
}
